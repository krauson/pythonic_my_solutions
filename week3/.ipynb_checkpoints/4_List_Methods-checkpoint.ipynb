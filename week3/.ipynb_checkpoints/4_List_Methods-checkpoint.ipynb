{
 "cells": [
  {
   "cell_type": "markdown",
   "metadata": {},
   "source": [
    "<img src=\"images/logo.jpg\" style=\"display: block; margin-left: auto; margin-right: auto;\" alt=\"לוגו של מיזם לימוד הפייתון. נחש מצויר בצבעי צהוב וכחול, הנע בין האותיות של שם הקורס: לומדים פייתון. הסלוגן המופיע מעל לשם הקורס הוא מיזם חינמי ללימוד תכנות בעברית.\">"
   ]
  },
  {
   "cell_type": "markdown",
   "metadata": {},
   "source": [
    "# <span style=\"text-align: right; direction: rtl; float: right;\">פעולות על רשימות</span>"
   ]
  },
  {
   "cell_type": "markdown",
   "metadata": {},
   "source": [
    "## <span style=\"text-align: right; direction: rtl; float: right; clear: both;\">הקדמה</span>"
   ]
  },
  {
   "cell_type": "markdown",
   "metadata": {},
   "source": [
    "<p style=\"text-align: right; direction: rtl; float: right; clear: both;\">\n",
    "    עד כה למדנו שישנם שני אופרטורים חשבוניים שעובדים על רשימות: חיבור וכפל.<br>\n",
    "    חיבור משרשר רשימה אחת לאחרת, וכפל משרשר רשימה לעצמה כמה פעמים.<br>\n",
    "    ניזכר בדוגמאות:\n",
    "</p>"
   ]
  },
  {
   "cell_type": "code",
   "execution_count": 1,
   "metadata": {},
   "outputs": [],
   "source": [
    "numbers = [1, 2]"
   ]
  },
  {
   "cell_type": "code",
   "execution_count": 2,
   "metadata": {},
   "outputs": [
    {
     "name": "stdout",
     "output_type": "stream",
     "text": [
      "[1, 2, 3, 4]\n"
     ]
    }
   ],
   "source": [
    "numbers = numbers + [3, 4]\n",
    "print(numbers)"
   ]
  },
  {
   "cell_type": "code",
   "execution_count": 3,
   "metadata": {},
   "outputs": [
    {
     "name": "stdout",
     "output_type": "stream",
     "text": [
      "[1, 2, 3, 4, 1, 2, 3, 4]\n"
     ]
    }
   ],
   "source": [
    "numbers = numbers * 2\n",
    "print(numbers)"
   ]
  },
  {
   "cell_type": "markdown",
   "metadata": {},
   "source": [
    "<p style=\"text-align: right; direction: rtl; float: right; clear: both;\">\n",
    "    למדנו גם שאפשר להשוות בין רשימות בעזרת אופרטורי השוואה, שעליהם למדנו בשיעור על ביטויים בוליאניים.\n",
    "</p>"
   ]
  },
  {
   "cell_type": "code",
   "execution_count": 4,
   "metadata": {},
   "outputs": [
    {
     "data": {
      "text/plain": [
       "False"
      ]
     },
     "execution_count": 4,
     "metadata": {},
     "output_type": "execute_result"
    }
   ],
   "source": [
    "numbers == [1, 2, 3, 4]"
   ]
  },
  {
   "cell_type": "code",
   "execution_count": 5,
   "metadata": {},
   "outputs": [
    {
     "data": {
      "text/plain": [
       "True"
      ]
     },
     "execution_count": 5,
     "metadata": {},
     "output_type": "execute_result"
    }
   ],
   "source": [
    "1 in numbers"
   ]
  },
  {
   "cell_type": "code",
   "execution_count": 6,
   "metadata": {},
   "outputs": [
    {
     "data": {
      "text/plain": [
       "False"
      ]
     },
     "execution_count": 6,
     "metadata": {},
     "output_type": "execute_result"
    }
   ],
   "source": [
    "[1, 2] in numbers"
   ]
  },
  {
   "cell_type": "markdown",
   "metadata": {},
   "source": [
    "<p style=\"text-align: right; direction: rtl; float: right; clear: both;\">\n",
    "    השבוע כבר הספקנו ללמוד על חיתוכים (Slicing), כך שיש לנו כבר ידע רב באשר לשימוש ברשימות.\n",
    "</p>"
   ]
  },
  {
   "cell_type": "code",
   "execution_count": 16,
   "metadata": {},
   "outputs": [
    {
     "name": "stdout",
     "output_type": "stream",
     "text": [
      "[1, 2, 3, 4, 1, 2, 3, 4]\n",
      "Flip the order: [4, 3, 2, 1, 4, 3, 2, 1]\n",
      "Only first 4 items: [1, 2, 3, 4]\n",
      "Only first 4 items, in reversed order:: [4, 3, 2, 1]\n"
     ]
    }
   ],
   "source": [
    "print(numbers)\n",
    "print(\"Flip the order: \" + str(numbers[::-1]))\n",
    "print(\"Only first 4 items: \" + str(numbers[:4]))\n",
    "print(\"Only first 4 items, in reversed order:: \" + str(numbers[3::-1]))"
   ]
  },
  {
   "cell_type": "markdown",
   "metadata": {},
   "source": [
    "<p style=\"text-align: right; direction: rtl; float: right; clear: both;\">\n",
    "    למרות כל הידע המועיל שצברנו עד כה, טרם נגענו בפעולות השייכות לנתונים מסוג רשימה.<br>\n",
    "    הפעולות האלו יתווספו לארגז הכלים שלנו, יקלו על כתיבת הקוד ויעשו אותו קריא יותר.\n",
    "</p>"
   ]
  },
  {
   "cell_type": "markdown",
   "metadata": {},
   "source": [
    "## <span style=\"text-align: right; direction: rtl; float: right; clear: both;\">פעולות על רשימה</span>"
   ]
  },
  {
   "cell_type": "markdown",
   "metadata": {},
   "source": [
    "<p style=\"text-align: right; direction: rtl; float: right; clear: both;\">\n",
    "נגדיר רשימה שתשמש אותנו לדוגמאות:\n",
    "</p>"
   ]
  },
  {
   "cell_type": "code",
   "execution_count": 64,
   "metadata": {},
   "outputs": [],
   "source": [
    "animals = ['pig', 'shark', 'lion']"
   ]
  },
  {
   "cell_type": "markdown",
   "metadata": {},
   "source": [
    "<p style=\"text-align: right; direction: rtl; float: right; clear: both;\">\n",
    "במהלך הרצת הדוגמאות נשים לב ש<mark>פעולות על הרשימה משפיעות ישירות על הרשימה עצמה</mark>.<br>\n",
    "זה אומר שלא נצטרך להשתמש בהשמה כדי לערוך את הרשימה שעליה אנחנו עובדים.\n",
    "</p>"
   ]
  },
  {
   "cell_type": "markdown",
   "metadata": {},
   "source": [
    "### <span style=\"text-align: right; direction: rtl; float: right; clear: both;\">הוספת איבר</span>"
   ]
  },
  {
   "cell_type": "markdown",
   "metadata": {},
   "source": [
    "<p style=\"text-align: right; direction: rtl; float: right; clear: both;\">\n",
    "רשימה היא סוג נתונים נוח לשימוש, בין היתר כיוון שניתן להוסיף לה כמה איברים שנרצה.<br>\n",
    "נוכל להוסיף איבר לסוף הרשימה באמצעות הפעולה <code>append</code>:\n",
    "</p>"
   ]
  },
  {
   "cell_type": "code",
   "execution_count": 65,
   "metadata": {},
   "outputs": [
    {
     "name": "stdout",
     "output_type": "stream",
     "text": [
      "['pig', 'shark', 'lion', 'duck']\n"
     ]
    }
   ],
   "source": [
    "animals.append('duck')\n",
    "print(animals)"
   ]
  },
  {
   "cell_type": "markdown",
   "metadata": {},
   "source": [
    "<p style=\"text-align: right; direction: rtl; float: right; clear: both;\">\n",
    "הפעולה הזו תשיג תוצאה דומה לקוד שכתבנו עד היום בדרך טיפה פחות אלגנטית:\n",
    "</p>"
   ]
  },
  {
   "cell_type": "code",
   "execution_count": 19,
   "metadata": {},
   "outputs": [
    {
     "name": "stdout",
     "output_type": "stream",
     "text": [
      "['pig', 'shark', 'lion', 'duck', 'duck']\n"
     ]
    }
   ],
   "source": [
    "animals = animals + ['duck']\n",
    "print(animals)"
   ]
  },
  {
   "cell_type": "markdown",
   "metadata": {},
   "source": [
    "<p style=\"text-align: right; direction: rtl; float: right; clear: both;\">\n",
    "שימו לב שבניגוד לשורה שמופיעה למעלה, <code>append</code> מאפשרת להוסיף בכל פעם איבר אחד בלבד.<br>\n",
    "ניסיון להעביר לפעולה <code>append</code> רשימה, נניח, יוסיף את הרשימה המשנית כולה כאיבר אחד בסוף הרשימה הראשית:\n",
    "</p>"
   ]
  },
  {
   "cell_type": "code",
   "execution_count": 20,
   "metadata": {},
   "outputs": [
    {
     "name": "stdout",
     "output_type": "stream",
     "text": [
      "['pig', 'shark', 'lion', 'duck', 'duck', ['duck', 'zebra']]\n"
     ]
    }
   ],
   "source": [
    "animals.append(['duck', 'zebra'])\n",
    "print(animals)"
   ]
  },
  {
   "cell_type": "code",
   "execution_count": 23,
   "metadata": {},
   "outputs": [
    {
     "name": "stdout",
     "output_type": "stream",
     "text": [
      "['pig', 'shark', 'lion', 'duck', 'duck', ['duck', 'zebra'], 2, 2, 2]\n"
     ]
    }
   ],
   "source": [
    "animals.append(2)\n",
    "print(animals)"
   ]
  },
  {
   "cell_type": "markdown",
   "metadata": {},
   "source": [
    "<div class=\"align-center\" style=\"display: flex; text-align: right; direction: rtl; clear: both;\">\n",
    "    <div style=\"display: flex; width: 10%; float: right; clear: both;\">\n",
    "        <img src=\"images/exercise.svg\" style=\"height: 50px !important;\" alt=\"תרגול\"> \n",
    "    </div>\n",
    "    <div style=\"width: 90%\">\n",
    "        <p style=\"text-align: right; direction: rtl; float: right; clear: both;\">\n",
    "            כתבו פונקציה שמקבלת מספר, ומחזירה רשימה של כל המספרים החיוביים הזוגיים עד אותו מספר.\n",
    "        </p>\n",
    "    </div>\n",
    "</div>"
   ]
  },
  {
   "cell_type": "code",
   "execution_count": 25,
   "metadata": {},
   "outputs": [
    {
     "name": "stdout",
     "output_type": "stream",
     "text": [
      "[0, 2, 4, 6, 8, 10, 12, 14, 16, 18, 20, 22, 24, 26, 28, 30]\n"
     ]
    }
   ],
   "source": [
    "def positive_nums(num):\n",
    "    \n",
    "    positive_list = []\n",
    "    \n",
    "    i = 0\n",
    "    \n",
    "    while i <= num:\n",
    "        \n",
    "        positive_list.append(i) \n",
    "        # positive_list = positive_list + [i] same thing different way\n",
    "        i += 2\n",
    "    \n",
    "    print(positive_list)\n",
    "    \n",
    "    \n",
    "positive_nums(30)"
   ]
  },
  {
   "cell_type": "markdown",
   "metadata": {},
   "source": [
    "### <span style=\"text-align: right; direction: rtl; float: right; clear: both;\">הסרת איבר</span>"
   ]
  },
  {
   "cell_type": "markdown",
   "metadata": {},
   "source": [
    "<p style=\"text-align: right; direction: rtl; float: right; clear: both;\">\n",
    "נוכל להסיר איבר <em>מסוף הרשימה</em> באמצעות קריאה לפעולה <code>pop</code>:\n",
    "</p>"
   ]
  },
  {
   "cell_type": "code",
   "execution_count": 26,
   "metadata": {},
   "outputs": [
    {
     "name": "stdout",
     "output_type": "stream",
     "text": [
      "['pig', 'shark', 'lion', 'duck', 'duck', ['duck', 'zebra'], 2, 2]\n"
     ]
    }
   ],
   "source": [
    "animals.pop()\n",
    "print(animals)"
   ]
  },
  {
   "cell_type": "markdown",
   "metadata": {},
   "source": [
    "<p style=\"text-align: right; direction: rtl; float: right; clear: both;\">\n",
    "הפעולה הזו תשיג תוצאה דומה לקוד שכתבנו עד היום בצורה המסורבלת הבאה:\n",
    "</p>"
   ]
  },
  {
   "cell_type": "code",
   "execution_count": 27,
   "metadata": {},
   "outputs": [
    {
     "name": "stdout",
     "output_type": "stream",
     "text": [
      "['pig', 'shark', 'lion', 'duck', 'duck', ['duck', 'zebra'], 2]\n"
     ]
    }
   ],
   "source": [
    "animals = animals[:-1]\n",
    "print(animals)"
   ]
  },
  {
   "cell_type": "markdown",
   "metadata": {},
   "source": [
    "<p style=\"text-align: right; direction: rtl; float: right; clear: both;\">\n",
    "הפעולה <code>pop</code> מחזירה את הערך שהוציאה, כך שניתן לשמור אותו בצד:\n",
    "</p>"
   ]
  },
  {
   "cell_type": "code",
   "execution_count": 28,
   "metadata": {},
   "outputs": [
    {
     "name": "stdout",
     "output_type": "stream",
     "text": [
      "2\n",
      "['pig', 'shark', 'lion', 'duck', 'duck', ['duck', 'zebra']]\n"
     ]
    }
   ],
   "source": [
    "last_animal = animals.pop()\n",
    "print(last_animal)\n",
    "print(animals)"
   ]
  },
  {
   "cell_type": "markdown",
   "metadata": {},
   "source": [
    "<p style=\"text-align: right; direction: rtl; float: right; clear: both;\">\n",
    "הפעולה גם מאפשרת לנו לבחור את המקום שממנו אנחנו מעוניינים להוציא את הערך.<br>\n",
    "נעשה זאת בעזרת העברת ארגומנט עם מיקום הערך שאנחנו רוצים להוציא מהרשימה:\n",
    "</p>"
   ]
  },
  {
   "cell_type": "code",
   "execution_count": 29,
   "metadata": {},
   "outputs": [
    {
     "name": "stdout",
     "output_type": "stream",
     "text": [
      "pig\n",
      "['shark', 'lion', 'duck', 'duck', ['duck', 'zebra']]\n"
     ]
    }
   ],
   "source": [
    "first_animal = animals.pop(0)\n",
    "print(first_animal)\n",
    "print(animals)"
   ]
  },
  {
   "cell_type": "markdown",
   "metadata": {},
   "source": [
    "<p style=\"text-align: right; direction: rtl; float: right; clear: both;\">\n",
    "כדי להסיר יותר מאיבר אחד, ייתכן שעדיין תעדיפו להשתמש בחיתוך רשימות.\n",
    "</p>"
   ]
  },
  {
   "cell_type": "markdown",
   "metadata": {},
   "source": [
    "<div class=\"align-center\" style=\"display: flex; text-align: right; direction: rtl; clear: both;\">\n",
    "    <div style=\"display: flex; width: 10%; float: right; clear: both;\">\n",
    "        <img src=\"images/exercise.svg\" style=\"height: 50px !important;\" alt=\"תרגול\"> \n",
    "    </div>\n",
    "    <div style=\"width: 90%\">\n",
    "        <p style=\"text-align: right; direction: rtl; float: right; clear: both;\">\n",
    "            כתבו פונקציה שמקבלת רשימה, ומחזירה רשימה בסדר איברים הפוך.<br>\n",
    "            השתמשו בפעולה <code>pop</code>.<br>\n",
    "            לדוגמה: אם תועבר לפונקציה הרשימה <code dir=\"ltr\" style=\"direction: ltr\">[3, 2, 1]</code>, הפונקציה תחזיר <code dir=\"ltr\" style=\"direction: ltr\">[1, 2, 3]</code>.\n",
    "        </p>\n",
    "    </div>\n",
    "</div>"
   ]
  },
  {
   "cell_type": "code",
   "execution_count": 32,
   "metadata": {},
   "outputs": [
    {
     "name": "stdout",
     "output_type": "stream",
     "text": [
      "0\n",
      "1\n",
      "2\n",
      "3\n",
      "4\n",
      "5\n",
      "[5, 4, 3, 2, 1, 0]\n"
     ]
    }
   ],
   "source": [
    "def reverse(param_list):\n",
    "    \n",
    "    rev_list = []\n",
    "    num_of_items = len(param_list)\n",
    "    \n",
    "    i = 0\n",
    "    while i < num_of_items:\n",
    "        \n",
    "        rev_list.append(param_list.pop())\n",
    "        print(i)    \n",
    "\n",
    "    return rev_list\n",
    "    \n",
    "    \n",
    "print(reverse([0 , 1 , 2 , 3 , 4 ,5]))  "
   ]
  },
  {
   "cell_type": "markdown",
   "metadata": {},
   "source": [
    "### <span style=\"text-align: right; direction: rtl; float: right; clear: both;\">הוספה של כמה איברים</span>"
   ]
  },
  {
   "cell_type": "markdown",
   "metadata": {},
   "source": [
    "<p style=\"text-align: right; direction: rtl; float: right; clear: both;\">\n",
    "נוכל להוסיף יותר מאיבר אחד בשימוש יחיד בפעולה <code>extend</code>:\n",
    "</p>"
   ]
  },
  {
   "cell_type": "code",
   "execution_count": 36,
   "metadata": {},
   "outputs": [
    {
     "name": "stdout",
     "output_type": "stream",
     "text": [
      "['shark', 'lion', 'duck', 'duck', ['duck', 'zebra'], 'duck', 'pig', 'zebra', 'duck', 'pig', 'zebra', 'duck', 'pig', 'zebra']\n"
     ]
    }
   ],
   "source": [
    "animals_to_add = ['duck', 'pig', 'zebra']\n",
    "animals.extend(animals_to_add)\n",
    "print(animals)"
   ]
  },
  {
   "cell_type": "markdown",
   "metadata": {},
   "source": [
    "<p style=\"text-align: right; direction: rtl; float: right; clear: both;\">\n",
    "במבט ראשון, הפעולה תשיג תוצאה דומה לשרשור רשימות:\n",
    "</p>"
   ]
  },
  {
   "cell_type": "code",
   "execution_count": 34,
   "metadata": {},
   "outputs": [
    {
     "name": "stdout",
     "output_type": "stream",
     "text": [
      "['shark', 'lion', 'duck', 'duck', ['duck', 'zebra'], 'duck', 'pig', 'zebra', 'duck', 'pig', 'zebra']\n"
     ]
    }
   ],
   "source": [
    "animals_to_add = ['duck', 'pig', 'zebra']\n",
    "animals = animals + animals_to_add\n",
    "print(animals)"
   ]
  },
  {
   "cell_type": "markdown",
   "metadata": {},
   "source": [
    "<p style=\"text-align: right; direction: rtl; float: right; clear: both;\">\n",
    "אבל אחד היתרונות המובהקים של <code>extend</code> הוא שניתן להעביר לה כארגומנט כל iterable שהוא.<br>\n",
    "הפעולה <code>extend</code> תפרק את ה־iterable ותוסיף כל איבר בנפרד לרשימה המקורית: \n",
    "</p>"
   ]
  },
  {
   "cell_type": "code",
   "execution_count": 35,
   "metadata": {},
   "outputs": [
    {
     "name": "stdout",
     "output_type": "stream",
     "text": [
      "['1', '2', '3', '4', '5', '6', '7', '8', '9', '10', '11']\n"
     ]
    }
   ],
   "source": [
    "string_numbers = ['1', '2', '3', '4', '5']\n",
    "string_numbers.extend('6789')  # string as argument\n",
    "string_numbers.extend(['10', '11'])  # list as argument\n",
    "print(string_numbers)"
   ]
  },
  {
   "cell_type": "markdown",
   "metadata": {},
   "source": [
    "<div class=\"align-center\" style=\"display: flex; text-align: right; direction: rtl; clear: both;\">\n",
    "    <div style=\"display: flex; width: 10%; float: right; clear: both;\">\n",
    "        <img src=\"images/exercise.svg\" style=\"height: 50px !important;\" alt=\"תרגול\"> \n",
    "    </div>\n",
    "    <div style=\"width: 90%\">\n",
    "        <p style=\"text-align: right; direction: rtl; float: right; clear: both;\">\n",
    "            כתבו פונקציה שמקבלת רשימה, ומחזירה רשימה המכילה את הרשימה המקורית, ומייד אחריה את אותה רשימה בסדר הפוך.<br>\n",
    "            לדוגמה: עבור הרשימה <code dir=\"ltr\" style=\"direction: ltr\">[1, 2, 3]</code> תוחזר הרשימה: <code dir=\"ltr\" style=\"direction: ltr\">[1, 2, 3, 3, 2, 1]</code>\n",
    "        </p>\n",
    "    </div>\n",
    "</div>"
   ]
  },
  {
   "cell_type": "code",
   "execution_count": 39,
   "metadata": {},
   "outputs": [
    {
     "name": "stdout",
     "output_type": "stream",
     "text": [
      "[1, 2, 3, 4, 4, 3, 2, 1]\n"
     ]
    }
   ],
   "source": [
    "def add_rev_list(paran_list):\n",
    "    \n",
    "        string = paran_list\n",
    "        \n",
    "        # rev_list = reverse(paran_list)\n",
    "        rev_list = paran_list[::-1]\n",
    "\n",
    "\n",
    "        string.extend(rev_list)\n",
    "        \n",
    "        return string\n",
    "    \n",
    "\n",
    "print(add_rev_list([1 , 2 , 3 , 4]))"
   ]
  },
  {
   "cell_type": "markdown",
   "metadata": {},
   "source": [
    "### <span style=\"text-align: right; direction: rtl; float: right; clear: both;\">ספירת איברים</span>"
   ]
  },
  {
   "cell_type": "markdown",
   "metadata": {},
   "source": [
    "<p style=\"text-align: right; direction: rtl; float: right; clear: both;\">\n",
    "כאן לא תמצאו הפתעות מיוחדות. הפעולה <code>count</code> מחזירה את מספר האיברים ברשימה, שזהים לאיבר שהעברתם לה כארגומנט.<br>\n",
    "נשמע לכם מוכר? נכון! למחרוזות יש פעולה עם שם זהה שעושה בדיוק אותו דבר.\n",
    "</p>"
   ]
  },
  {
   "cell_type": "code",
   "execution_count": 40,
   "metadata": {},
   "outputs": [
    {
     "name": "stdout",
     "output_type": "stream",
     "text": [
      "['shark', 'lion', 'duck', 'duck', ['duck', 'zebra'], 'duck', 'pig', 'zebra', 'duck', 'pig', 'zebra', 'duck', 'pig', 'zebra']\n",
      "I've found 3 zebras in your zoo!\n"
     ]
    }
   ],
   "source": [
    "print(animals)\n",
    "zebra_counter = animals.count('zebra')\n",
    "print(f\"I've found {zebra_counter} zebras in your zoo!\")"
   ]
  },
  {
   "cell_type": "markdown",
   "metadata": {},
   "source": [
    "### <span style=\"text-align: right; direction: rtl; float: right; clear: both;\">מציאת איבר</span>"
   ]
  },
  {
   "cell_type": "markdown",
   "metadata": {},
   "source": [
    "<p style=\"text-align: right; direction: rtl; float: right; clear: both;\">\n",
    "גם הפעולה הזו אמורה להישמע לכם מוכרת.<br>\n",
    "הפעולה <code>index</code> מוצאת את המופע הראשון של האיבר שהעברתם לה כארגומנט.<br>\n",
    "כן, גם הפעם למחרוזות יש פעולה באותו שם, שעושה בדיוק אותו דבר.\n",
    "</p>"
   ]
  },
  {
   "cell_type": "code",
   "execution_count": 41,
   "metadata": {},
   "outputs": [
    {
     "name": "stdout",
     "output_type": "stream",
     "text": [
      "['shark', 'lion', 'duck', 'duck', ['duck', 'zebra'], 'duck', 'pig', 'zebra', 'duck', 'pig', 'zebra', 'duck', 'pig', 'zebra']\n",
      "The first zebra in your zoo hides in park number 7\n"
     ]
    }
   ],
   "source": [
    "print(animals)\n",
    "zebra_finder = animals.index('zebra')\n",
    "print(f\"The first zebra in your zoo hides in park number {zebra_finder}\")"
   ]
  },
  {
   "cell_type": "markdown",
   "metadata": {},
   "source": [
    "<div class=\"align-center\" style=\"display: flex; text-align: right; direction: rtl;\">\n",
    "    <div style=\"display: flex; width: 10%; float: right; \">\n",
    "        <img src=\"images/warning.png\" style=\"height: 50px !important;\" alt=\"אזהרה!\"> \n",
    "    </div>\n",
    "    <div style=\"width: 90%\">\n",
    "        <p style=\"text-align: right; direction: rtl;\">\n",
    "            כמו בפעולת <code>index</code> על מחרוזות, גם כאן הפעולה תזרוק שגיאה אם הערך לא נמצא.\n",
    "        </p>\n",
    "    </div>\n",
    "</div>"
   ]
  },
  {
   "cell_type": "markdown",
   "metadata": {},
   "source": [
    "<div class=\"align-center\" style=\"display: flex; text-align: right; direction: rtl; clear: both;\">\n",
    "    <div style=\"display: flex; width: 10%; float: right; clear: both;\">\n",
    "        <img src=\"images/exercise.svg\" style=\"height: 50px !important;\" alt=\"תרגול\"> \n",
    "    </div>\n",
    "    <div style=\"width: 90%\">\n",
    "        <p style=\"text-align: right; direction: rtl; float: right; clear: both;\">\n",
    "            כתבו פונקציה שמקבלת רשימה, ומחזירה את מיקום המופע <em>האחרון</em> של האיבר הראשון ברשימה.<br>\n",
    "            לדוגמה, עבור הרשימה <code dir=\"ltr\" style=\"direction: ltr\">[1, 2, 3, 5, 1, 2]</code> החזירו 4, כיוון ש־1 מופיע פעם אחרונה במקום 4 ברשימה.\n",
    "        </p>\n",
    "    </div>\n",
    "</div>"
   ]
  },
  {
   "cell_type": "code",
   "execution_count": 75,
   "metadata": {},
   "outputs": [
    {
     "name": "stdout",
     "output_type": "stream",
     "text": [
      "4\n"
     ]
    }
   ],
   "source": [
    "def return_last_index(param_list):\n",
    "    \n",
    "    first_item = param_list[0]\n",
    "    counter = len(param_list) - 1\n",
    "    \n",
    "    while counter >= 0:\n",
    "        \n",
    "        if first_item == param_list.pop():\n",
    "            return counter\n",
    "        counter -= 1    \n",
    "    \n",
    "    \n",
    "    print(\"the item is not in the list\")\n",
    "    return \n",
    "    \n",
    "\n",
    "\n",
    "print(return_last_index([1, 2, 3, 5, 1, 2]))"
   ]
  },
  {
   "cell_type": "markdown",
   "metadata": {},
   "source": [
    "### <span style=\"text-align: right; direction: rtl; float: right; clear: both;\">מחיקת איבר (שוב?)</span>"
   ]
  },
  {
   "cell_type": "markdown",
   "metadata": {},
   "source": [
    "<p style=\"text-align: right; direction: rtl; float: right; clear: both;\">\n",
    "הפעם נשתמש בפעולה <code>remove</code>, שבניגוד לפעולה <code>pop</code> מוחקת איבר לפי הערך שלו ולא לפי המיקום שלו.<br>\n",
    "נשים לב שהפעולה תמחק את האיבר הראשון השווה לערך שהועבר כארגומנט, ולא את כל המופעים של אותו ערך.\n",
    "</p>"
   ]
  },
  {
   "cell_type": "code",
   "execution_count": 42,
   "metadata": {},
   "outputs": [
    {
     "name": "stdout",
     "output_type": "stream",
     "text": [
      "Animals: ['shark', 'lion', 'duck', 'duck', ['duck', 'zebra'], 'duck', 'pig', 'zebra', 'duck', 'pig', 'zebra', 'duck', 'pig', 'zebra']\n",
      "Kosher Zoo: ['shark', 'lion', 'duck', 'duck', ['duck', 'zebra'], 'duck', 'zebra', 'duck', 'zebra', 'duck', 'zebra']\n"
     ]
    }
   ],
   "source": [
    "print(f\"Animals: {animals}\")\n",
    "while 'pig' in animals:\n",
    "    animals.remove('pig')\n",
    "print(f\"Kosher Zoo: {animals}\")"
   ]
  },
  {
   "cell_type": "markdown",
   "metadata": {},
   "source": [
    "<div class=\"align-center\" style=\"display: flex; text-align: right; direction: rtl; clear: both;\">\n",
    "    <div style=\"display: flex; width: 10%; float: right; clear: both;\">\n",
    "        <img src=\"images/exercise.svg\" style=\"height: 50px !important;\" alt=\"תרגול\"> \n",
    "    </div>\n",
    "    <div style=\"width: 90%\">\n",
    "        <p style=\"text-align: right; direction: rtl; float: right; clear: both;\">\n",
    "            קבלו פונקציה שמקבלת רשימה של חיות, ומחזירה רשימה שבה אין מופעים של החיות camel, rabbit ו־pig.<br>\n",
    "            לדוגמה, עבור הרשימה: <code dir=\"ltr\" style=\"direction: ltr\">['camel', 'camel', 'dove', 'pig', 'camel']</code> תוחזר הרשימה: <code dir=\"ltr\" style=\"direction: ltr\">['dove']</code>\n",
    "        </p>\n",
    "    </div>\n",
    "</div>"
   ]
  },
  {
   "cell_type": "code",
   "execution_count": 62,
   "metadata": {},
   "outputs": [
    {
     "name": "stdout",
     "output_type": "stream",
     "text": [
      "['camel', 'camel', 'dove', 'pig', 'camel']\n",
      "['dove']\n"
     ]
    }
   ],
   "source": [
    "def remove_animals(list1):\n",
    "    \n",
    "    while 'rabbit' in list1:\n",
    "        \n",
    "        animals.remove('rabbit')\n",
    "        \n",
    "        \n",
    "    while 'camel' in list1:\n",
    "        \n",
    "        animals.remove('camel')\n",
    "        \n",
    "    while 'pig' in list1:\n",
    "        \n",
    "        animals.remove('pig')\n",
    "        \n",
    "    return list1\n",
    "        \n",
    "\n",
    "animals = ['camel', 'camel', 'dove', 'pig', 'camel']\n",
    "print(animals)\n",
    "print(remove_animals(animals))"
   ]
  },
  {
   "cell_type": "markdown",
   "metadata": {},
   "source": [
    "<!-- ### <span style=\"text-align: right; direction: rtl; float: right; clear: both;\">סידור רשימה</span> -->"
   ]
  },
  {
   "cell_type": "markdown",
   "metadata": {},
   "source": [
    "<p style=\"text-align: right; direction: rtl; float: right; clear: both;\">\n",
    "אחת הפעולות הנוחות ביותר שאפשר לבצע על רשימה היא <code>sort</code>, שמסדרת לנו את האיברים ברשימה.<br>\n",
    "אם האיברים הם מחרוזות, הרשימה תסודר בסדר לקסיקוגרפי (אלפביתי).<br>\n",
    "אם האיברים ברשימה הם מספרים (שלמים, עשרוניים או גם וגם), הרשימה תסודר מתמטית מהקטן לגדול.<br>\n",
    "אם הרשימה מורכבת מסוגים שונים של איברים שאין ביניהם הגדרת שוויון ברורה (כמו מספרים ומחרוזות), פעולת הסידור תיכשל ותזרוק שגיאה.\n",
    "</p>"
   ]
  },
  {
   "cell_type": "code",
   "execution_count": 66,
   "metadata": {},
   "outputs": [
    {
     "name": "stdout",
     "output_type": "stream",
     "text": [
      "['pig', 'shark', 'lion', 'duck']\n",
      "['duck', 'lion', 'pig', 'shark']\n"
     ]
    }
   ],
   "source": [
    "print(animals)\n",
    "animals.sort()\n",
    "print(animals)"
   ]
  },
  {
   "cell_type": "code",
   "execution_count": 67,
   "metadata": {},
   "outputs": [
    {
     "ename": "TypeError",
     "evalue": "'<' not supported between instances of 'str' and 'int'",
     "output_type": "error",
     "traceback": [
      "\u001b[1;31m---------------------------------------------------------------------------\u001b[0m",
      "\u001b[1;31mTypeError\u001b[0m                                 Traceback (most recent call last)",
      "\u001b[1;32m<ipython-input-67-bc1979a21c53>\u001b[0m in \u001b[0;36m<module>\u001b[1;34m\u001b[0m\n\u001b[0;32m      1\u001b[0m \u001b[0mstrange_list\u001b[0m \u001b[1;33m=\u001b[0m \u001b[1;33m[\u001b[0m\u001b[1;36m1\u001b[0m\u001b[1;33m,\u001b[0m \u001b[1;36m2\u001b[0m\u001b[1;33m,\u001b[0m \u001b[1;36m3\u001b[0m\u001b[1;33m,\u001b[0m \u001b[1;34m'dag maluah'\u001b[0m\u001b[1;33m]\u001b[0m\u001b[1;33m\u001b[0m\u001b[1;33m\u001b[0m\u001b[0m\n\u001b[1;32m----> 2\u001b[1;33m \u001b[0mstrange_list\u001b[0m\u001b[1;33m.\u001b[0m\u001b[0msort\u001b[0m\u001b[1;33m(\u001b[0m\u001b[1;33m)\u001b[0m\u001b[1;33m\u001b[0m\u001b[1;33m\u001b[0m\u001b[0m\n\u001b[0m",
      "\u001b[1;31mTypeError\u001b[0m: '<' not supported between instances of 'str' and 'int'"
     ]
    }
   ],
   "source": [
    "strange_list = [1, 2, 3, 'dag maluah']\n",
    "strange_list.sort()"
   ]
  },
  {
   "cell_type": "markdown",
   "metadata": {},
   "source": [
    "<div class=\"align-center\" style=\"display: flex; text-align: right; direction: rtl;\">\n",
    "    <div style=\"display: flex; width: 10%; float: right; \">\n",
    "        <img src=\"images/warning.png\" style=\"height: 50px !important;\" alt=\"אזהרה!\"> \n",
    "    </div>\n",
    "    <div style=\"width: 90%\">\n",
    "        <p style=\"text-align: right; direction: rtl;\">\n",
    "            טעות נפוצה היא השמת התוצאה של <code>sort</code> חזרה למשתנה.<br>\n",
    "            כיוון שהפעולה <code>sort</code> משנה את מיקום האיברים בתוך הרשימה ולא מחזירה ערך, השמה חזרה למשתנה תמחק את ערכו.\n",
    "        </p>\n",
    "    </div>\n",
    "</div>"
   ]
  },
  {
   "cell_type": "markdown",
   "metadata": {},
   "source": [
    "<div class=\"align-center\" style=\"display: flex; text-align: right; direction: rtl; clear: both;\">\n",
    "    <div style=\"display: flex; width: 10%; float: right; clear: both;\">\n",
    "        <img src=\"images/exercise.svg\" style=\"height: 50px !important;\" alt=\"תרגול\"> \n",
    "    </div>\n",
    "    <div style=\"width: 90%\">\n",
    "        <p style=\"text-align: right; direction: rtl; float: right; clear: both;\">\n",
    "        <strong>תרגול</strong>:\n",
    "            קבלו מהמשתמש 10 מספרים. מצאו את הערך השלישי הגדול ביותר.<br>\n",
    "            לדוגמה, עבור הקלט הבא: <code dir=\"ltr\" style=\"direction: ltr;\">5, 1, 6, 2, 3, 4, 8, 7, 10, 9</code>, החזירו 8.\n",
    "        </p>\n",
    "    </div>\n",
    "</div>"
   ]
  },
  {
   "cell_type": "markdown",
   "metadata": {},
   "source": [
    "### <span style=\"text-align: right; direction: rtl; float: right; clear: both;\">הוספת איבר במקום מסוים</span>"
   ]
  },
  {
   "cell_type": "markdown",
   "metadata": {},
   "source": [
    "<div class=\"align-center\" style=\"display: flex; text-align: right; direction: rtl; clear: both;\">\n",
    "    <div style=\"display: flex; width: 10%; float: right; clear: both;\">\n",
    "        <img src=\"images/exercise.svg\" style=\"height: 50px !important;\" alt=\"תרגול\"> \n",
    "    </div>\n",
    "    <div style=\"width: 90%\">\n",
    "        <p style=\"text-align: right; direction: rtl; float: right; clear: both;\">\n",
    "        <strong>תרגול</strong>:\n",
    "            קראו בתיעוד של פייתון על הפעולה <code>insert</code> השייכת לערכים מסוג רשימה.<br>\n",
    "            הוסיפו דג מימין לכריש (shark) שברשימת <var>animals</var>.\n",
    "        </p>\n",
    "    </div>\n",
    "</div>"
   ]
  },
  {
   "cell_type": "markdown",
   "metadata": {},
   "source": [
    "## <span style=\"text-align: right; direction: rtl; float: right;\">תרגילים נוספים</span>"
   ]
  },
  {
   "cell_type": "markdown",
   "metadata": {},
   "source": [
    "### <span style=\"text-align: right; direction: rtl; float: right; clear: both;\">חוטש</span>"
   ]
  },
  {
   "cell_type": "markdown",
   "metadata": {},
   "source": [
    "<p style=\"text-align: right; direction: rtl; float: right; clear: both;\">\n",
    "    כתבו פונקציה שמקבלת רשימה של רשימות, ומחזירה רשימה שטוחה והפוכה של כל האיברים.<br>\n",
    "    לדוגמה: עבור הרשימה <code dir=\"ltr\" style=\"direction: ltr\">[[1, 2, 3], [4, 5, 6]]</code> החזירו <code dir=\"ltr\" style=\"direction: ltr\">[6, 5, 4, 3, 2, 1]</code>.\n",
    "</p>"
   ]
  },
  {
   "cell_type": "code",
   "execution_count": 73,
   "metadata": {},
   "outputs": [
    {
     "name": "stdout",
     "output_type": "stream",
     "text": [
      "[4, 3, 2]\n"
     ]
    }
   ],
   "source": [
    "#upload 47\n",
    "\n",
    "def rev_shallow_list(param_list):\n",
    "\n",
    "    temp_list = []\n",
    "\n",
    "    i = 0\n",
    "    while i < len(param_list):\n",
    "\n",
    "        temp_list.extend(param_list[i])\n",
    "\n",
    "        i += 1\n",
    "\n",
    "    # reverse the temp list:\n",
    "\n",
    "    temp_list = temp_list[::-1]\n",
    "\n",
    "    return temp_list\n",
    "\n",
    "\n",
    "list2 = [[2 , 3 , 4]]\n",
    "list1 = [[ 1 , 2 , 3 ], [ 4, 5 , 6 ] , [ 2 , 9 ] , [ 2 ]]\n",
    "\n",
    "\n",
    "print(rev_shallow_list(list2))"
   ]
  },
  {
   "cell_type": "markdown",
   "metadata": {},
   "source": [
    "### <span style=\"text-align: right; direction: rtl; float: right; clear: both;\">רשימת תיקונים</span>"
   ]
  },
  {
   "cell_type": "markdown",
   "metadata": {},
   "source": [
    "<p style=\"text-align: right; direction: rtl; float: right; clear: both;\">\n",
    "    לפניכם קוד שמטרתו היא מציאת המספר הקטן ביותר שהמשתמש הזין.<br>\n",
    "    הכמנו בקוד 3 טעויות. מצאו אותן ותקנו אותן כך שהקוד יפעל.\n",
    "</p>"
   ]
  },
  {
   "cell_type": "code",
   "execution_count": 85,
   "metadata": {},
   "outputs": [
    {
     "name": "stdout",
     "output_type": "stream",
     "text": [
      "10\n",
      "The minimum number is 10\n"
     ]
    }
   ],
   "source": [
    "def get_minimum(numbers):\n",
    "    \n",
    "    numbers.sort()\n",
    "    print(numbers[0])\n",
    "    return numbers[0]\n",
    "\n",
    "numbers = '8, 9, 10, 11, 12 ,1'.split(', ')\n",
    "minimum_number = get_minimum(numbers)\n",
    "print(f\"The minimum number is {minimum_number}\")"
   ]
  },
  {
   "cell_type": "code",
   "execution_count": 79,
   "metadata": {},
   "outputs": [
    {
     "name": "stdout",
     "output_type": "stream",
     "text": [
      "The minimum number is 8.0\n"
     ]
    }
   ],
   "source": [
    "#upload 48\n",
    "\n",
    "def get_minimum(numbers):\n",
    "\n",
    "    i = 0\n",
    "    while i < len(numbers):\n",
    "\n",
    "        numbers[i] = float(numbers[i])\n",
    "        i += 1\n",
    "\n",
    "    numbers.sort()\n",
    "\n",
    "    return numbers[0]\n",
    "\n",
    "\n",
    "numbers = '8, 9, 10, 11, 12'.split(', ')\n",
    "minimum_number = get_minimum(numbers)\n",
    "print(f\"The minimum number is {minimum_number}\")"
   ]
  },
  {
   "cell_type": "code",
   "execution_count": 20,
   "metadata": {},
   "outputs": [
    {
     "name": "stdout",
     "output_type": "stream",
     "text": [
      "[100, 99, 31, 11, -1, -50, -50, -50]\n",
      "[100, 99, 31, 11, -1]\n",
      "['a', 'fun', 'is', 'language', 'learn', 'python', 'to']\n"
     ]
    }
   ],
   "source": [
    "def sort_num(num_list):\n",
    "    \n",
    "    num_list.sort()\n",
    "    new_list = num_list[::-1]\n",
    "    return new_list\n",
    "\n",
    "\n",
    "\n",
    "def sort_words(word_list):\n",
    "    \n",
    "    word_list.sort()\n",
    "    return word_list\n",
    "\n",
    "def remove_last_item(list1):\n",
    "    \n",
    "    last_item = list1[-1]\n",
    "    \n",
    "    while last_item in list1:\n",
    "        list1.remove(list1[-1])\n",
    "    \n",
    "    return list1\n",
    "\n",
    "def lists_return(num_list , words_list):\n",
    "    \n",
    "    list1 = num_list + words_list\n",
    "    \n",
    "    list2 = [num_list , words_list]\n",
    "    \n",
    "    list3 = [list1 , list2]\n",
    "    \n",
    "    return list3\n",
    "\n",
    "def main(num_list , words_list):\n",
    "    \n",
    "    \n",
    "\n",
    "\n",
    "\n",
    "num_list = [100 ,-50, -1 , 11 , -50 , 99,-50 ,31]\n",
    "\n",
    "\n",
    "print(sort_num(num_list))\n",
    "sorted_list = sort_num(num_list)\n",
    "print(remove_last_item(sorted_list))\n",
    "\n",
    "\n",
    "\n",
    "word_list = [\"python\", \"is\", \"a\" , \"fun\", \"language\" ,\"to\" , \"learn\"]\n",
    "print(sort_words(word_list))\n"
   ]
  }
 ],
 "metadata": {
  "kernelspec": {
   "display_name": "Python 3",
   "language": "python",
   "name": "python3"
  },
  "language_info": {
   "codemirror_mode": {
    "name": "ipython",
    "version": 3
   },
   "file_extension": ".py",
   "mimetype": "text/x-python",
   "name": "python",
   "nbconvert_exporter": "python",
   "pygments_lexer": "ipython3",
   "version": "3.7.6"
  }
 },
 "nbformat": 4,
 "nbformat_minor": 2
}
