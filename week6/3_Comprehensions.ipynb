{
 "cells": [
  {
   "cell_type": "markdown",
   "metadata": {},
   "source": [
    "<img src=\"images/logo.jpg\" style=\"display: block; margin-left: auto; margin-right: auto;\" alt=\"לוגו של מיזם לימוד הפייתון. נחש מצויר בצבעי צהוב וכחול, הנע בין האותיות של שם הקורס: לומדים פייתון. הסלוגן המופיע מעל לשם הקורס הוא מיזם חינמי ללימוד תכנות בעברית.\">"
   ]
  },
  {
   "cell_type": "markdown",
   "metadata": {},
   "source": [
    "# <span style=\"text-align: right; direction: rtl; float: right;\">Comprehensions</span>"
   ]
  },
  {
   "cell_type": "markdown",
   "metadata": {},
   "source": [
    "## <span style=\"text-align: right; direction: rtl; float: right; clear: both;\">הקדמה</span>"
   ]
  },
  {
   "cell_type": "markdown",
   "metadata": {},
   "source": [
    "<p style=\"text-align: right; direction: rtl; float: right; clear: both;\">\n",
    "    מפתחי פייתון אוהבים מאוד קוד קצר ופשוט שמנוסח היטב.<br>\n",
    "    יוצרי השפה מתמקדים פעמים רבות בלאפשר למפתחים בה לכתוב קוד בהיר ותמציתי במהירות.<br>\n",
    "    במחברת זו נלמד איך לעבור על iterable וליצור ממנו מבני נתונים מעניינים בקלות ובמהירות.\n",
    "</p>"
   ]
  },
  {
   "cell_type": "markdown",
   "metadata": {},
   "source": [
    "## <span style=\"text-align: right; direction: rtl; float: right; clear: both;\">List Comprehension</span>"
   ]
  },
  {
   "cell_type": "markdown",
   "metadata": {},
   "source": [
    "### <span style=\"text-align: right; direction: rtl; float: right; clear: both;\">עיבוד רשימות</span>"
   ]
  },
  {
   "cell_type": "markdown",
   "metadata": {},
   "source": [
    "<p style=\"text-align: right; direction: rtl; float: right; clear: both;\">\n",
    "    נתחיל במשימה פשוטה יחסית:<br>\n",
    "    בהינתן רשימת שמות, אני מעוניין להפוך את כל השמות ברשימה ליווניים.<br>\n",
    "    כידוע, אפשר להפוך כל שם ליווני על ידי הוספת ההברה <em>os</em> בסופו. לדוגמה, השם Yam ביוונית הוא Yamos.\n",
    "</p>"
   ]
  },
  {
   "cell_type": "code",
   "execution_count": 1,
   "metadata": {},
   "outputs": [],
   "source": [
    "names = ['Yam', 'Gal', 'Orpaz', 'Aviram']"
   ]
  },
  {
   "cell_type": "markdown",
   "metadata": {},
   "source": [
    "<p style=\"text-align: right; direction: rtl; float: right; clear: both;\">\n",
    "    למה אנחנו מחכים? ניצור את הרשימה החדשה:\n",
    "</p>"
   ]
  },
  {
   "cell_type": "code",
   "execution_count": 2,
   "metadata": {},
   "outputs": [],
   "source": [
    "new_names = []"
   ]
  },
  {
   "cell_type": "markdown",
   "metadata": {},
   "source": [
    "<p style=\"text-align: right; direction: rtl; float: right; clear: both;\">\n",
    "    נעבור על הרשימה הישנה בעזרת לולאת <code>for</code>, נשרשר לכל איבר \"<em>os</em>\" ונצרף את התוצאה לרשימה החדשה:\n",
    "</p>"
   ]
  },
  {
   "cell_type": "code",
   "execution_count": 3,
   "metadata": {},
   "outputs": [],
   "source": [
    "for name in names:\n",
    "    new_names.append(name + 'os')"
   ]
  },
  {
   "cell_type": "markdown",
   "metadata": {},
   "source": [
    "<p style=\"text-align: right; direction: rtl; float: right; clear: both;\">\n",
    "    כשהלולאה תסיים לרוץ, תהיה בידינו רשימה חדשה של שמות יוונים:\n",
    "</p>"
   ]
  },
  {
   "cell_type": "code",
   "execution_count": 4,
   "metadata": {},
   "outputs": [
    {
     "name": "stdout",
     "output_type": "stream",
     "text": [
      "['Yamos', 'Galos', 'Orpazos', 'Aviramos']\n"
     ]
    }
   ],
   "source": [
    "print(new_names)"
   ]
  },
  {
   "cell_type": "markdown",
   "metadata": {},
   "source": [
    "<p style=\"text-align: right; direction: rtl; float: right; clear: both;\">\n",
    "    אם נסתכל על הלולאה שיצרנו, נוכל לזהות בה ארבעה מרכיבים עיקריים.\n",
    "</p>"
   ]
  },
  {
   "cell_type": "markdown",
   "metadata": {},
   "source": [
    "<table style=\"text-align: right; direction: rtl; clear: both; font-size: 1.3rem\">\n",
    "    <caption style=\"text-align: center; direction: rtl; clear: both; font-size: 2rem; padding-bottom: 2rem;\">פירוק מרכיבי לולאת for ליצירת רשימה חדשה</caption>\n",
    "    <thead>\n",
    "        <tr>\n",
    "            <th>שם המרכיב</th>\n",
    "            <th>תיאור המרכיב</th>\n",
    "            <th>דוגמה</th>\n",
    "        </tr>\n",
    "    </thead>\n",
    "    <tbody>\n",
    "        <tr>\n",
    "            <td><span style=\"background: #073b4c; color: white; padding: 0.2em;\">ה־iterable הישן</span></td>\n",
    "            <td>אוסף הנתונים המקורי שעליו אנחנו רצים.</td>\n",
    "            <td><var>names</var></td>\n",
    "        </tr>\n",
    "        <tr>\n",
    "            <td><span style=\"background: #118ab2; color: white; padding: 0.15em;\">הערך הישן</span></td>\n",
    "            <td>משתנה הלולאה. הלייזר שמצביע בכל פעם על ערך יחיד מתוך ה־iterable הישן.</td>\n",
    "            <td><var>name</var></td>\n",
    "        </tr>\n",
    "        <tr>\n",
    "            <td><span style=\"background: #57bbad; color: white; padding: 0.15em;\">הערך החדש</span></td>\n",
    "            <td>הערך שנרצה להכניס ל־iterable שאנחנו יוצרים, בדרך כלל מושפע מהערך הישן.</td>\n",
    "            <td><code dir=\"ltr\">name + 'os'</code></td>\n",
    "        </tr>\n",
    "        <tr>\n",
    "            <td><span style=\"background: #ef476f; color: white; padding: 0.15em;\">ה־iterable החדש</span></td>\n",
    "            <td>ה־iterable שאנחנו רוצים ליצור, הערך שיתקבל בסוף הריצה.</td>\n",
    "            <td><var>new_names</var></td>\n",
    "        </tr>\n",
    "    </tbody>\n",
    "</table>"
   ]
  },
  {
   "cell_type": "markdown",
   "metadata": {},
   "source": [
    "<div class=\"align-center\" style=\"display: flex; text-align: right; direction: rtl; clear: both;\">\n",
    "    <div style=\"display: flex; width: 10%; float: right; clear: both;\">\n",
    "        <img src=\"images/exercise.svg\" style=\"height: 50px !important;\" alt=\"תרגול\"> \n",
    "    </div>\n",
    "    <div style=\"width: 70%\">\n",
    "        <p style=\"text-align: right; direction: rtl; float: right; clear: both;\">\n",
    "            השתמשו ב־<var>map</var> כדי ליצור מ־<var>names</var> רשימת שמות יווניים באותה הצורה.<br>\n",
    "        </p>\n",
    "    </div>\n",
    "    <div style=\"display: flex; width: 20%; border-right: 0.1rem solid #A5A5A5; padding: 1rem 2rem;\">\n",
    "        <p style=\"text-align: center; direction: rtl; justify-content: center; align-items: center; clear: both;\">\n",
    "            <strong>חשוב!</strong><br>\n",
    "            פתרו לפני שתמשיכו!\n",
    "        </p>\n",
    "    </div>\n",
    "</div>"
   ]
  },
  {
   "cell_type": "code",
   "execution_count": 6,
   "metadata": {},
   "outputs": [
    {
     "name": "stdout",
     "output_type": "stream",
     "text": [
      "('Yamos', 'Galos', 'Orpazos', 'Aviramos')\n"
     ]
    }
   ],
   "source": [
    "def add_os_to_str(string):\n",
    "    return string +'os'\n",
    "\n",
    "greek_names = map(add_os_to_str, names)\n",
    "print(tuple(greek_names))"
   ]
  },
  {
   "cell_type": "markdown",
   "metadata": {},
   "source": [
    "<p style=\"text-align: right; direction: rtl; float: right; clear: both;\">\n",
    "    צורת ה־<var>map</var> בפתרון שלכם הייתה אמורה להשתמש בדיוק באותם חלקי הלולאה.<br>\n",
    "    אם עדיין לא ניסיתם לפתור בעצמכם, זה הזמן לכך.<br>\n",
    "    התשובה שלכם אמורה להיראות בערך כך:\n",
    "</p>"
   ]
  },
  {
   "cell_type": "code",
   "execution_count": 7,
   "metadata": {},
   "outputs": [
    {
     "name": "stdout",
     "output_type": "stream",
     "text": [
      "['Yamos', 'Galos', 'Orpazos', 'Aviramos']\n"
     ]
    }
   ],
   "source": [
    "new_names = map(lambda name: name + 'os', names)\n",
    "print(list(new_names))"
   ]
  },
  {
   "cell_type": "markdown",
   "metadata": {},
   "source": [
    "### <span style=\"text-align: right; direction: rtl; float: right; clear: both;\">הטכניקה</span>"
   ]
  },
  {
   "cell_type": "markdown",
   "metadata": {},
   "source": [
    "<p style=\"text-align: right; direction: rtl; float: right; clear: both;\">\n",
    "    <dfn>list comprehension</dfn> היא טכניקה שמטרתה לפשט את מלאכת הרכבת הרשימה, כך שתהיה קצרה, מהירה וקריאה.<br>\n",
    "    ניגש לעניינים! אבל ראו הוזהרתם – במבט ראשון list comprehension עשוי להיראות מעט מאיים וקשה להבנה.<br>\n",
    "    הנה זה בא:\n",
    "</p>"
   ]
  },
  {
   "cell_type": "code",
   "execution_count": 8,
   "metadata": {},
   "outputs": [
    {
     "name": "stdout",
     "output_type": "stream",
     "text": [
      "['Yamos', 'Galos', 'Orpazos', 'Aviramos']\n"
     ]
    }
   ],
   "source": [
    "names = ['Yam', 'Gal', 'Orpaz', 'Aviram']\n",
    "new_names = [name + 'os' for name in names]  # list comprehension\n",
    "print(new_names)"
   ]
  },
  {
   "cell_type": "markdown",
   "metadata": {},
   "source": [
    "<p style=\"text-align: right; direction: rtl; float: right; clear: both;\">\n",
    "    הדבר הראשון שמבלבל כשנפגשים לראשונה עם list comprehension הוא סדר הקריאה המשונה:<br>\n",
    "</p>"
   ]
  },
  {
   "cell_type": "markdown",
   "metadata": {},
   "source": [
    "<ol style=\"text-align: right; direction: rtl; float: right; clear: both;\">\n",
    "    <li>list comprehension מתחיל בפתיחת סוגריים מרובעים (ומסתיים בסגירתם), שמציינים שאנחנו מעוניינים ליצור רשימה חדשה.</li>\n",
    "    <li>את מה שבתוך הסוגריים עדיף להתחיל לקרוא מהמילה <code>for</code> – נוכל לראות את הביטוי <code dir=\"ltr\">for name in names</code> שאנחנו כבר מכירים.</li>\n",
    "    <li>מייד לפני המילה <code>for</code>, נכתוב את ערכו של האיבר שאנחנו רוצים לצרף לרשימה החדשה בכל איטרציה של הלולאה.</li>\n",
    "</ol>"
   ]
  },
  {
   "cell_type": "markdown",
   "metadata": {},
   "source": [
    "<p style=\"text-align: right; direction: rtl; float: right; clear: both;\">\n",
    "    נביט בהשוואת החלקים של ה־list comprehension לחלקים של לולאת ה־<code>for</code>:\n",
    "</p>"
   ]
  },
  {
   "cell_type": "markdown",
   "metadata": {},
   "source": [
    "<figure>\n",
    "    <img src=\"images/for_vs_listcomp.png?v=2\" style=\"max-width: 500px; margin-right: auto; margin-left: auto; text-align: center;\" alt=\"לולאת ה־for שכתבנו למעלה עם המשתנה names (ה־iterable) מודגש בצבע מספר 1, המשתנה name (הערך הישן) מודגש בצבע מספר 2, הביטוי name + 'os' מודגשים בצבע 3 והמשתנה new_names (הרשימה החדשה) בצבע 4. מתחתיו לביטוי זה יש קו מקווקו, ומתחתיו הביטוי של ה־list comprehension עם אותם חלקים צבועים באותם צבעים.\"/>\n",
    "    <figcaption style=\"margin-top: 2rem; text-align: center; direction: rtl;\">השוואה בין יצירת רשימה בעזרת <code>for</code> ובעזרת list comprehension</figcaption>\n",
    "</figure>"
   ]
  },
  {
   "cell_type": "markdown",
   "metadata": {},
   "source": [
    "<p style=\"text-align: right; direction: rtl; float: right; clear: both;\">\n",
    "    list comprehension מאפשרת לשנות את הערך שנוסף לרשימה בקלות.<br>\n",
    "    מסיבה זו, מתכנתים רבים יעדיפו את הטכניקה הזו על פני שימוש ב־<var>map</var>, שבה נצטרך להשתמש ב־<code>lambda</code> ברוב המקרים.\n",
    "</p>"
   ]
  },
  {
   "cell_type": "markdown",
   "metadata": {},
   "source": [
    "<div class=\"align-center\" style=\"display: flex; text-align: right; direction: rtl; clear: both;\">\n",
    "    <div style=\"display: flex; width: 10%; float: right; clear: both;\">\n",
    "        <img src=\"images/exercise.svg\" style=\"height: 50px !important;\" alt=\"תרגול\"> \n",
    "    </div>\n",
    "    <div style=\"width: 70%\">\n",
    "        <p style=\"text-align: right; direction: rtl; float: right; clear: both;\">\n",
    "            נתונה הרשימה <code dir=\"ltr\">numbers = [1, 2, 3, 4, 5]</code>.<br>\n",
    "            השתמשו ב־list comprehension כדי ליצור בעזרתה את הרשימה <code dir=\"ltr\">[1, 4, 9, 16, 25]</code>.<br>\n",
    "            האם אפשר להשתמש בפונקציה <var>range</var> במקום ב־<var>numbers</var>?\n",
    "        </p>\n",
    "    </div>\n",
    "    <div style=\"display: flex; width: 20%; border-right: 0.1rem solid #A5A5A5; padding: 1rem 2rem;\">\n",
    "        <p style=\"text-align: center; direction: rtl; justify-content: center; align-items: center; clear: both;\">\n",
    "            <strong>חשוב!</strong><br>\n",
    "            פתרו לפני שתמשיכו!\n",
    "        </p>\n",
    "    </div>\n",
    "</div>"
   ]
  },
  {
   "cell_type": "code",
   "execution_count": 9,
   "metadata": {},
   "outputs": [
    {
     "name": "stdout",
     "output_type": "stream",
     "text": [
      "[1, 4, 9, 16, 25]\n"
     ]
    }
   ],
   "source": [
    "numbers = [1, 2, 3, 4, 5]\n",
    "\n",
    "squared_list =[num**2 for num in numbers]\n",
    "print(squared_list)"
   ]
  },
  {
   "cell_type": "markdown",
   "metadata": {},
   "source": [
    "<p style=\"text-align: right; direction: rtl; float: right; clear: both;\">\n",
    "    list comprehension הוא מבנה גמיש מאוד!<br>\n",
    "    נוכל לכתוב בערך שאנחנו מצרפים לרשימה כל ביטוי שיתחשק לנו, ואפילו לקרוא לפונקציות.<br>\n",
    "    נראה כמה דוגמאות:\n",
    "</p>"
   ]
  },
  {
   "cell_type": "code",
   "execution_count": 10,
   "metadata": {},
   "outputs": [
    {
     "name": "stdout",
     "output_type": "stream",
     "text": [
      "['kcE ynnhoJ', 'noiruG neB divaD', 'nhoJ notlE']\n"
     ]
    }
   ],
   "source": [
    "names = ['Johnny Eck', 'David Ben Gurion', 'Elton John']\n",
    "reversed_names = [name[::-1] for name in names]\n",
    "print(reversed_names)"
   ]
  },
  {
   "cell_type": "code",
   "execution_count": 11,
   "metadata": {},
   "outputs": [
    {
     "name": "stdout",
     "output_type": "stream",
     "text": [
      "[111111111, 222222222, 333333333, 444444444, 555555555, 666666666, 777777777, 888888888, 999999999]\n"
     ]
    }
   ],
   "source": [
    "reversed_names = [int(str(number) * 9) for number in range(1, 10)]\n",
    "print(reversed_names)"
   ]
  },
  {
   "cell_type": "code",
   "execution_count": 12,
   "metadata": {},
   "outputs": [
    {
     "name": "stdout",
     "output_type": "stream",
     "text": [
      "['Salar De Uyuni', 'Northern Lake Baikal', 'Kuang Si Falls']\n"
     ]
    }
   ],
   "source": [
    "places = (\n",
    "    {'name': 'salar de uyuni', 'location': 'Bolivia'},\n",
    "    {'name': 'northern lake baikal', 'location': 'Russia'},\n",
    "    {'name': 'kuang si falls', 'location': 'Laos'},\n",
    ")\n",
    "places_titles = [place['name'].title() for place in places]\n",
    "print(places_titles)"
   ]
  },
  {
   "cell_type": "code",
   "execution_count": 15,
   "metadata": {},
   "outputs": [
    {
     "ename": "SyntaxError",
     "evalue": "invalid syntax (<ipython-input-15-ca60a272f63e>, line 1)",
     "output_type": "error",
     "traceback": [
      "\u001b[1;36m  File \u001b[1;32m\"<ipython-input-15-ca60a272f63e>\"\u001b[1;36m, line \u001b[1;32m1\u001b[0m\n\u001b[1;33m    title()?\u001b[0m\n\u001b[1;37m           ^\u001b[0m\n\u001b[1;31mSyntaxError\u001b[0m\u001b[1;31m:\u001b[0m invalid syntax\n"
     ]
    }
   ],
   "source": [
    "title()?"
   ]
  },
  {
   "cell_type": "markdown",
   "metadata": {},
   "source": [
    "<div class=\"align-center\" style=\"display: flex; text-align: right; direction: rtl; clear: both;\">\n",
    "    <div style=\"display: flex; width: 10%; float: right; clear: both;\">\n",
    "        <img src=\"images/exercise.svg\" style=\"height: 50px !important;\" alt=\"תרגול\"> \n",
    "    </div>\n",
    "    <div style=\"width: 70%\">\n",
    "        <p style=\"text-align: right; direction: rtl; float: right; clear: both;\">\n",
    "            השתמשו ב־list comprehension כדי ליצור את הרשימה הבאה:<br>\n",
    "            <code dir=\"ltr\">[(1, 2), (2, 3), (3, 4), (4, 5), (5, 6)]</code>. \n",
    "        </p>\n",
    "    </div>\n",
    "    <div style=\"display: flex; width: 20%; border-right: 0.1rem solid #A5A5A5; padding: 1rem 2rem;\">\n",
    "        <p style=\"text-align: center; direction: rtl; justify-content: center; align-items: center; clear: both;\">\n",
    "            <strong>חשוב!</strong><br>\n",
    "            פתרו לפני שתמשיכו!\n",
    "        </p>\n",
    "    </div>\n",
    "</div>"
   ]
  },
  {
   "cell_type": "code",
   "execution_count": 17,
   "metadata": {},
   "outputs": [
    {
     "name": "stdout",
     "output_type": "stream",
     "text": [
      "[(1, 2), (2, 3), (3, 4), (4, 5), (5, 6)]\n"
     ]
    }
   ],
   "source": [
    "nums = [(num,num + 1) for num in range(1, 6)]\n",
    "print(nums)"
   ]
  },
  {
   "cell_type": "markdown",
   "metadata": {},
   "source": [
    "### <span style=\"text-align: right; direction: rtl; float: right; clear: both;\">תנאים</span>"
   ]
  },
  {
   "cell_type": "markdown",
   "metadata": {},
   "source": [
    "<p style=\"text-align: right; direction: rtl; float: right; clear: both;\">\n",
    "    נציג תבנית נפוצה נוספת הנוגעת לעבודה עם רשימות.<br>\n",
    "    לעיתים קרובות, נרצה להוסיף איבר לרשימה רק אם מתקיים לגביו תנאי מסוים.<br>\n",
    "    לדוגמה, ניקח מרשימת השמות הבאה רק את האנשים ששמם ארוך מתריסר תווים:\n",
    "</p>"
   ]
  },
  {
   "cell_type": "code",
   "execution_count": 18,
   "metadata": {},
   "outputs": [],
   "source": [
    "names = ['Margaret Thatcher', 'Karl Marx', \"Ze'ev Jabotinsky\", 'Bertrand Russell', 'Fidel Castro']\n",
    "long_names = []\n",
    "for name in names:\n",
    "    if len(name) > 12:\n",
    "        long_names.append(name)"
   ]
  },
  {
   "cell_type": "code",
   "execution_count": 19,
   "metadata": {},
   "outputs": [
    {
     "data": {
      "text/plain": [
       "['Margaret Thatcher', \"Ze'ev Jabotinsky\", 'Bertrand Russell']"
      ]
     },
     "execution_count": 19,
     "metadata": {},
     "output_type": "execute_result"
    }
   ],
   "source": [
    "long_names"
   ]
  },
  {
   "cell_type": "markdown",
   "metadata": {},
   "source": [
    "<div class=\"align-center\" style=\"display: flex; text-align: right; direction: rtl; clear: both;\">\n",
    "    <div style=\"display: flex; width: 10%; float: right; clear: both;\">\n",
    "        <img src=\"images/exercise.svg\" style=\"height: 50px !important;\" alt=\"תרגול\"> \n",
    "    </div>\n",
    "    <div style=\"width: 70%\">\n",
    "        <p style=\"text-align: right; direction: rtl; float: right; clear: both;\">\n",
    "            השתמשו ב־<var>filter</var> כדי ליצור מ־<var>names</var> רשימת שמות ארוכים באותה הצורה.<br>\n",
    "        </p>\n",
    "    </div>\n",
    "    <div style=\"display: flex; width: 20%; border-right: 0.1rem solid #A5A5A5; padding: 1rem 2rem;\">\n",
    "        <p style=\"text-align: center; direction: rtl; justify-content: center; align-items: center; clear: both;\">\n",
    "            <strong>חשוב!</strong><br>\n",
    "            פתרו לפני שתמשיכו!\n",
    "        </p>\n",
    "    </div>\n",
    "</div>"
   ]
  },
  {
   "cell_type": "code",
   "execution_count": 22,
   "metadata": {},
   "outputs": [
    {
     "name": "stdout",
     "output_type": "stream",
     "text": [
      "('Margaret Thatcher', \"Ze'ev Jabotinsky\", 'Bertrand Russell')\n"
     ]
    }
   ],
   "source": [
    "long_names2 = filter(lambda name: len(name) > 12, names)\n",
    "print(tuple(long_names2))"
   ]
  },
  {
   "cell_type": "markdown",
   "metadata": {},
   "source": [
    "<p style=\"text-align: right; direction: rtl; float: right; clear: both;\">\n",
    "    נפרק את הקוד הקצר שיצרנו למעלה למרכיביו:\n",
    "</p>"
   ]
  },
  {
   "cell_type": "markdown",
   "metadata": {},
   "source": [
    "<table style=\"text-align: right; direction: rtl; clear: both; font-size: 1.3rem\">\n",
    "    <caption style=\"text-align: center; direction: rtl; clear: both; font-size: 2rem; padding-bottom: 2rem;\">פירוק מרכיבי לולאת for עם התניה ליצירת רשימה חדשה</caption>\n",
    "    <thead>\n",
    "        <tr>\n",
    "            <th>שם המרכיב</th>\n",
    "            <th>תיאור המרכיב</th>\n",
    "            <th>דוגמה</th>\n",
    "        </tr>\n",
    "    </thead>\n",
    "    <tbody>\n",
    "        <tr>\n",
    "            <td><span style=\"background: #073b4c; color: white; padding: 0.2em;\">איפוס</span></td>\n",
    "            <td>אתחול הרשימה לערך ריק.</td>\n",
    "            <td><code dir=\"ltr\">long_names = []</code></td>\n",
    "        </tr>\n",
    "        <tr>\n",
    "            <td><span style=\"background: #118ab2; color: white; padding: 0.15em;\">הלולאה</span></td>\n",
    "            <td>החלק שעובר על כל האיברים ב־iterable הקיים ויוצר משתנה שאליו אפשר להתייחס.</td>\n",
    "            <td><code dir=\"ltr\">for name in names:</code></td>\n",
    "        </tr>\n",
    "        <tr>\n",
    "            <td><span style=\"background: #57bbad; color: white; padding: 0.15em;\">הבדיקה</span></td>\n",
    "            <td>התניה שבודקת אם הערך עונה על תנאי מסוים.</td>\n",
    "            <td><code dir=\"ltr\">if len(name) > 12:</code></td>\n",
    "        </tr>\n",
    "        <tr>\n",
    "            <td><span style=\"background: #ef476f; color: white; padding: 0.15em;\">הוספה</span></td>\n",
    "            <td>צירוף האיבר לרשימה החדשה, אם הוא עונה על התנאי שנקבע בבדיקה.</td>\n",
    "            <td><code dir=\"ltr\">long_names.append(name)</code></td>\n",
    "        </tr>\n",
    "    </tbody>\n",
    "</table>"
   ]
  },
  {
   "cell_type": "markdown",
   "metadata": {},
   "source": [
    "<p style=\"text-align: right; direction: rtl; float: right; clear: both;\">\n",
    "    ונלמד איך מממשים את אותו הרעיון בדיוק בעזרת list comprehension:\n",
    "</p>"
   ]
  },
  {
   "cell_type": "code",
   "execution_count": 23,
   "metadata": {},
   "outputs": [
    {
     "name": "stdout",
     "output_type": "stream",
     "text": [
      "['Margaret Thatcher', \"Ze'ev Jabotinsky\", 'Bertrand Russell']\n"
     ]
    }
   ],
   "source": [
    "names = ['Margaret Thatcher', 'Karl Marx', \"Ze'ev Jabotinsky\", 'Bertrand Russell', 'Fidel Castro']\n",
    "long_names = [name for name in names if len(name) > 12]\n",
    "print(long_names)"
   ]
  },
  {
   "cell_type": "markdown",
   "metadata": {},
   "source": [
    "<p style=\"text-align: right; direction: rtl; float: right; clear: both;\">\n",
    "    נראה שוב השוואה בין list comprehension ללולאת <code>for</code> רגילה, הפעם עם תנאי:\n",
    "</p>"
   ]
  },
  {
   "cell_type": "markdown",
   "metadata": {},
   "source": [
    "<figure>\n",
    "    <img src=\"images/for_vs_listcomp_with_if.png?v=1\" style=\"max-width: 600px; margin-right: auto; margin-left: auto; text-align: center;\" alt=\"בחלק העליון: לולאת ה־for שכתבנו למעלה. long_names = [] מודגש בצבע 1, גוף הלולאה בצבע 2, הבדיקה בצבע 3 וההוספה של האיבר לרשימה בצבע 4. בחלק התחתון: long_names = [ בצבע 1, name בצבע 2, for name in names בצבע 3, if len(name) > 12 בצבע 4, ] בצבע 1.\"/>\n",
    "    <figcaption style=\"margin-top: 2rem; text-align: center; direction: rtl;\">השוואה בין יצירת רשימה בעזרת <code>for</code> ובעזרת list comprehension</figcaption>\n",
    "</figure>"
   ]
  },
  {
   "cell_type": "markdown",
   "metadata": {},
   "source": [
    "<p style=\"text-align: right; direction: rtl; float: right; clear: both;\">\n",
    "    גם כאן יש לנו סדר קריאה משונה מעט, אך הרעיון הכללי של ה־list comprehension נשמר:<br>\n",
    "</p>"
   ]
  },
  {
   "cell_type": "markdown",
   "metadata": {},
   "source": [
    "<ol style=\"text-align: right; direction: rtl; float: right; clear: both;\">\n",
    "    <li>list comprehension מתחיל בפתיחת סוגריים מרובעים (ומסתיים בסגירתם), כדי לציין שאנחנו מעוניינים ליצור רשימה חדשה.</li>\n",
    "    <li>את מה שבתוך הסוגריים עדיף להתחיל לקרוא מהמילה <code>for</code> – נוכל לראות את הביטוי <code dir=\"ltr\">for name in names</code> שאנחנו כבר מכירים.</li>\n",
    "    <li>ממשיכים לקרוא את התנאי, אם קיים כזה. רק אם התנאי יתקיים, יתווסף האיבר לרשימה.</li>\n",
    "    <li>מייד לפני המילה <code>for</code>, נכתוב את ערכו של האיבר שאנחנו רוצים לצרף לרשימה בכל איטרציה של הלולאה.</li>\n",
    "</ol>"
   ]
  },
  {
   "cell_type": "markdown",
   "metadata": {},
   "source": [
    "<p style=\"text-align: right; direction: rtl; float: right; clear: both;\">\n",
    "    אפשר לשלב את השיטות כדי לבנות בקלילות רשימות מורכבות.<br>\n",
    "    נמצא את שמות כל הקבצים שהסיומת שלהם היא \"<em dir=\"ltr\">.html</em>\":\n",
    "</p>"
   ]
  },
  {
   "cell_type": "code",
   "execution_count": 24,
   "metadata": {},
   "outputs": [
    {
     "name": "stdout",
     "output_type": "stream",
     "text": [
      "['moshe_homepage', 'yahoo', 'python']\n"
     ]
    }
   ],
   "source": [
    "files = ['moshe_homepage.html', 'yahoo.html', 'python.html', 'shnitzel.gif']\n",
    "html_names = [file.split('.')[0] for file in files if file.endswith('.html')]\n",
    "print(html_names)"
   ]
  },
  {
   "cell_type": "markdown",
   "metadata": {},
   "source": [
    "#### <span style=\"text-align: right; direction: rtl; float: right; clear: both;\">תרגיל ביניים: טיפול שורש</span>"
   ]
  },
  {
   "cell_type": "markdown",
   "metadata": {},
   "source": [
    "<p style=\"text-align: right; direction: rtl; float: right; clear: both;\">\n",
    "    בחנות של סנדל'ה הארון קצת מבולגן.<br>\n",
    "    כשלקוח נכנס ומבקש מסנדל'ה למדוד מידה מסוימת, היא צריכה לפשפש בין אלפי המוצרים בארון, ולפעמים המידות שהיא מוצאת שם מוזרות מאוד.<br>\n",
    "    ההנחיות שסנדל'ה נתנה לנו לצורך סידור הארון שלה די פשוטות:<br>\n",
    "    התעלמו מכל מידה שיש בה תו שאינו ספרה או נקודה, והוציאו שורש רק מהמידות המספריות.<br>\n",
    "    התעלמו גם ממספרים עם יותר מנקודה אחת.\n",
    "</p>"
   ]
  },
  {
   "cell_type": "markdown",
   "metadata": {},
   "source": [
    "<p style=\"text-align: right; direction: rtl; float: right; clear: both;\">\n",
    "    לדוגמה, עבור הארון <code dir=\"ltr\">['100', '25.0', '12a', 'mEoW', '0']</code>, החזירו <samp dir=\"ltr\">[10.0, 5.0, 0.0]</samp>.<br>\n",
    "    עבור הארון <code dir=\"ltr\">['Area51', '303', '2038', 'f00b4r', '314.1']</code>, החזירו <samp dir=\"ltr\">[17.4, 45.14, 17.72]</samp>.<br>\n",
    "    (מחקנו קצת ספרות אחרי הנקודה בשביל הנראות).\n",
    "</p>"
   ]
  },
  {
   "cell_type": "markdown",
   "metadata": {},
   "source": [
    "<p style=\"text-align: right; direction: rtl; float: right; clear: both;\">\n",
    "    כתבו פונקציה בשם <var>organize_closet</var> שמקבלת רשימת ארון ומסדרת אותו.<br>\n",
    "    תוכלו לבדוק את עצמכם באמצעות הפונקציה <var>generate_closet</var> שתיצור עבורכם ארון אסלי מהחנות של סנדל'ה.\n",
    "</p>"
   ]
  },
  {
   "cell_type": "code",
   "execution_count": 51,
   "metadata": {},
   "outputs": [
    {
     "name": "stdout",
     "output_type": "stream",
     "text": [
      "['394.', '3291', '0760', '6.58', '01C8']\n"
     ]
    }
   ],
   "source": [
    "import random\n",
    "import string\n",
    "\n",
    "\n",
    "CHARACTERS = f'.{string.digits}{string.ascii_letters}'\n",
    "WEIGHTS = [1] * len(f'.{string.digits}') + [0.05] * len(string.ascii_letters)\n",
    "\n",
    "\n",
    "def generate_size(length):\n",
    "    return ''.join(random.choices(CHARACTERS, weights=WEIGHTS, k=length))\n",
    "\n",
    "\n",
    "def generate_closet(closet_size=20, shoe_size=4):\n",
    "    return [generate_size(shoe_size) for _ in range(closet_size)]\n",
    "\n",
    "\n",
    "closet = generate_closet(5)\n",
    "print(closet)"
   ]
  },
  {
   "cell_type": "code",
   "execution_count": 52,
   "metadata": {},
   "outputs": [
    {
     "data": {
      "text/plain": [
       "[19.849433241279208, 57.367238037053866, 27.568097504180443, 2.565151067676132]"
      ]
     },
     "execution_count": 52,
     "metadata": {},
     "output_type": "execute_result"
    }
   ],
   "source": [
    "import math\n",
    "\n",
    "\n",
    "def is_valid(garment):\n",
    "\n",
    "    temp = garment\n",
    "\n",
    "    if temp.count('.') <= 1:\n",
    "        dot_index = temp.find('.')\n",
    "        temp = temp[:dot_index] + temp[dot_index + 1:]\n",
    "\n",
    "        return temp.isdecimal()\n",
    "\n",
    "    else:\n",
    "        return False\n",
    "\n",
    "\n",
    "def organize_closet(closet_list):\n",
    "    \n",
    "    garment = 0\n",
    "    orgenized_closet = [math.sqrt(float(garment)) for garment in closet if is_valid(garment)]\n",
    "\n",
    "    return orgenized_closet\n",
    "\n",
    "\n",
    "organize_closet(closet)"
   ]
  },
  {
   "cell_type": "code",
   "execution_count": 15,
   "metadata": {},
   "outputs": [
    {
     "name": "stdout",
     "output_type": "stream",
     "text": [
      "[35.12833614050059, 3.5128336140500593, 7.535250493513803, 75.35250493513803]\n"
     ]
    }
   ],
   "source": [
    "#upload 103\n",
    "import math\n",
    "import random\n",
    "import string\n",
    "\n",
    "\n",
    "CHARACTERS = f'.{string.digits}{string.ascii_letters}'\n",
    "WEIGHTS = [1] * len(f'.{string.digits}') + [0.05] * len(string.ascii_letters)\n",
    "\n",
    "\n",
    "def generate_size(length):\n",
    "    return ''.join(random.choices(CHARACTERS, weights=WEIGHTS, k=length))\n",
    "\n",
    "\n",
    "def generate_closet(closet_size=20, shoe_size=4):\n",
    "    return [generate_size(shoe_size) for _ in range(closet_size)]\n",
    "\n",
    "\n",
    "# closet = generate_closet(5)\n",
    "# print(closet)\n",
    "\n",
    "closet = ['100', '25.0', '12a', 'mEoW', '0']\n",
    "closet = ['Area51', '303', '2038', 'f00b4r', '314.1']\n",
    "closet = ['1234', '12.34', '12.34.56', '12yael', 'yael', 'yael.25', '56.78', 'yA12.el', 'Ya.12.el', '5678']\n",
    "\n",
    "\n",
    "def is_valid(garment):\n",
    "    \n",
    "    if garment.isdecimal():\n",
    "        return True\n",
    "    \n",
    "    elif garment.count('.') == 1:   # in case there is one dot and the rest if numbers\n",
    "        temp = garment\n",
    "        dot_index = temp.find('.')\n",
    "        temp = temp[:dot_index] + temp[dot_index + 1:]\n",
    "        return temp.isdecimal()\n",
    "    \n",
    "    else:\n",
    "        return False\n",
    "\n",
    "\n",
    "def organize_closet(closet_list):\n",
    "    \n",
    "    orgenized_closet = [math.sqrt(float(garment)) for garment in closet if is_valid(garment)]\n",
    "\n",
    "    return orgenized_closet\n",
    "# בואי ננסה את זה: ['1234', '12.34', '12.34.56', '12yael', 'yael', 'yael.25', '56.78', 'yA12.el', 'Ya.12.el', '5678']\n",
    "# הפונקציה אמורה להחזיר את הרשימה: [35.12833614050059, 3.5128336140500593, 7.535250493513803, 75.35250493513803] עדכני מה חוזר\n",
    "\n",
    "\n",
    "print(organize_closet(closet))"
   ]
  },
  {
   "cell_type": "markdown",
   "metadata": {},
   "source": [
    "<div class=\"align-center\" style=\"display: flex; text-align: right; direction: rtl;\">\n",
    "    <div style=\"display: flex; width: 10%; \">\n",
    "        <img src=\"images/tip.png\" style=\"height: 50px !important;\" alt=\"אזהרה!\"> \n",
    "    </div>\n",
    "    <div style=\"width: 90%\">\n",
    "        <p style=\"text-align: right; direction: rtl;\">\n",
    "            בפייתון, נהוג לכנות משתנה שלא יהיה בו שימוש בעתיד כך: <code>_</code>.<br>\n",
    "            דוגמה טובה אפשר לראות בלולאה שב־<code>generate_closet</code>.\n",
    "        </p>\n",
    "    </div>\n",
    "</div>"
   ]
  },
  {
   "cell_type": "markdown",
   "metadata": {},
   "source": [
    "### <span style=\"text-align: right; direction: rtl; float: right; clear: both;\">Dictionary Comprehension ו־Set Comprehension</span>"
   ]
  },
  {
   "cell_type": "markdown",
   "metadata": {},
   "source": [
    "<p style=\"text-align: right; direction: rtl; float: right; clear: both;\">\n",
    "    מלבד <strong>list</strong> comprehension, קיימים גם <strong>set</strong> comprehension ו־<strong>dictionary</strong> comprehension שפועלים בצורה דומה.<br>\n",
    "    הרעיון בבסיסו נשאר זהה – שימוש בערכי iterable כלשהו לצורך יצירת מבנה נתונים חדש בצורה קריאה ומהירה.<br>\n",
    "    נראה דוגמה ל־dictionary comprehension שבו המפתח הוא מספר, והערך הוא אותו המספר בריבוע:\n",
    "</p>"
   ]
  },
  {
   "cell_type": "code",
   "execution_count": 54,
   "metadata": {},
   "outputs": [
    {
     "name": "stdout",
     "output_type": "stream",
     "text": [
      "{1: 1, 2: 4, 3: 9, 4: 16, 5: 25, 6: 36, 7: 49, 8: 64, 9: 81, 10: 100}\n"
     ]
    }
   ],
   "source": [
    "powers = {i: i ** 2 for i in range(1, 11)}\n",
    "print(powers)"
   ]
  },
  {
   "cell_type": "markdown",
   "metadata": {},
   "source": [
    "<p style=\"text-align: right; direction: rtl; float: right; clear: both;\">\n",
    "    בדוגמה למעלה חישבנו את הריבוע של כל אחד מעשרת המספרים החיוביים הראשונים.<br>\n",
    "    משתנה הלולאה <var>i</var> עבר על כל אחד מהמספרים בטווח שבין 1 ל־11 (לא כולל), ויצר עבור כל אחד מהם את המפתח <var>i</var>, ואת הערך <code>i ** 2</code>.<br>    \n",
    "</p>"
   ]
  },
  {
   "cell_type": "markdown",
   "metadata": {},
   "source": [
    "<p style=\"text-align: right; direction: rtl; float: right; clear: both;\">\n",
    "    ראו כיצד בעזרת התחביר העוצמתי הזה בפייתון, אנחנו יכולים ליצור מילונים מורכבים בקלות רבה.<br>\n",
    "    כל שעלינו לעשות הוא להשתמש בסוגריים מסולסלים במקום במרובעים,<br>\n",
    "    ולציין מייד אחרי פתיחת הסוגריים את הצמד שנרצה להוסיף בכל איטרציה – מפתח וערך, כשביניהם נקודתיים.\n",
    "</p>"
   ]
  },
  {
   "cell_type": "markdown",
   "metadata": {},
   "source": [
    "<p style=\"text-align: right; direction: rtl; float: right; clear: both;\">\n",
    "    בצורה דומה אפשר ליצור set comprehension:\n",
    "</p>"
   ]
  },
  {
   "cell_type": "code",
   "execution_count": 55,
   "metadata": {},
   "outputs": [
    {
     "name": "stdout",
     "output_type": "stream",
     "text": [
      "{'tell', 'all', 'the', 'percent', 'statistics', 'of', 'only'}\n",
      "<class 'set'>\n"
     ]
    }
   ],
   "source": [
    "sentence = \"99 percent of all statistics only tell 49 percent of the story.\"\n",
    "words = {word for word in sentence.lower().split() if word.isalpha()}\n",
    "print(words)\n",
    "print(type(words))"
   ]
  },
  {
   "cell_type": "markdown",
   "metadata": {},
   "source": [
    "<p style=\"text-align: right; direction: rtl; float: right; clear: both;\">\n",
    "    התחביר של set comprehension כמעט זהה לתחביר של list comprehension.<br>\n",
    "    ההבדל היחיד ביניהם הוא שב־set comprehension אנחנו משתמשים בסוגריים מסולסלים.<br>\n",
    "    ההבדל בינו לבין dictionary comprehension הוא שאנחנו משמיטים את הנקודתיים והערך, ומשאירים רק את המפתח.\n",
    "</p>"
   ]
  },
  {
   "cell_type": "markdown",
   "metadata": {},
   "source": [
    "<div class=\"align-center\" style=\"display: flex; text-align: right; direction: rtl; clear: both;\">\n",
    "    <div style=\"display: flex; width: 10%; float: right; clear: both;\">\n",
    "        <img src=\"images/exercise.svg\" style=\"height: 50px !important;\" alt=\"תרגול\"> \n",
    "    </div>\n",
    "    <div style=\"width: 70%\">\n",
    "        <p style=\"text-align: right; direction: rtl; float: right; clear: both;\">\n",
    "            מצאו כמה מהמספרים הנמוכים מ־1,000 מתחלקים ב־3 וב־7 ללא שארית.<br>\n",
    "            השתמשו ב־set comprehension.\n",
    "        </p>\n",
    "    </div>\n",
    "    <div style=\"display: flex; width: 20%; border-right: 0.1rem solid #A5A5A5; padding: 1rem 2rem;\">\n",
    "        <p style=\"text-align: center; direction: rtl; justify-content: center; align-items: center; clear: both;\">\n",
    "            <strong>חשוב!</strong><br>\n",
    "            פתרו לפני שתמשיכו!\n",
    "        </p>\n",
    "    </div>\n",
    "</div>"
   ]
  },
  {
   "cell_type": "code",
   "execution_count": 2,
   "metadata": {},
   "outputs": [
    {
     "name": "stdout",
     "output_type": "stream",
     "text": [
      "{0, 3, 6, 7, 9, 12, 14, 15, 18, 21, 24, 27, 28, 30, 33, 35, 36, 39, 42, 45, 48, 49, 51, 54, 56, 57, 60, 63, 66, 69, 70, 72, 75, 77, 78, 81, 84, 87, 90, 91, 93, 96, 98, 99, 102, 105, 108, 111, 112, 114, 117, 119, 120, 123, 126, 129, 132, 133, 135, 138, 140, 141, 144, 147, 150, 153, 154, 156, 159, 161, 162, 165, 168, 171, 174, 175, 177, 180, 182, 183, 186, 189, 192, 195, 196, 198, 201, 203, 204, 207, 210, 213, 216, 217, 219, 222, 224, 225, 228, 231, 234, 237, 238, 240, 243, 245, 246, 249, 252, 255, 258, 259, 261, 264, 266, 267, 270, 273, 276, 279, 280, 282, 285, 287, 288, 291, 294, 297, 300, 301, 303, 306, 308, 309, 312, 315, 318, 321, 322, 324, 327, 329, 330, 333, 336, 339, 342, 343, 345, 348, 350, 351, 354, 357, 360, 363, 364, 366, 369, 371, 372, 375, 378, 381, 384, 385, 387, 390, 392, 393, 396, 399, 402, 405, 406, 408, 411, 413, 414, 417, 420, 423, 426, 427, 429, 432, 434, 435, 438, 441, 444, 447, 448, 450, 453, 455, 456, 459, 462, 465, 468, 469, 471, 474, 476, 477, 480, 483, 486, 489, 490, 492, 495, 497, 498, 501, 504, 507, 510, 511, 513, 516, 518, 519, 522, 525, 528, 531, 532, 534, 537, 539, 540, 543, 546, 549, 552, 553, 555, 558, 560, 561, 564, 567, 570, 573, 574, 576, 579, 581, 582, 585, 588, 591, 594, 595, 597, 600, 602, 603, 606, 609, 612, 615, 616, 618, 621, 623, 624, 627, 630, 633, 636, 637, 639, 642, 644, 645, 648, 651, 654, 657, 658, 660, 663, 665, 666, 669, 672, 675, 678, 679, 681, 684, 686, 687, 690, 693, 696, 699, 700, 702, 705, 707, 708, 711, 714, 717, 720, 721, 723, 726, 728, 729, 732, 735, 738, 741, 742, 744, 747, 749, 750, 753, 756, 759, 762, 763, 765, 768, 770, 771, 774, 777, 780, 783, 784, 786, 789, 791, 792, 795, 798, 801, 804, 805, 807, 810, 812, 813, 816, 819, 822, 825, 826, 828, 831, 833, 834, 837, 840, 843, 846, 847, 849, 852, 854, 855, 858, 861, 864, 867, 868, 870, 873, 875, 876, 879, 882, 885, 888, 889, 891, 894, 896, 897, 900, 903, 906, 909, 910, 912, 915, 917, 918, 921, 924, 927, 930, 931, 933, 936, 938, 939, 942, 945, 948, 951, 952, 954, 957, 959, 960, 963, 966, 969, 972, 973, 975, 978, 980, 981, 984, 987, 990, 993, 994, 996, 999}\n"
     ]
    }
   ],
   "source": [
    "num_set = {num for num in range(0, 1000) if num % 3 == 0 or num % 7 == 0}\n",
    "print(num_set)"
   ]
  },
  {
   "cell_type": "markdown",
   "metadata": {},
   "source": [
    "### <span style=\"text-align: right; direction: rtl; float: right; clear: both;\">Generator Expression</span>"
   ]
  },
  {
   "cell_type": "markdown",
   "metadata": {},
   "source": [
    "<p style=\"text-align: right; direction: rtl; float: right; clear: both;\">\n",
    "    בשבוע שעבר למדנו על הכוח הטמון ב־generators.<br>\n",
    "    בזכות שמירת ערך אחד בלבד בכל פעם, generators מאפשרים לנו לכתוב תוכניות יעילות מבחינת צריכת הזיכרון.\n",
    "</p>"
   ]
  },
  {
   "cell_type": "markdown",
   "metadata": {},
   "source": [
    "<p style=\"text-align: right; direction: rtl; float: right; clear: both;\">\n",
    "    נכתוב generator פשוט שמניב עבורנו את אורכי השורות בטקסט מסוים:\n",
    "</p>"
   ]
  },
  {
   "cell_type": "code",
   "execution_count": 3,
   "metadata": {},
   "outputs": [
    {
     "name": "stdout",
     "output_type": "stream",
     "text": [
      "[14, 7, 6, 7, 8, 10, 8, 11, 8, 7, 7, 6, 5, 8, 7, 4, 6, 8, 9, 5, 8, 13, 8, 9, 11, 8, 7, 8, 6, 13, 10, 10, 8, 12, 4, 8, 6, 12, 12, 14, 12, 9, 5, 4, 7, 8, 10, 13, 9, 7, 5]\n"
     ]
    }
   ],
   "source": [
    "def get_line_lengths(text):\n",
    "    for line in text.splitlines():\n",
    "        if line.strip():  # אם השורה אינה ריקה\n",
    "            yield len(line)\n",
    "\n",
    "\n",
    "# לדוגמה\n",
    "with open('resources/states.txt') as states_file:\n",
    "    states = states_file.read()\n",
    "print(list(get_line_lengths(states)))"
   ]
  },
  {
   "cell_type": "markdown",
   "metadata": {},
   "source": [
    "<p style=\"text-align: right; direction: rtl; float: right; clear: both;\">\n",
    "    חדי העין כבר זיהו את התבנית המוכרת – יש פה <code>for</code>, מייד אחריו <code>if</code> ומייד אחריו אנחנו יוצרים איבר חדש.<br>\n",
    "    אם כך, generator expression הוא בסך הכול שם מפונפן למה שאנחנו היינו קוראים לו generator comprehension.<br>\n",
    "    נמיר את הפונקציה <var>get_line_lengths</var> ל־generator comprehension:\n",
    "</p>"
   ]
  },
  {
   "cell_type": "code",
   "execution_count": 7,
   "metadata": {},
   "outputs": [
    {
     "name": "stdout",
     "output_type": "stream",
     "text": [
      "[14, 7, 6, 7, 8, 10, 8, 11, 8, 7, 7, 6, 5, 8, 7, 4, 6, 8, 9, 5, 8, 13, 8, 9, 11, 8, 7, 8, 6, 13, 10, 10, 8, 12, 4, 8, 6, 12, 12, 14, 12, 9, 5, 4, 7, 8, 10, 13, 9, 7, 5]\n"
     ]
    }
   ],
   "source": [
    "with open('resources/states.txt') as states_file:\n",
    "    states = states_file.read()\n",
    "\n",
    "line_lengths = (len(line) for line in states.splitlines() if line.strip())\n",
    "print(list(line_lengths))"
   ]
  },
  {
   "cell_type": "markdown",
   "metadata": {},
   "source": [
    "<p style=\"text-align: right; direction: rtl; float: right; clear: both;\">\n",
    "    נעמוד על ההבדלים בין הגישות:\n",
    "</p>"
   ]
  },
  {
   "cell_type": "markdown",
   "metadata": {},
   "source": [
    "<figure>\n",
    "    <img src=\"images/generator_vs_expression.png\" style=\"max-width: 800px; margin-right: auto; margin-left: auto; text-align: center;\" alt=\"בחלק העליון: פונקציית ה־generator שכתבנו למעלה. כותרת הפונקציה מודגשת בצבע 1, גוף הלולאה בצבע 2, הבדיקה בצבע 3 והנבת האיבר בעזרת yield בצבע 4. בחלק התחתון: ה־generator expression. line_lengths = ( בצבע 1, for line in states.splitlines() בצבע 2, if line.strip() בצבע 3,  len(line) בצבע 4, ) בצבע 1.\"/>\n",
    "    <figcaption style=\"margin-top: 2rem; text-align: center; direction: rtl;\">השוואה בין יצירת generator בעזרת פונקציה ובין יצירת generator בעזרת generator expression</figcaption>\n",
    "</figure>"
   ]
  },
  {
   "cell_type": "markdown",
   "metadata": {},
   "source": [
    "<p style=\"text-align: right; direction: rtl; float: right; clear: both;\">\n",
    "    כאמור, הרעיון דומה מאוד ל־list comprehension.<br>\n",
    "    האיבר שנחזיר בכל פעם מה־generator בעזרת <code>yield</code> יהפוך ב־generator expression להיות האיבר שנמצא לפני המילה <code>for</code>.\n",
    "</p>"
   ]
  },
  {
   "cell_type": "markdown",
   "metadata": {},
   "source": [
    "<p style=\"text-align: right; direction: rtl; float: right; clear: both;\">\n",
    "    שימו לב שה־generator expression שקול לערך המוחזר לנו בקריאה לפונקציית ה־generator.<br>\n",
    "    זו נקודה שחשוב לשים עליה דגש: generator expression מחזיר generator iterator, ולא פונקציית generator.\n",
    "</p>"
   ]
  },
  {
   "cell_type": "markdown",
   "metadata": {},
   "source": [
    "<p style=\"text-align: right; direction: rtl; float: right; clear: both;\">\n",
    "    נסתכל על דוגמה נוספת ל־generator expression שמחזיר את ריבועי כל המספרים מ־1 ועד 11 (לא כולל):\n",
    "</p>"
   ]
  },
  {
   "cell_type": "code",
   "execution_count": 8,
   "metadata": {},
   "outputs": [
    {
     "name": "stdout",
     "output_type": "stream",
     "text": [
      "[1, 4, 9, 16, 25, 36, 49, 64, 81, 100]\n"
     ]
    }
   ],
   "source": [
    "squares = (number ** 2 for number in range(1, 11))\n",
    "print(list(squares))"
   ]
  },
  {
   "cell_type": "markdown",
   "metadata": {},
   "source": [
    "<p style=\"text-align: right; direction: rtl; float: right; clear: both;\">\n",
    "    בדיוק כמו ב־generator iterator רגיל, אחרי שנשתמש באיבר לא נוכל לקבל אותו שוב:\n",
    "</p>"
   ]
  },
  {
   "cell_type": "code",
   "execution_count": 9,
   "metadata": {},
   "outputs": [
    {
     "name": "stdout",
     "output_type": "stream",
     "text": [
      "[]\n"
     ]
    }
   ],
   "source": [
    "print(list(squares))"
   ]
  },
  {
   "cell_type": "markdown",
   "metadata": {},
   "source": [
    "<p style=\"text-align: right; direction: rtl; float: right; clear: both;\">\n",
    "    והפעלת <var>next</var> על generator iterator שכבר הניב את כל הערכים תקפיץ <var>StopIterator</var>: \n",
    "</p>"
   ]
  },
  {
   "cell_type": "code",
   "execution_count": 10,
   "metadata": {},
   "outputs": [
    {
     "ename": "StopIteration",
     "evalue": "",
     "output_type": "error",
     "traceback": [
      "\u001b[1;31m---------------------------------------------------------------------------\u001b[0m",
      "\u001b[1;31mStopIteration\u001b[0m                             Traceback (most recent call last)",
      "\u001b[1;32m<ipython-input-10-e7cf8d24b3b2>\u001b[0m in \u001b[0;36m<module>\u001b[1;34m\u001b[0m\n\u001b[1;32m----> 1\u001b[1;33m \u001b[0mnext\u001b[0m\u001b[1;33m(\u001b[0m\u001b[0msquares\u001b[0m\u001b[1;33m)\u001b[0m\u001b[1;33m\u001b[0m\u001b[1;33m\u001b[0m\u001b[0m\n\u001b[0m",
      "\u001b[1;31mStopIteration\u001b[0m: "
     ]
    }
   ],
   "source": [
    "next(squares)"
   ]
  },
  {
   "cell_type": "markdown",
   "metadata": {},
   "source": [
    "<p style=\"text-align: right; direction: rtl; float: right; clear: both;\">\n",
    "    ולטריק האחרון בנושא זה –<br>\n",
    "    טוב לדעת שכשמעבירים לפונקציה generator expression כפרמטר יחיד, לא צריך לעטוף אותו בסוגריים נוספים.<br>\n",
    "    לדוגמה:\n",
    "</p>"
   ]
  },
  {
   "cell_type": "code",
   "execution_count": 11,
   "metadata": {},
   "outputs": [
    {
     "data": {
      "text/plain": [
       "385"
      ]
     },
     "execution_count": 11,
     "metadata": {},
     "output_type": "execute_result"
    }
   ],
   "source": [
    "sum(number ** 2 for number in range(1, 11))"
   ]
  },
  {
   "cell_type": "markdown",
   "metadata": {},
   "source": [
    "<p style=\"text-align: right; direction: rtl; float: right; clear: both;\">\n",
    "    בדוגמה שלמעלה ה־generator comprehension יצר את כל ריבועי המספרים מ־1 ועד 11, לא כולל.<br>\n",
    "    הפונקציה <var>sum</var> השתמשה בכל ריבועי המספרים שה־generator הניב, וסכמה אותם.\n",
    "</p>"
   ]
  },
  {
   "cell_type": "markdown",
   "metadata": {},
   "source": [
    "### <span style=\"text-align: right; direction: rtl; float: right; clear: both;\">לולאות מרובות</span>"
   ]
  },
  {
   "cell_type": "markdown",
   "metadata": {},
   "source": [
    "<p style=\"text-align: right; direction: rtl; float: right; clear: both;\">\n",
    "    לפעמים נרצה לכתוב כמה לולאות מקוננות זו בתוך זו.<br>\n",
    "    לדוגמה, ליצירת כל האפשרויות שיכולות להתקבל בהטלת 2 קוביות:\n",
    "</p>"
   ]
  },
  {
   "cell_type": "code",
   "execution_count": 12,
   "metadata": {},
   "outputs": [
    {
     "name": "stdout",
     "output_type": "stream",
     "text": [
      "[(1, 1), (1, 2), (1, 3), (1, 4), (1, 5), (1, 6), (2, 1), (2, 2), (2, 3), (2, 4), (2, 5), (2, 6), (3, 1), (3, 2), (3, 3), (3, 4), (3, 5), (3, 6), (4, 1), (4, 2), (4, 3), (4, 4), (4, 5), (4, 6), (5, 1), (5, 2), (5, 3), (5, 4), (5, 5), (5, 6), (6, 1), (6, 2), (6, 3), (6, 4), (6, 5), (6, 6)]\n"
     ]
    }
   ],
   "source": [
    "dice_options = []\n",
    "for first_die in range(1, 7):\n",
    "    for second_die in range(1, 7):\n",
    "        dice_options.append((first_die, second_die))\n",
    "\n",
    "print(dice_options)"
   ]
  },
  {
   "cell_type": "markdown",
   "metadata": {},
   "source": [
    "<p style=\"text-align: right; direction: rtl; float: right; clear: both;\">\n",
    "    נוכל להפוך גם את המבנה הזה ל־list comprehension:\n",
    "</p>"
   ]
  },
  {
   "cell_type": "code",
   "execution_count": 13,
   "metadata": {},
   "outputs": [
    {
     "name": "stdout",
     "output_type": "stream",
     "text": [
      "[(1, 1), (1, 2), (1, 3), (1, 4), (1, 5), (1, 6), (2, 1), (2, 2), (2, 3), (2, 4), (2, 5), (2, 6), (3, 1), (3, 2), (3, 3), (3, 4), (3, 5), (3, 6), (4, 1), (4, 2), (4, 3), (4, 4), (4, 5), (4, 6), (5, 1), (5, 2), (5, 3), (5, 4), (5, 5), (5, 6), (6, 1), (6, 2), (6, 3), (6, 4), (6, 5), (6, 6)]\n"
     ]
    }
   ],
   "source": [
    "dice_options = [(die1, die2) for die1 in range(1, 7) for die2 in range(1, 7)]\n",
    "print(dice_options)"
   ]
  },
  {
   "cell_type": "markdown",
   "metadata": {},
   "source": [
    "<p style=\"text-align: right; direction: rtl; float: right; clear: both;\">\n",
    "    כדי להבין איך זה עובד, חשוב לזכור איך קוראים list comprehension:<br>\n",
    "    פשוט התחילו לקרוא מה־<code>for</code> הראשון, וחזרו לאיבר שאנחנו מוסיפים לרשימה בכל פעם רק בסוף.\n",
    "</p>"
   ]
  },
  {
   "cell_type": "markdown",
   "metadata": {},
   "source": [
    "<p style=\"text-align: right; direction: rtl; float: right; clear: both;\">\n",
    "    אם במשחק מוזר כלשהו נצטרך לזרוק 3 קוביות, לדוגמה, ונרצה לראות אילו אופציות יכולות להתקבל, נוכל לכתוב זאת כך:\n",
    "</p>"
   ]
  },
  {
   "cell_type": "code",
   "execution_count": 14,
   "metadata": {},
   "outputs": [
    {
     "name": "stdout",
     "output_type": "stream",
     "text": [
      "[(1, 1, 1), (1, 1, 2), (1, 1, 3), (1, 1, 4), (1, 1, 5), (1, 1, 6), (1, 2, 1), (1, 2, 2), (1, 2, 3), (1, 2, 4), (1, 2, 5), (1, 2, 6), (1, 3, 1), (1, 3, 2), (1, 3, 3), (1, 3, 4), (1, 3, 5), (1, 3, 6), (1, 4, 1), (1, 4, 2), (1, 4, 3), (1, 4, 4), (1, 4, 5), (1, 4, 6), (1, 5, 1), (1, 5, 2), (1, 5, 3), (1, 5, 4), (1, 5, 5), (1, 5, 6), (1, 6, 1), (1, 6, 2), (1, 6, 3), (1, 6, 4), (1, 6, 5), (1, 6, 6), (2, 1, 1), (2, 1, 2), (2, 1, 3), (2, 1, 4), (2, 1, 5), (2, 1, 6), (2, 2, 1), (2, 2, 2), (2, 2, 3), (2, 2, 4), (2, 2, 5), (2, 2, 6), (2, 3, 1), (2, 3, 2), (2, 3, 3), (2, 3, 4), (2, 3, 5), (2, 3, 6), (2, 4, 1), (2, 4, 2), (2, 4, 3), (2, 4, 4), (2, 4, 5), (2, 4, 6), (2, 5, 1), (2, 5, 2), (2, 5, 3), (2, 5, 4), (2, 5, 5), (2, 5, 6), (2, 6, 1), (2, 6, 2), (2, 6, 3), (2, 6, 4), (2, 6, 5), (2, 6, 6), (3, 1, 1), (3, 1, 2), (3, 1, 3), (3, 1, 4), (3, 1, 5), (3, 1, 6), (3, 2, 1), (3, 2, 2), (3, 2, 3), (3, 2, 4), (3, 2, 5), (3, 2, 6), (3, 3, 1), (3, 3, 2), (3, 3, 3), (3, 3, 4), (3, 3, 5), (3, 3, 6), (3, 4, 1), (3, 4, 2), (3, 4, 3), (3, 4, 4), (3, 4, 5), (3, 4, 6), (3, 5, 1), (3, 5, 2), (3, 5, 3), (3, 5, 4), (3, 5, 5), (3, 5, 6), (3, 6, 1), (3, 6, 2), (3, 6, 3), (3, 6, 4), (3, 6, 5), (3, 6, 6), (4, 1, 1), (4, 1, 2), (4, 1, 3), (4, 1, 4), (4, 1, 5), (4, 1, 6), (4, 2, 1), (4, 2, 2), (4, 2, 3), (4, 2, 4), (4, 2, 5), (4, 2, 6), (4, 3, 1), (4, 3, 2), (4, 3, 3), (4, 3, 4), (4, 3, 5), (4, 3, 6), (4, 4, 1), (4, 4, 2), (4, 4, 3), (4, 4, 4), (4, 4, 5), (4, 4, 6), (4, 5, 1), (4, 5, 2), (4, 5, 3), (4, 5, 4), (4, 5, 5), (4, 5, 6), (4, 6, 1), (4, 6, 2), (4, 6, 3), (4, 6, 4), (4, 6, 5), (4, 6, 6), (5, 1, 1), (5, 1, 2), (5, 1, 3), (5, 1, 4), (5, 1, 5), (5, 1, 6), (5, 2, 1), (5, 2, 2), (5, 2, 3), (5, 2, 4), (5, 2, 5), (5, 2, 6), (5, 3, 1), (5, 3, 2), (5, 3, 3), (5, 3, 4), (5, 3, 5), (5, 3, 6), (5, 4, 1), (5, 4, 2), (5, 4, 3), (5, 4, 4), (5, 4, 5), (5, 4, 6), (5, 5, 1), (5, 5, 2), (5, 5, 3), (5, 5, 4), (5, 5, 5), (5, 5, 6), (5, 6, 1), (5, 6, 2), (5, 6, 3), (5, 6, 4), (5, 6, 5), (5, 6, 6), (6, 1, 1), (6, 1, 2), (6, 1, 3), (6, 1, 4), (6, 1, 5), (6, 1, 6), (6, 2, 1), (6, 2, 2), (6, 2, 3), (6, 2, 4), (6, 2, 5), (6, 2, 6), (6, 3, 1), (6, 3, 2), (6, 3, 3), (6, 3, 4), (6, 3, 5), (6, 3, 6), (6, 4, 1), (6, 4, 2), (6, 4, 3), (6, 4, 4), (6, 4, 5), (6, 4, 6), (6, 5, 1), (6, 5, 2), (6, 5, 3), (6, 5, 4), (6, 5, 5), (6, 5, 6), (6, 6, 1), (6, 6, 2), (6, 6, 3), (6, 6, 4), (6, 6, 5), (6, 6, 6)]\n"
     ]
    }
   ],
   "source": [
    "dice_options = [\n",
    "    (die1, die2, die3)\n",
    "    for die1 in range(1, 7)\n",
    "    for die2 in range(1, 7)\n",
    "    for die3 in range(1, 7)\n",
    "]\n",
    "print(dice_options)"
   ]
  },
  {
   "cell_type": "markdown",
   "metadata": {},
   "source": [
    "<p style=\"text-align: right; direction: rtl; float: right; clear: both;\">\n",
    "    שבירת השורה בתא שלמעלה נעשתה מטעמי סגנון.<br>\n",
    "    באופן טכני, מותר לרשום את ה־list comprehension הזה בשורה אחת.\n",
    "</p>"
   ]
  },
  {
   "cell_type": "markdown",
   "metadata": {},
   "source": [
    "<div class=\"align-center\" style=\"display: flex; text-align: right; direction: rtl; clear: both;\">\n",
    "    <div style=\"display: flex; width: 10%; float: right; clear: both;\">\n",
    "        <img src=\"images/exercise.svg\" style=\"height: 50px !important;\" alt=\"תרגול\"> \n",
    "    </div>\n",
    "    <div style=\"width: 70%\">\n",
    "        <p style=\"text-align: right; direction: rtl; float: right; clear: both;\">\n",
    "            צרו פונקציית generator ו־generator expression מהדוגמה האחרונה.<br>\n",
    "        </p>\n",
    "    </div>\n",
    "    <div style=\"display: flex; width: 20%; border-right: 0.1rem solid #A5A5A5; padding: 1rem 2rem;\">\n",
    "        <p style=\"text-align: center; direction: rtl; justify-content: center; align-items: center; clear: both;\">\n",
    "            <strong>חשוב!</strong><br>\n",
    "            פתרו לפני שתמשיכו!\n",
    "        </p>\n",
    "    </div>\n",
    "</div>"
   ]
  },
  {
   "cell_type": "markdown",
   "metadata": {},
   "source": [
    "<div class=\"align-center\" style=\"display: flex; text-align: right; direction: rtl; clear: both;\">\n",
    "    <div style=\"display: flex; width: 10%; float: right; clear: both;\">\n",
    "        <img src=\"images/exercise.svg\" style=\"height: 50px !important;\" alt=\"תרגול\"> \n",
    "    </div>\n",
    "    <div style=\"width: 70%\">\n",
    "        <p style=\"text-align: right; direction: rtl; float: right; clear: both;\">\n",
    "            החסרון בדוגמה של קוביות הוא שאנחנו מקבלים בתוצאות גם את <code dir=\"ltr\">(1, 1, 6)</code> וגם את <code dir=\"ltr\">(6, 1, 1)</code> .<br>\n",
    "            האם תוכלו לפתור בעיה זו בקלות?\n",
    "        </p>\n",
    "    </div>\n",
    "    <div style=\"display: flex; width: 20%; border-right: 0.1rem solid #A5A5A5; padding: 1rem 2rem;\">\n",
    "        <p style=\"text-align: center; direction: rtl; justify-content: center; align-items: center; clear: both;\">\n",
    "            <strong>חשוב!</strong><br>\n",
    "            פתרו לפני שתמשיכו!\n",
    "        </p>\n",
    "    </div>\n",
    "</div>"
   ]
  },
  {
   "cell_type": "markdown",
   "metadata": {},
   "source": [
    "### <span style=\"text-align: right; direction: rtl; float: right; clear: both;\">נימוסין</span>"
   ]
  },
  {
   "cell_type": "markdown",
   "metadata": {},
   "source": [
    "<p style=\"text-align: right; direction: rtl; float: right; clear: both;\">\n",
    "    הטכניקות שלמדנו במחברת זו מפקידות בידינו כוח רב, אך כמו שאומר הדוד בן, \"עם כוח גדול באה אחריות גדולה\".<br>\n",
    "    עלינו לזכור תמיד שהמטרה של הטכניקות הללו בסופו של דבר היא להפוך את הקוד לקריא יותר.\n",
    "</p>\n",
    "\n",
    "<p style=\"text-align: right; direction: rtl; float: right; clear: both;\">\n",
    "    לעיתים קרובות מתכנתים לא מנוסים ישתמשו בטכניקות שנלמדו במחברת זו כדי לבנות מבנים מורכבים מאוד.<br>\n",
    "    התוצאה תהיה קוד שקשה לתחזק ולקרוא, ולעיתים קרובות הקוד יוחלף לבסוף בלולאות רגילות.<br>\n",
    "    כלל האצבע הוא שבשורה לא יהיו יותר מ־99 תווים, ושהקוד יהיה פשוט ונוח לקריאה בידי מתכנת חיצוני.\n",
    "</p>\n",
    "\n",
    "<p style=\"text-align: right; direction: rtl; float: right; clear: both;\">\n",
    "    קהילת פייתון דשה בנושאי קריאות קוד לעיתים קרובות, תוך כדי התייחסויות תכופות ל־<a href=\"https://www.python.org/dev/peps/pep-0008/\">PEP8</a>.<br>\n",
    "    נסביר בקצרה – PEP8 הוא מסמך שמתקנן את הקווים הכלליים של סגנון הכתיבה הרצוי בפייתון.<br>\n",
    "    לדוגמה, מאגרי קוד העוקבים אחרי המסמך בצורה מחמירה לא מתירים כתיבת שורות קוד שבהן יותר מ־79 תווים.<br>\n",
    "    כתיבה מסוגננת היטב היא נושא רחב יריעה שנעמיק בו בהמשך הקורס.\n",
    "</p>"
   ]
  },
  {
   "cell_type": "markdown",
   "metadata": {},
   "source": [
    "## <span style=\"align: right; direction: rtl; float: right; clear: both;\">סיכום</span>"
   ]
  },
  {
   "cell_type": "markdown",
   "metadata": {},
   "source": [
    "<p style=\"text-align: right; direction: rtl; float: right; clear: both;\">\n",
    "    במחברת זו למדנו 4 טכניקות שימושיות שעוזרות לנו ליצור בצורה קריאה ומהירה מבני נתונים:\n",
    "</p>"
   ]
  },
  {
   "cell_type": "markdown",
   "metadata": {},
   "source": [
    "<ul style=\"text-align: right; direction: rtl; float: right; clear: both;\">\n",
    "    <li>List Comprehensions</li>\n",
    "    <li>Dictionary Comprehensions</li>\n",
    "    <li>Set Comprehensions</li>\n",
    "    <li>Generator Expressions</li>\n",
    "</ul>"
   ]
  },
  {
   "cell_type": "markdown",
   "metadata": {},
   "source": [
    "<p style=\"text-align: right; direction: rtl; float: right; clear: both;\">\n",
    "    למדנו מעט איך להשתמש בהם ומתי, ועל ההקבלות שלהם ללולאות רגילות ולפונקציות כמו <var>map</var> ו־<var>filter</var>.<br>\n",
    "    למדנו גם איך אפשר להשתמש בכל אחת מהן במצב שבו יש לנו כמה לולאות מקוננות.\n",
    "</p>"
   ]
  },
  {
   "cell_type": "markdown",
   "metadata": {},
   "source": [
    "<p style=\"text-align: right; direction: rtl; float: right; clear: both;\">\n",
    "מתכנתי פייתון עושים שימוש רב בטכניקות האלו, וחשוב לשלוט בהן היטב כדי לדעת לקרוא קוד וכדי להצליח לממש רעיונות במהירות.\n",
    "</p>"
   ]
  },
  {
   "cell_type": "markdown",
   "metadata": {},
   "source": [
    "## <span style=\"align: right; direction: rtl; float: right; clear: both;\">תרגילים</span>"
   ]
  },
  {
   "cell_type": "markdown",
   "metadata": {},
   "source": [
    "### <span style=\"align: right; direction: rtl; float: right; clear: both;\">הֲיִי שלום</span>"
   ]
  },
  {
   "cell_type": "markdown",
   "metadata": {},
   "source": [
    "<p style=\"text-align: right; direction: rtl; float: right; clear: both;\">\n",
    "    כתבו פונקציה בשם <var>words_length</var> שמקבלת משפט ומחזירה את אורכי המילים שבו, לפי סדרן במשפט.<br>\n",
    "    לצורך התרגיל, הניחו שסימני הפיסוק הם חלק מאורכי המילים.<br>\n",
    "</p>\n",
    "<p style=\"text-align: right; direction: rtl; float: right; clear: both;\">\n",
    "    לדוגמה:<br>\n",
    "    עבור המשפט: <em dir=\"ltr\">Toto, I've a feeling we're not in Kansas anymore</em><br>\n",
    "    החזירו את הרשימה: <samp dir=\"ltr\">[5, 4, 1, 7, 5, 3, 2, 6, 7]</samp>\n",
    "</p>"
   ]
  },
  {
   "cell_type": "code",
   "execution_count": 3,
   "metadata": {},
   "outputs": [
    {
     "name": "stdout",
     "output_type": "stream",
     "text": [
      "[5, 4, 1, 7, 5, 3, 2, 6, 7]\n"
     ]
    }
   ],
   "source": [
    "#upload 104\n",
    "def words_length(sentence):\n",
    "\n",
    "    words_len_list = [len(word) for word in sentence.split()]\n",
    "    return words_len_list\n",
    "\n",
    "\n",
    "str1 = \"Toto, I've a feeling we're not in Kansas anymore\"\n",
    "print(words_length(str1))"
   ]
  },
  {
   "cell_type": "markdown",
   "metadata": {},
   "source": [
    "### <span style=\"align: right; direction: rtl; float: right; clear: both;\">א אוהל, פ זה פייתון</span>"
   ]
  },
  {
   "cell_type": "markdown",
   "metadata": {},
   "source": [
    "<p style=\"text-align: right; direction: rtl; float: right; clear: both;\">\n",
    "    כתבו פונקציה בשם <var>get_letters</var> שמחזירה את רשימת כל התווים בין a ל־z ובין A ל־Z.<br>\n",
    "    השתמשו ב־list comprehension, ב־<var>ord</var> וב־<var>chr</var>.<br>\n",
    "    הקפידו שלא לכלול את המספרים 65, 90, 97 או 122 בקוד שלכם.\n",
    "</p>"
   ]
  },
  {
   "cell_type": "code",
   "execution_count": null,
   "metadata": {},
   "outputs": [],
   "source": [
    "#upload 105\n",
    "def get_letters():\n",
    "    letters_list = [chr(letter) for letter in range(64, 123) if chr(letter).isalpha()]\n",
    "    return letters_list\n",
    "\n",
    "\n",
    "print(get_letters())\n",
    "# Reupload 105"
   ]
  },
  {
   "cell_type": "markdown",
   "metadata": {},
   "source": [
    "### <span style=\"align: right; direction: rtl; float: right; clear: both;\">חתול ארוך הוא ארוך</span>"
   ]
  },
  {
   "cell_type": "markdown",
   "metadata": {},
   "source": [
    "<p style=\"text-align: right; direction: rtl; float: right; clear: both;\">\n",
    "    כתבו פונקציה בשם <var>count_words</var> שמקבלת כפרמטר טקסט, ומחזירה מילון של אורכי המילים שבו.<br>\n",
    "    השתמשו ב־comprehension לבחירתכם (או ב־generator expression) כדי לנקות את הטקסט מסימנים שאינם אותיות.<br>\n",
    "    לאחר מכן, השתמשו ב־dictionary comprehension כדי לגלות את אורכה של כל מילה במשפט.<br>\n",
    "</p>"
   ]
  },
  {
   "cell_type": "markdown",
   "metadata": {},
   "source": [
    "<p style=\"text-align: right; direction: rtl; float: right; clear: both;\">\n",
    "    לדוגמה, עבור הטקסט הבא, בדקו שחוזר לכם המילון המופיע מייד אחריו.\n",
    "</p>"
   ]
  },
  {
   "cell_type": "code",
   "execution_count": null,
   "metadata": {},
   "outputs": [],
   "source": [
    "import string\n",
    "\n",
    "text = \"\"\"\n",
    "You see, wire telegraph is a kind of a very, very long cat.\n",
    "You pull his tail in New York and his head is meowing in Los Angeles.\n",
    "Do you understand this?\n",
    "And radio operates exactly the same way: you send signals here, they receive them there.\n",
    "The only difference is that there is no cat.\n",
    "\"\"\"\n",
    "\n",
    "expected_result = {'you': 3, 'see': 3, 'wire': 4, 'telegraph': 9, 'is': 2, 'a': 1, 'kind': 4, 'of': 2, 'very': 4, 'long': 4, 'cat': 3, 'pull': 4, 'his': 3, 'tail': 4, 'in': 2, 'new': 3, 'york': 4, 'and': 3, 'head': 4, 'meowing': 7, 'los': 3, 'angeles': 7, 'do': 2, 'understand': 10, 'this': 4, 'radio': 5, 'operates': 8, 'exactly': 7, 'the': 3, 'same': 4, 'way': 3, 'send': 4, 'signals': 7, 'here': 4, 'they': 4, 'receive': 7, 'them': 4, 'there': 5, 'only': 4, 'difference': 10, 'that': 4, 'no': 2}"
   ]
  },
  {
   "cell_type": "code",
   "execution_count": 1,
   "metadata": {},
   "outputs": [
    {
     "name": "stdout",
     "output_type": "stream",
     "text": [
      "['k', 's', ' ', 'f', 'o', 'r', ' ', 'l', 'i', 'f', 'e', ' ', 'f', 'o', 'r', ' ', 'm', 'o', 'n', 'e', 'y', ' ', 'a', 'n', 'd', ' ', ' ', 's', 't', 'y', 'l', 'e', 'l', 'i', 'f', 'e']\n",
      "ks for life for money and  stylelife\n",
      "{'ks': 2, 'for': 3, 'life': 4, 'money': 5, 'and': 3, 'stylelife': 9}\n"
     ]
    }
   ],
   "source": [
    "#upload 106\n",
    "def count_words(text):\n",
    "    \n",
    "    letters_list = [char for char in list(text) if char.isalpha() or char == \" \"]\n",
    "    \n",
    "    print(letters_list)\n",
    "    \n",
    "    text_str = \"\".join(letters_list)\n",
    "    \n",
    "    print(text_str)\n",
    "    \n",
    "    word_dict = {word: len(word) for word in text_str.split()}\n",
    "        \n",
    "    return word_dict\n",
    "    \n",
    "      \n",
    "text = \"\"\"\n",
    "You see, wire telegraph is a kind of a very, very long cat.\n",
    "You pull his tail in New York and his head is meowing in Los Angeles.\n",
    "Do you understand this?\n",
    "And radio operates exactly the same way: you send signals here, they receive them there.\n",
    "The only difference is that there is no cat.\n",
    "\"\"\"\n",
    "\n",
    "text2 = \"\"\"\n",
    "k8s for l1ife, for mone$$y and 4 style&life\n",
    "\"\"\"\n",
    "\n",
    "print(count_words(text2))"
   ]
  },
  {
   "cell_type": "markdown",
   "metadata": {},
   "source": [
    "### <span style=\"align: right; direction: rtl; float: right; clear: both;\">ואלה שמות</span>"
   ]
  },
  {
   "cell_type": "markdown",
   "metadata": {},
   "source": [
    "<p style=\"text-align: right; direction: rtl; float: right; clear: both;\">\n",
    "    כתבו פונקציה בשם <var>full_names</var>, שתקבל כפרמטרים רשימת שמות פרטיים ורשימת שמות משפחה, ותרכיב מהם שמות מלאים.<br>\n",
    "    לכל שם פרטי תצמיד הפונקציה את כל שמות המשפחה שהתקבלו.<br>\n",
    "    ודאו שהשמות חוזרים כאשר האות הראשונה בשם הפרטי ובשם המשפחה היא אות גדולה.\n",
    "</p>"
   ]
  },
  {
   "cell_type": "markdown",
   "metadata": {},
   "source": [
    "<p style=\"text-align: right; direction: rtl; float: right; clear: both;\">\n",
    "    על הפונקציה לקבל גם פרמטר אופציונלי בשם <var>min_length</var>.<br>\n",
    "    אם הפרמטר הועבר, שמות מלאים שכמות התווים שבהם קטנה מהאורך שהוגדר – לא יוחזרו מהפונקציה.\n",
    "</p>"
   ]
  },
  {
   "cell_type": "markdown",
   "metadata": {},
   "source": [
    "<p style=\"text-align: right; direction: rtl; float: right; clear: both;\">\n",
    "    לדוגמה:\n",
    "</p>"
   ]
  },
  {
   "cell_type": "code",
   "execution_count": null,
   "metadata": {},
   "outputs": [],
   "source": [
    "first_names = ['avi', 'moshe', 'yaakov']\n",
    "last_names = ['cohen', 'levi', 'mizrahi']\n",
    "\n",
    "# התנאים הבאים צריכים להתקיים\n",
    "full_names(first_names, last_names, 10) == ['Avi Mizrahi', 'Moshe Cohen', 'Moshe Levi', 'Moshe Mizrahi', 'Yaakov Cohen', 'Yaakov Levi', 'Yaakov Mizrahi']\n",
    "full_names(first_names, last_names) == ['Avi Cohen', 'Avi Levi', 'Avi Mizrahi', 'Moshe Cohen', 'Moshe Levi', 'Moshe Mizrahi', 'Yaakov Cohen', 'Yaakov Levi', 'Yaakov Mizrahi']"
   ]
  },
  {
   "cell_type": "code",
   "execution_count": 6,
   "metadata": {},
   "outputs": [
    {
     "name": "stdout",
     "output_type": "stream",
     "text": [
      "['Avi Mizrahi', 'Moshe Cohen', 'Moshe Levi', 'Moshe Mizrahi', 'Yaakov Cohen', 'Yaakov Levi', 'Yaakov Mizrahi']\n",
      "['Avi Cohen', 'Avi Levi', 'Avi Mizrahi', 'Moshe Cohen', 'Moshe Levi', 'Moshe Mizrahi', 'Yaakov Cohen', 'Yaakov Levi', 'Yaakov Mizrahi']\n"
     ]
    },
    {
     "data": {
      "text/plain": [
       "True"
      ]
     },
     "execution_count": 6,
     "metadata": {},
     "output_type": "execute_result"
    }
   ],
   "source": [
    "#upload 115\n",
    "def full_names(first_names, last_names, min_length=0):\n",
    "    \n",
    "    full_names_list = [first_name.title() + \" \" + last_name.title()\n",
    "                       for first_name in first_names \n",
    "                       for last_name in last_names \n",
    "                       if len(first_name + \" \" + last_name) >= min_length\n",
    "] \n",
    "    print(full_names_list)\n",
    "    return full_names_list\n",
    "\n",
    "\n",
    "first_names = ['avi', 'moshe', 'yaakov']\n",
    "last_names = ['cohen', 'levi', 'mizrahi']\n",
    "\n",
    "# התנאים הבאים צריכים להתקיים\n",
    "full_names(first_names, last_names, 10) == ['Avi Mizrahi', 'Moshe Cohen', 'Moshe Levi', 'Moshe Mizrahi', 'Yaakov Cohen', 'Yaakov Levi', 'Yaakov Mizrahi']\n",
    "full_names(first_names, last_names) == ['Avi Cohen', 'Avi Levi', 'Avi Mizrahi', 'Moshe Cohen', 'Moshe Levi', 'Moshe Mizrahi', 'Yaakov Cohen', 'Yaakov Levi', 'Yaakov Mizrahi']"
   ]
  }
 ],
 "metadata": {
  "kernelspec": {
   "display_name": "Python 3",
   "language": "python",
   "name": "python3"
  },
  "language_info": {
   "codemirror_mode": {
    "name": "ipython",
    "version": 3
   },
   "file_extension": ".py",
   "mimetype": "text/x-python",
   "name": "python",
   "nbconvert_exporter": "python",
   "pygments_lexer": "ipython3",
   "version": "3.7.6"
  }
 },
 "nbformat": 4,
 "nbformat_minor": 2
}
