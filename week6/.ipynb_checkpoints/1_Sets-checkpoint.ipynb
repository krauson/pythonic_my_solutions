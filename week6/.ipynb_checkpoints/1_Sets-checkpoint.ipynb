{
 "cells": [
  {
   "cell_type": "markdown",
   "metadata": {},
   "source": [
    "<img src=\"images/logo.jpg\" style=\"display: block; margin-left: auto; margin-right: auto;\" alt=\"לוגו של מיזם לימוד הפייתון. נחש מצויר בצבעי צהוב וכחול, הנע בין האותיות של שם הקורס: לומדים פייתון. הסלוגן המופיע מעל לשם הקורס הוא מיזם חינמי ללימוד תכנות בעברית.\">"
   ]
  },
  {
   "cell_type": "markdown",
   "metadata": {},
   "source": [
    "# <span style=\"text-align: right; direction: rtl; float: right;\">קבוצות</span>"
   ]
  },
  {
   "cell_type": "markdown",
   "metadata": {},
   "source": [
    "## <span style=\"text-align: right; direction: rtl; float: right; clear: both;\">הגדרה</span>"
   ]
  },
  {
   "cell_type": "markdown",
   "metadata": {},
   "source": [
    "<p style=\"text-align: right; direction: rtl; float: right; clear: both;\">\n",
    "    <dfn>קבוצה</dfn> (או <dfn>set</dfn>) בפייתון היא אוסף של איברים שמתאפיינת בתכונות הבאות:\n",
    "</p>"
   ]
  },
  {
   "cell_type": "markdown",
   "metadata": {},
   "source": [
    "<ul style=\"text-align: right; direction: rtl; float: right; clear: both;\">\n",
    "    <li>לאיברים באוסף אין סדר מוגדר.</li>\n",
    "    <li>ערך לא יכול להופיע יותר מפעם אחת.</li>\n",
    "    <li>כל איבר חייב להיות immutable.</li>\n",
    "</ul>"
   ]
  },
  {
   "cell_type": "markdown",
   "metadata": {},
   "source": [
    "<p style=\"text-align: right; direction: rtl; float: right; clear: both;\">\n",
    "    לדוגמה:\n",
    "</p>\n",
    "\n",
    "<ul style=\"text-align: right; direction: rtl; float: right; clear: both;\">\n",
    "    <li>כתובות הדואר האלקטרוני של כל הזכאים לתעודת סיום בקורס פייתון.</li>\n",
    "    <li>המספרים הראשוניים עד 1,000.</li>\n",
    "    <li>שמות כל הקבצים בתיקייה images.</li>\n",
    "    <li>המילים בספר \"קפקא על החוף\", ללא כפילויות.</li>\n",
    "</ul>"
   ]
  },
  {
   "cell_type": "markdown",
   "metadata": {},
   "source": [
    "## <span style=\"text-align: right; direction: rtl; float: right; clear: both;\">שימוש</span>"
   ]
  },
  {
   "cell_type": "markdown",
   "metadata": {},
   "source": [
    "### <span style=\"text-align: right; direction: rtl; float: right; clear: both;\">הבסיס</span>"
   ]
  },
  {
   "cell_type": "markdown",
   "metadata": {},
   "source": [
    "<p style=\"text-align: right; direction: rtl; float: right; clear: both;\">\n",
    "    עד מחברת זו, לו היינו מתבקשים להגדיר מבנה נתונים שיאחסן עבורנו שמות של אומנים איטלקים ידועים, היינו משתמשים ברשימה או ב־tuple־ים:\n",
    "</p>"
   ]
  },
  {
   "cell_type": "code",
   "execution_count": 2,
   "metadata": {},
   "outputs": [],
   "source": [
    "# List:\n",
    "italian_artists = ['Donatelo', 'Giotto', 'Leonardo', 'Masaccio', 'Michelangelo', 'Raphael', 'Titian']\n",
    "# Tuple:\n",
    "italian_artists = ('Donatelo', 'Giotto', 'Leonardo', 'Masaccio', 'Michelangelo', 'Raphael', 'Titian')"
   ]
  },
  {
   "cell_type": "markdown",
   "metadata": {},
   "source": [
    "<p style=\"text-align: right; direction: rtl; float: right; clear: both;\">\n",
    "    אך כיוון שמדובר באוסף איברים ללא חזרות וללא סדר מוגדר, אפשר לשמור אותם כ־set:\n",
    "</p>"
   ]
  },
  {
   "cell_type": "code",
   "execution_count": 3,
   "metadata": {},
   "outputs": [],
   "source": [
    "italian_artists = {'Donatelo', 'Giotto', 'Leonardo', 'Masaccio', 'Michelangelo', 'Raphael', 'Titian'}"
   ]
  },
  {
   "cell_type": "markdown",
   "metadata": {},
   "source": [
    "<p style=\"text-align: right; direction: rtl; float: right; clear: both;\">\n",
    "    אפשר לראות שההגדרות דומות מאוד במראה שלהן.<br>\n",
    "    כדי להגדיר קבוצה, נפתח סוגריים מסולסלים (כמו במילון), ונציין את איבריה, כשהם מופרדים זה מזה בפסיקים.<br>\n",
    "    אם תרצו, תוכלו לדמיין קבוצה כמילון שבו יש רק מפתחות.\n",
    "</p>"
   ]
  },
  {
   "cell_type": "markdown",
   "metadata": {},
   "source": [
    "<p style=\"text-align: right; direction: rtl; float: right; clear: both;\">\n",
    "    נוכל גם להגדיר קבוצה ריקה באמצעות הפונקציה <code>set</code>.<br>\n",
    "    נגדיר, לדוגמה, את קבוצת כל החדי־קרן הוורודות הבלתי נראות:\n",
    "</p>"
   ]
  },
  {
   "cell_type": "code",
   "execution_count": 1,
   "metadata": {},
   "outputs": [
    {
     "name": "stdout",
     "output_type": "stream",
     "text": [
      "set()\n"
     ]
    }
   ],
   "source": [
    "invisible_pink_unicorns = set()\n",
    "print(invisible_pink_unicorns)"
   ]
  },
  {
   "cell_type": "markdown",
   "metadata": {},
   "source": [
    "<p style=\"text-align: right; direction: rtl; float: right; clear: both;\">\n",
    "    תעלול נחמד נוסף הוא המרת iterable לקבוצה, באמצעות אותה הפונקציה:\n",
    "</p>"
   ]
  },
  {
   "cell_type": "code",
   "execution_count": 4,
   "metadata": {},
   "outputs": [
    {
     "name": "stdout",
     "output_type": "stream",
     "text": [
      "{0, 1, 2, 3, 4, 5, 6, 7, 8, 9}\n"
     ]
    }
   ],
   "source": [
    "numbers = range(10)\n",
    "numbers = set(numbers)\n",
    "print(numbers)"
   ]
  },
  {
   "cell_type": "markdown",
   "metadata": {},
   "source": [
    "<p style=\"text-align: right; direction: rtl; float: right; clear: both;\">\n",
    "    בהגדרה שבתחילת הפרק ציינו שקבוצה לא תכיל כמה איברים בעלי ערך זהה.<br>\n",
    "    למרות ההגבלה הזו, בהגדרת הקבוצה אפשר לספק ערכים שחוזרים על עצמם.<br>\n",
    "    הקבוצה \"תבלע\" את הכפילויות בערכים, ותשאיר רק איבר אחד מכל ערך:\n",
    "</p>"
   ]
  },
  {
   "cell_type": "code",
   "execution_count": 5,
   "metadata": {},
   "outputs": [
    {
     "name": "stdout",
     "output_type": "stream",
     "text": [
      "{1, 2, 3, 5}\n",
      "{'b', 'c', 'a'}\n"
     ]
    }
   ],
   "source": [
    "print({1, 1, 2, 3, 5})\n",
    "print(set('abccccccccccc'))"
   ]
  },
  {
   "cell_type": "markdown",
   "metadata": {},
   "source": [
    "<div class=\"align-center\" style=\"display: flex; text-align: right; direction: rtl; clear: both;\">\n",
    "    <div style=\"display: flex; width: 10%; float: right; clear: both;\">\n",
    "        <img src=\"images/exercise.svg\" style=\"height: 50px !important;\" alt=\"תרגול\"> \n",
    "    </div>\n",
    "    <div style=\"width: 70%\">\n",
    "        <p style=\"text-align: right; direction: rtl; float: right; clear: both;\">\n",
    "            הגדירו קבוצה שאיבריה הם האותיות הקטנות והגדולות באנגלית.<br>\n",
    "            ישנו פתרון פשוט שלא מצריך מכם לכתוב את כל הא\"ב.\n",
    "        </p>\n",
    "    </div>\n",
    "    <div style=\"display: flex; width: 20%; border-right: 0.1rem solid #A5A5A5; padding: 1rem 2rem;\">\n",
    "        <p style=\"text-align: center; direction: rtl; justify-content: center; align-items: center; clear: both;\">\n",
    "            <strong>חשוב!</strong><br>\n",
    "            פתרו לפני שתמשיכו!\n",
    "        </p>\n",
    "    </div>\n",
    "</div>"
   ]
  },
  {
   "cell_type": "code",
   "execution_count": 18,
   "metadata": {},
   "outputs": [
    {
     "name": "stdout",
     "output_type": "stream",
     "text": [
      "['A', 'B', 'C', 'D', 'E', 'F', 'G', 'H', 'I', 'J', 'K', 'L', 'M', 'N', 'O', 'P', 'Q', 'R', 'S', 'T', 'U', 'V', 'W', 'X', 'Y', 'a', 'b', 'c', 'd', 'e', 'f', 'g', 'h', 'i', 'j', 'k', 'l', 'm', 'n', 'o', 'p', 'q', 'r', 's', 't', 'u', 'v', 'w', 'x', 'y', 'z']\n"
     ]
    }
   ],
   "source": [
    "letters = list(range(65, 90))\n",
    "lower_letters = range(97, 123)\n",
    "\n",
    "letters += (lower_letters)\n",
    "\n",
    "for i in range(0, len(letters)):\n",
    "    letters[i] = chr(letters[i])\n",
    "    \n",
    "print(letters)"
   ]
  },
  {
   "cell_type": "markdown",
   "metadata": {},
   "source": [
    "### <span style=\"text-align: right; direction: rtl; float: right; clear: both;\">פעולות בין קבוצות</span>"
   ]
  },
  {
   "cell_type": "markdown",
   "metadata": {},
   "source": [
    "<p style=\"text-align: right; direction: rtl; float: right; clear: both;\">\n",
    "    נגדיר שוב את קבוצת האומנים האיטלקים:\n",
    "</p>"
   ]
  },
  {
   "cell_type": "code",
   "execution_count": 20,
   "metadata": {},
   "outputs": [],
   "source": [
    "italian_artists = {'Donatelo', 'Giotto', 'Leonardo', 'Masaccio', 'Michelangelo', 'Raphael', 'Titian'}"
   ]
  },
  {
   "cell_type": "markdown",
   "metadata": {},
   "source": [
    "<p style=\"text-align: right; direction: rtl; float: right; clear: both;\">\n",
    "    אחד מיתרונותיהן רבי־הערך של קבוצות הוא היכולת לבצע ביניהן פעולות בקלות.<br>\n",
    "    נדגים את הרעיון בעזרת הגדרת קבוצה נוספת, הפעם של דמויות מחוברות הקומיקס של צבי הנינג'ה:\n",
    "</p>"
   ]
  },
  {
   "cell_type": "code",
   "execution_count": 21,
   "metadata": {},
   "outputs": [],
   "source": [
    "ninja_turtles_characters = {'Donatelo', 'Leonardo', 'Michelangelo', 'Raphael', 'Splinter', 'Shredder'}"
   ]
  },
  {
   "cell_type": "markdown",
   "metadata": {},
   "source": [
    "<p style=\"text-align: right; direction: rtl; float: right; clear: both;\">\n",
    "    כעת נוכל, לדוגמה, לבחור את כל הדמויות מצבי הנינג'ה שנושאות שם של אומן איטלקי מפורסם.<br>\n",
    "    הקבוצה שנוצרת מהאיברים המשותפים לשתי הקבוצות נקראת <dfn>קבוצת החיתוך</dfn>.\n",
    "</p>"
   ]
  },
  {
   "cell_type": "code",
   "execution_count": 22,
   "metadata": {},
   "outputs": [
    {
     "data": {
      "text/plain": [
       "{'Donatelo', 'Leonardo', 'Michelangelo', 'Raphael'}"
      ]
     },
     "execution_count": 22,
     "metadata": {},
     "output_type": "execute_result"
    }
   ],
   "source": [
    "ninja_turtles_characters.intersection(italian_artists)"
   ]
  },
  {
   "cell_type": "markdown",
   "metadata": {},
   "source": [
    "<p style=\"text-align: right; direction: rtl; float: right; clear: both;\">\n",
    "    ישנן פעולות רבות נוספות שאפשר לבצע בין קבוצות.<br>\n",
    "    דרך קלה להמחיש את היחסים ההדדיים בין הקבוצות הללו היא תרשים שנקרא \"<a href=\"https://he.wikipedia.org/wiki/%D7%93%D7%99%D7%90%D7%92%D7%A8%D7%9E%D7%AA_%D7%95%D7%9F\">דיאגרמת ון</a>\":\n",
    "</p>"
   ]
  },
  {
   "cell_type": "markdown",
   "metadata": {},
   "source": [
    "<figure>\n",
    "    <img src=\"images/venn.svg\" style=\"max-width: 600px; margin-right: auto; margin-left: auto; text-align: center;\" alt=\"בתמונה מופיעים שני עיגולים: ורוד בימין, מעליו מופיע הכיתוב 'דמויות מצבי הנינג'ה', וטורקיז בשמאל, מעליו מופיע הכיתוב 'אומנים איטלקים'. בין העיגולים ישנה חפיפה קלה בצבע חום. בעיגול הוורוד שבימין יש את האיברים Splinter ו־Shredder, ובעיגול הטורקיז השמאלי את Giotto, Masacccio ו־Titian. בשטח החום שבחפיפה נמצאים האיברים Donatelo, Leonardo, Michelangelo ו־Raphael.\"/>\n",
    "    <figcaption style=\"margin-top: 2rem; text-align: center; direction: rtl;\">דיאגרמת ון של שתי קבוצות: דמויות מצבי הנינג'ה ואומנים איטלקים.<br>\n",
    "    אפשר לראות בשטח החפיפה שבין שני העיגולים את האיברים המשותפים לשתי הקבוצות.</figcaption>\n",
    "</figure>"
   ]
  },
  {
   "cell_type": "markdown",
   "metadata": {},
   "source": [
    "<p style=\"text-align: right; direction: rtl; float: right; clear: both;\">\n",
    "    נוכל גם לבקש, לדוגמה, את שמות האומנים האיטלקים שאינם דמויות מצבי הנינג'ה.<br>\n",
    "    נקבל בחזרה את השמות שמופיעים בתרשים בעיגול הטורקיז, אך לא בחיתוך בין שני העיגולים:\n",
    "</p>"
   ]
  },
  {
   "cell_type": "code",
   "execution_count": 23,
   "metadata": {},
   "outputs": [
    {
     "data": {
      "text/plain": [
       "{'Giotto', 'Masaccio', 'Titian'}"
      ]
     },
     "execution_count": 23,
     "metadata": {},
     "output_type": "execute_result"
    }
   ],
   "source": [
    "italian_artists.difference(ninja_turtles_characters)"
   ]
  },
  {
   "cell_type": "markdown",
   "metadata": {},
   "source": [
    "<p style=\"text-align: right; direction: rtl; float: right; clear: both;\">\n",
    "    באותה צורה נוכל לבקש את שמות כל הדמויות מצבי הנינג'ה שאינם אומנים איטלקים.<br>\n",
    "    אלו השמות שמופיעים אך ורק בעיגול הורוד, ולא בחיתוך בין שני העיגולים:\n",
    "</p>"
   ]
  },
  {
   "cell_type": "code",
   "execution_count": 24,
   "metadata": {},
   "outputs": [
    {
     "data": {
      "text/plain": [
       "{'Shredder', 'Splinter'}"
      ]
     },
     "execution_count": 24,
     "metadata": {},
     "output_type": "execute_result"
    }
   ],
   "source": [
    "ninja_turtles_characters.difference(italian_artists)"
   ]
  },
  {
   "cell_type": "markdown",
   "metadata": {},
   "source": [
    "<p style=\"text-align: right; direction: rtl; float: right; clear: both;\">\n",
    "    אפשר לבקש גם את <dfn>קבוצת האיחוד</dfn>, שמורכבת מכל הדמויות שקיימות בשתי הקבוצות.<br>\n",
    "    אלו כל הדמויות שמופיעות בשרטוט:\n",
    "</p>"
   ]
  },
  {
   "cell_type": "code",
   "execution_count": 25,
   "metadata": {},
   "outputs": [
    {
     "data": {
      "text/plain": [
       "{'Donatelo',\n",
       " 'Giotto',\n",
       " 'Leonardo',\n",
       " 'Masaccio',\n",
       " 'Michelangelo',\n",
       " 'Raphael',\n",
       " 'Shredder',\n",
       " 'Splinter',\n",
       " 'Titian'}"
      ]
     },
     "execution_count": 25,
     "metadata": {},
     "output_type": "execute_result"
    }
   ],
   "source": [
    "ninja_turtles_characters.union(italian_artists)"
   ]
  },
  {
   "cell_type": "markdown",
   "metadata": {},
   "source": [
    "<p style=\"text-align: right; direction: rtl; float: right; clear: both;\">\n",
    "    או את כל הדמויות שלא משותפות לשתי הקבוצות.<br>\n",
    "    אלו כל הדמויות שמופיעות מחוץ לחיתוך של שני העיגולים:\n",
    "</p>"
   ]
  },
  {
   "cell_type": "code",
   "execution_count": 26,
   "metadata": {},
   "outputs": [
    {
     "data": {
      "text/plain": [
       "{'Giotto', 'Masaccio', 'Shredder', 'Splinter', 'Titian'}"
      ]
     },
     "execution_count": 26,
     "metadata": {},
     "output_type": "execute_result"
    }
   ],
   "source": [
    "ninja_turtles_characters.symmetric_difference(italian_artists)"
   ]
  },
  {
   "cell_type": "markdown",
   "metadata": {},
   "source": [
    "<div class=\"align-center\" style=\"display: flex; text-align: right; direction: rtl; clear: both;\">\n",
    "    <div style=\"display: flex; width: 10%; float: right; clear: both;\">\n",
    "        <img src=\"images/exercise.svg\" style=\"height: 50px !important;\" alt=\"תרגול\"> \n",
    "    </div>\n",
    "    <div style=\"width: 70%\">\n",
    "        <p style=\"text-align: right; direction: rtl; float: right; clear: both;\">\n",
    "            צרו קבוצה שאיבריה הם 10 <a href=\"https://he.wikipedia.org/wiki/%D7%A1%D7%93%D7%A8%D7%AA_%D7%A4%D7%99%D7%91%D7%95%D7%A0%D7%90%D7%A6%27%D7%99\">מספרי פיבונאצ'י</a> הראשונים, וקבוצה נוספת שאיבריה הם המספרים הזוגיים בין 1 ל־15.<br>\n",
    "            שרטטו דיאגרמת ון של שתי הקבוצות, ובדקו שהשרטוט נאמן למציאות בעזרת הפעולות שלמדתם למעלה.\n",
    "        </p>\n",
    "    </div>\n",
    "</div>"
   ]
  },
  {
   "cell_type": "markdown",
   "metadata": {},
   "source": [
    "### <span style=\"text-align: right; direction: rtl; float: right; clear: both;\">תרגיל ביניים: נענועי חנית כנגד קוף</span>"
   ]
  },
  {
   "cell_type": "markdown",
   "metadata": {},
   "source": [
    "<p style=\"text-align: right; direction: rtl; float: right; clear: both;\">\n",
    "    בתיקיית resources נמצאים הקבצים hamlet.txt ו־the-monkeys-paw.txt.<br>\n",
    "    כמה מילים משותפות לשני החיבורים? כמה שונות?<br>\n",
    "    כמה מהמילים מופיעות רק בכפת הקוף, וכמה רק בהמלט?\n",
    "</p>"
   ]
  },
  {
   "cell_type": "code",
   "execution_count": 27,
   "metadata": {},
   "outputs": [
    {
     "name": "stdout",
     "output_type": "stream",
     "text": [
      "The numbers of common words between the two files: 601\n",
      "The numbers of different words between the two files: 8013\n",
      "unique words in monkey: 900\n",
      "unique words in monkey: 7113\n"
     ]
    }
   ],
   "source": [
    "#upload 93\n",
    "def set_on_texts():\n",
    "    \n",
    "    with open(r'C:\\Users\\Hagai\\Desktop\\חגי\\תכנות\\python\\מחברות\\week6\\resources\\the-monkeys-paw.txt', 'r') as monkey_file:\n",
    "        \n",
    "        monkey_file = monkey_file.read()\n",
    "        monkey_list = monkey_file.split()\n",
    "        monkey_set = set(monkey_list)\n",
    "        \n",
    "        with open(r'C:\\Users\\Hagai\\Desktop\\חגי\\תכנות\\python\\מחברות\\week6\\resources\\hamlet.txt', 'r') as hamlet_file:\n",
    "            \n",
    "            hamlet_file = hamlet_file.read()\n",
    "            hamlet_list = hamlet_file.split()\n",
    "            hamlet_set = set(hamlet_list)\n",
    "            \n",
    "            common_words = monkey_set.intersection(hamlet_set)            \n",
    "            print(f\"The numbers of common words between the two files: {len(common_words)}\")\n",
    "            \n",
    "            differnt_words = monkey_set.symmetric_difference(hamlet_set)\n",
    "            print(f\"The numbers of different words between the two files: {len(differnt_words)}\")\n",
    "            \n",
    "            unique_words_monkey = monkey_set.difference(hamlet_set)\n",
    "            unique_words_hamlet = hamlet_set.difference(monkey_set)\n",
    "            \n",
    "            print(f\"unique words in monkey: {len(unique_words_monkey)}\")\n",
    "            print(f\"unique words in monkey: {len(unique_words_hamlet)}\")\n",
    "\n",
    "\n",
    "set_on_texts()"
   ]
  },
  {
   "cell_type": "markdown",
   "metadata": {},
   "source": [
    "### <span style=\"text-align: right; direction: rtl; float: right; clear: both;\">עריכת קבוצה</span>"
   ]
  },
  {
   "cell_type": "markdown",
   "metadata": {},
   "source": [
    "<p style=\"text-align: right; direction: rtl; float: right; clear: both;\">\n",
    "    קבוצה היא mutable – אפשר לערוך אותה מבלי ליצור קבוצה חדשה, בדומה לרשימות או למילונים.<br>\n",
    "    תכונה זו מאפשרת לנו לצרף לקבוצה איברים חדשים או להסיר ממנה איברים קיימים בקלות רבה.\n",
    "</p>"
   ]
  },
  {
   "cell_type": "markdown",
   "metadata": {},
   "source": [
    "<p style=\"text-align: right; direction: rtl; float: right; clear: both;\">\n",
    "    נוסיף לקבוצת שמות הדמויות בצבי הנינג'ה את אפריל או'ניל באמצעות הפעולה <code>add</code>:\n",
    "</p>"
   ]
  },
  {
   "cell_type": "code",
   "execution_count": 28,
   "metadata": {},
   "outputs": [
    {
     "name": "stdout",
     "output_type": "stream",
     "text": [
      "{'Splinter', 'Leonardo', 'Michelangelo', 'Shredder', 'Raphael', \"April O'Neil\", 'Donatelo'}\n"
     ]
    }
   ],
   "source": [
    "ninja_turtles_characters.add(\"April O'Neil\")\n",
    "print(ninja_turtles_characters)"
   ]
  },
  {
   "cell_type": "markdown",
   "metadata": {},
   "source": [
    "<p style=\"text-align: right; direction: rtl; float: right; clear: both;\">\n",
    "    ונמחק מהקבוצה את שרדר הרשע באמצעות הפעולה <code>remove</code>:\n",
    "</p>"
   ]
  },
  {
   "cell_type": "code",
   "execution_count": 29,
   "metadata": {},
   "outputs": [
    {
     "name": "stdout",
     "output_type": "stream",
     "text": [
      "{'Splinter', 'Leonardo', 'Michelangelo', 'Raphael', \"April O'Neil\", 'Donatelo'}\n"
     ]
    }
   ],
   "source": [
    "ninja_turtles_characters.remove(\"Shredder\")\n",
    "print(ninja_turtles_characters)"
   ]
  },
  {
   "cell_type": "markdown",
   "metadata": {},
   "source": [
    "<p style=\"text-align: right; direction: rtl; float: right; clear: both;\">\n",
    "    שימו לב שניסיון למחוק ערך שלא קיים בקבוצה יכעיס את פייתון:\n",
    "</p>"
   ]
  },
  {
   "cell_type": "code",
   "execution_count": 30,
   "metadata": {},
   "outputs": [
    {
     "ename": "KeyError",
     "evalue": "'Krang'",
     "output_type": "error",
     "traceback": [
      "\u001b[1;31m---------------------------------------------------------------------------\u001b[0m",
      "\u001b[1;31mKeyError\u001b[0m                                  Traceback (most recent call last)",
      "\u001b[1;32m<ipython-input-30-55dcd81136e7>\u001b[0m in \u001b[0;36m<module>\u001b[1;34m\u001b[0m\n\u001b[1;32m----> 1\u001b[1;33m \u001b[0mninja_turtles_characters\u001b[0m\u001b[1;33m.\u001b[0m\u001b[0mremove\u001b[0m\u001b[1;33m(\u001b[0m\u001b[1;34m\"Krang\"\u001b[0m\u001b[1;33m)\u001b[0m\u001b[1;33m\u001b[0m\u001b[1;33m\u001b[0m\u001b[0m\n\u001b[0m",
      "\u001b[1;31mKeyError\u001b[0m: 'Krang'"
     ]
    }
   ],
   "source": [
    "ninja_turtles_characters.remove(\"Krang\")"
   ]
  },
  {
   "cell_type": "markdown",
   "metadata": {},
   "source": [
    "<p style=\"text-align: right; direction: rtl; float: right; clear: both;\">\n",
    "    אלא אם כן נשתמש בפעולה <code>discard</code>, שמאפשרת לנו למחוק איברים מקבוצות, בלי לחשוש משגיאה:\n",
    "</p>"
   ]
  },
  {
   "cell_type": "code",
   "execution_count": 31,
   "metadata": {},
   "outputs": [
    {
     "name": "stdout",
     "output_type": "stream",
     "text": [
      "{'Splinter', 'Leonardo', 'Michelangelo', 'Raphael', \"April O'Neil\", 'Donatelo'}\n"
     ]
    }
   ],
   "source": [
    "ninja_turtles_characters.discard(\"Krang\")\n",
    "print(ninja_turtles_characters)"
   ]
  },
  {
   "cell_type": "markdown",
   "metadata": {},
   "source": [
    "<p style=\"text-align: right; direction: rtl; float: right; clear: both;\">\n",
    "    ולסיום – הדמויות הרעות תמיד חוזרות לסיבוב שני.<br>\n",
    "    נרחיב את הקבוצה שלנו ונוסיף אליה את הנבלים מ\"שבט הרגל\" (בחיי, ככה הם תרגמו את Foot Clan!) במכה אחת, באמצעות הפעולה <code>update</code>:\n",
    "</p>"
   ]
  },
  {
   "cell_type": "code",
   "execution_count": 32,
   "metadata": {},
   "outputs": [
    {
     "name": "stdout",
     "output_type": "stream",
     "text": [
      "{'Krang', 'Splinter', 'Leonardo', 'Michelangelo', 'Shredder', 'Raphael', \"April O'Neil\", 'Karai', 'Donatelo'}\n"
     ]
    }
   ],
   "source": [
    "foot_clan_members = {'Shredder', 'Krang', 'Karai'}\n",
    "ninja_turtles_characters.update(foot_clan_members)\n",
    "print(ninja_turtles_characters)"
   ]
  },
  {
   "cell_type": "markdown",
   "metadata": {},
   "source": [
    "<div class=\"align-center\" style=\"display: flex; text-align: right; direction: rtl; clear: both;\">\n",
    "    <div style=\"display: flex; width: 10%; float: right; clear: both;\">\n",
    "        <img src=\"images/exercise.svg\" style=\"height: 50px !important;\" alt=\"תרגול\"> \n",
    "    </div>\n",
    "    <div style=\"width: 70%\">\n",
    "        <p style=\"text-align: right; direction: rtl; float: right; clear: both;\">\n",
    "            צרו קבוצה של 100 המספרים הראשוניים הראשונים, וצרפו אליה את כל המספרים הזוגיים בין 1 ל־1,000.<br>\n",
    "            צרו קבוצה נוספת של המספרים בין 1 ל־1,000 שסכום ספרותיהם קטן מ־4.<br>\n",
    "            כמה מספרים משותפים לשתי הקבוצות שיצרתם?\n",
    "        </p>\n",
    "    </div>\n",
    "</div>"
   ]
  },
  {
   "cell_type": "markdown",
   "metadata": {},
   "source": [
    "### <span style=\"text-align: right; direction: rtl; float: right; clear: both;\">בדיקות שייכות</span>"
   ]
  },
  {
   "cell_type": "markdown",
   "metadata": {},
   "source": [
    "<p style=\"text-align: right; direction: rtl; float: right; clear: both;\">\n",
    "    אחת התכונות המועילות ביותר של קבוצות היא שאפשר לבצע בעזרתן בדיקות שייכות במהירות רבה.<br>\n",
    "    בדיוק כמו חיפוש מפתח במילון, בקבוצה אפשר למצוא ערך בתוך זמן קצר מאוד.\n",
    "</p>"
   ]
  },
  {
   "cell_type": "code",
   "execution_count": 33,
   "metadata": {},
   "outputs": [],
   "source": [
    "only_turtles = {'Donatelo', 'Raphael', 'Michelangelo', 'Leonardo'}"
   ]
  },
  {
   "cell_type": "code",
   "execution_count": 34,
   "metadata": {},
   "outputs": [
    {
     "data": {
      "text/plain": [
       "True"
      ]
     },
     "execution_count": 34,
     "metadata": {},
     "output_type": "execute_result"
    }
   ],
   "source": [
    "'Donatelo' in only_turtles"
   ]
  },
  {
   "cell_type": "markdown",
   "metadata": {},
   "source": [
    "<p style=\"text-align: right; direction: rtl; float: right; clear: both;\">\n",
    "    אפשר גם לבדוק אם כל האיברים של קבוצה אחת נמצאים בתוך קבוצה אחרת:\n",
    "</p>"
   ]
  },
  {
   "cell_type": "code",
   "execution_count": 35,
   "metadata": {},
   "outputs": [
    {
     "name": "stdout",
     "output_type": "stream",
     "text": [
      "{'Giotto', 'Masaccio', 'Leonardo', 'Michelangelo', 'Titian', 'Raphael', 'Donatelo'}\n"
     ]
    }
   ],
   "source": [
    "print(italian_artists)"
   ]
  },
  {
   "cell_type": "code",
   "execution_count": 36,
   "metadata": {},
   "outputs": [
    {
     "data": {
      "text/plain": [
       "True"
      ]
     },
     "execution_count": 36,
     "metadata": {},
     "output_type": "execute_result"
    }
   ],
   "source": [
    "only_turtles.issubset(italian_artists)"
   ]
  },
  {
   "cell_type": "markdown",
   "metadata": {},
   "source": [
    "<p style=\"text-align: right; direction: rtl; float: right; clear: both;\">\n",
    "    ולהפך – אם קבוצה מסוימת מכילה את כל איברי הקבוצה השנייה:\n",
    "</p>"
   ]
  },
  {
   "cell_type": "code",
   "execution_count": 37,
   "metadata": {},
   "outputs": [
    {
     "data": {
      "text/plain": [
       "True"
      ]
     },
     "execution_count": 37,
     "metadata": {},
     "output_type": "execute_result"
    }
   ],
   "source": [
    "italian_artists.issuperset(only_turtles)"
   ]
  },
  {
   "cell_type": "markdown",
   "metadata": {},
   "source": [
    "<figure>\n",
    "    <img src=\"images/venn2.svg\" style=\"max-width: 400px; margin-right: auto; margin-left: auto; text-align: center;\" alt=\"בתמונה מופיעים שני עיגולים: עיגול טורקיז גדול, מעליו מופיע הכיתוב 'אומנים איטלקים', ובתוכו עיגול חום קטן, מעליו מופיע הכיתוב 'שמות הצבים'. בעיגול החום נמצאים Donatelo, Leonardo, Michelangelo ו־Raphael, ובעיגול הטורקיז Giotto, Masacccio ו־Titian.\"/>\n",
    "    <figcaption style=\"margin-top: 2rem; text-align: center; direction: rtl;\">דיאגרמת ון שמדגימה ששמות צבי הנינג'ה הם תת־קבוצה של אומנים איטלקים.<br>\n",
    "    אפשר לראות ששטח העיגול של הצבים \"נבלע\" בשטח העיגול של האומנים האיטלקים.</figcaption>\n",
    "</figure>"
   ]
  },
  {
   "cell_type": "markdown",
   "metadata": {},
   "source": [
    "### <span style=\"text-align: right; direction: rtl; float: right; clear: both;\">תרגיל ביניים: מהיר ואמין</span>"
   ]
  },
  {
   "cell_type": "markdown",
   "metadata": {},
   "source": [
    "<p style=\"text-align: right; direction: rtl; float: right; clear: both;\">\n",
    "    בקובץ words.txt ישנה רשימת מילים ארוכה מאוד.<br>\n",
    "</p>"
   ]
  },
  {
   "cell_type": "markdown",
   "metadata": {},
   "source": [
    "<ol style=\"text-align: right; direction: rtl; float: right; clear: both;\">\n",
    "    <li>בנו רשימה בשם <var>words_list</var> מכל המילים המופיעות בקובץ.</li>\n",
    "    <li>בנו קבוצה בשם <var>words_set</var> מכל המילים המופיעות בקובץ.</li>\n",
    "    <li>בנו פונקציה בשם <var>average_runtime</var> למדידת ביצועים, שתעזור לכם להחליט מה מהיר יותר:\n",
    "        <ol>\n",
    "            <li>חפשו 1,000 פעמים את המילה zwitterion בכל אחד ממבני הנתונים שיצרתם.</li>\n",
    "            <li>הפונקציה תחזיר את הזמן ההמוצע שנמשך החיפוש במבנה הנתונים.</li>\n",
    "        </ol>\n",
    "    </li>\n",
    "</ol>"
   ]
  },
  {
   "cell_type": "code",
   "execution_count": 2,
   "metadata": {},
   "outputs": [
    {
     "name": "stdout",
     "output_type": "stream",
     "text": [
      "Im in del_empty_spaces!\n",
      "Im in average runtime!\n",
      "Im in average runtime!\n",
      "The average runtime in list: 0.008905185222625732\n",
      "The average runtime in set: 9.975433349609375e-07\n"
     ]
    }
   ],
   "source": [
    "#upload 94\n",
    "import time\n",
    "\n",
    "\n",
    "def get_average_runtime(param_data, word_to_find):\n",
    "\n",
    "    print(\"Im in average runtime!\")\n",
    "    \n",
    "    time_list = []\n",
    "    for i in range(0, 1000):\n",
    "        i = i                      # so I won't get an error\n",
    "        start = time.time()\n",
    "        word_to_find in param_data\n",
    "        end = time.time()\n",
    "        current_time_elapsed = end - start\n",
    "        time_list.append(current_time_elapsed)\n",
    "\n",
    "    average_runtime = sum(time_list) / len(time_list)\n",
    "    return average_runtime\n",
    "\n",
    "\n",
    "def del_empty_spaces(words_list):\n",
    "\n",
    "    print(\"Im in del_empty_spaces!\")\n",
    "    i = 0\n",
    "    while i < len(words_list):\n",
    "\n",
    "        words_list[i] = words_list[i].strip()\n",
    "        i += 1\n",
    "    return words_list\n",
    "\n",
    "\n",
    "def time_to_count_word():\n",
    "\n",
    "    with open(r'C:\\Users\\Hagai\\Desktop\\חגי\\תכנות\\python\\מחברות\\week6\\resources\\words.txt', 'r') as words_file:\n",
    "\n",
    "        words_list = words_file.readlines()\n",
    "        words_list = del_empty_spaces(words_list)\n",
    "        words_set = set(words_list)\n",
    "\n",
    "        avg_runtime_list = get_average_runtime(words_list, \"zwitterion\")\n",
    "        avg_runtime_set = get_average_runtime(words_set, \"zwitterion\")\n",
    "\n",
    "        print(f\"The average runtime in list: {avg_runtime_list}\")\n",
    "        print(f\"The average runtime in set: {avg_runtime_set}\")\n",
    "\n",
    "\n",
    "time_to_count_word()"
   ]
  },
  {
   "cell_type": "markdown",
   "metadata": {},
   "source": [
    "<p style=\"text-align: right; direction: rtl; float: right; clear: both;\">\n",
    "    כמה זמן בממוצע נמשך חיפוש המילה ברשימה? ובקבוצה?<br>\n",
    "    רמז: <span style='background: black;'>השתמשו במודול <var>time</var>.</span>\n",
    "</p>"
   ]
  },
  {
   "cell_type": "markdown",
   "metadata": {},
   "source": [
    "### <span style=\"text-align: right; direction: rtl; float: right; clear: both;\">אופרטורים בין קבוצות</span>"
   ]
  },
  {
   "cell_type": "markdown",
   "metadata": {},
   "source": [
    "<p style=\"text-align: right; direction: rtl; float: right; clear: both;\">\n",
    "    לעיתים יהיה לנו נוח יותר להשתמש באופרטורים במקום בפעולות.<br>\n",
    "    לדוגמה, הפעולה של חיתוך בין שמות הדמויות בצבי הנינג'ה לשמות האומנים האיטלקים שנעשתה כך:\n",
    "</p>"
   ]
  },
  {
   "cell_type": "code",
   "execution_count": 42,
   "metadata": {},
   "outputs": [
    {
     "data": {
      "text/plain": [
       "{'Donatelo', 'Leonardo', 'Michelangelo', 'Raphael'}"
      ]
     },
     "execution_count": 42,
     "metadata": {},
     "output_type": "execute_result"
    }
   ],
   "source": [
    "italian_artists.intersection(ninja_turtles_characters)"
   ]
  },
  {
   "cell_type": "markdown",
   "metadata": {},
   "source": [
    "<p style=\"text-align: right; direction: rtl; float: right; clear: both;\">\n",
    "    יכולה להיעשות גם כך:\n",
    "</p>"
   ]
  },
  {
   "cell_type": "code",
   "execution_count": 43,
   "metadata": {},
   "outputs": [
    {
     "data": {
      "text/plain": [
       "{'Donatelo', 'Leonardo', 'Michelangelo', 'Raphael'}"
      ]
     },
     "execution_count": 43,
     "metadata": {},
     "output_type": "execute_result"
    }
   ],
   "source": [
    "italian_artists & ninja_turtles_characters"
   ]
  },
  {
   "cell_type": "markdown",
   "metadata": {},
   "source": [
    "<p style=\"text-align: right; direction: rtl; float: right; clear: both;\">\n",
    "    השימוש באופרטורים בין קבוצות יכול לקצר את הכתיבה ולשוות לה מראה נקי יותר.<br>\n",
    "    ריכזנו עבורכם אופרטורים שבהם משתמשים תדיר כשעובדים עם קבוצות:\n",
    "</p>"
   ]
  },
  {
   "cell_type": "markdown",
   "metadata": {},
   "source": [
    "<table style=\"text-align: right; direction: rtl; clear: both; font-size: 1.3rem\">\n",
    "    <caption style=\"text-align: center; direction: rtl; clear: both; font-size: 2rem; padding-bottom: 2rem;\">אופרטורים בין קבוצות</caption>\n",
    "    <thead>\n",
    "        <tr>\n",
    "            <th>שם פעולה</th>\n",
    "            <th>שם הפעולה בפייתון</th>\n",
    "            <th>אופרטור</th>\n",
    "            <th>דוגמה</th>\n",
    "        </tr>\n",
    "    </thead>\n",
    "    <tbody>\n",
    "        <tr>\n",
    "            <td>איחוד</td>\n",
    "            <td>union</td>\n",
    "            <td><code>|</code></td>\n",
    "            <td><code dir=\"ltr\">{1, 3, 5} | {1, 2, 3}</code> מחזיר <code dir=\"ltr\">{1, 2, 3, 5}</code></td>\n",
    "        </tr>\n",
    "        <tr>\n",
    "            <td>חיתוך</td>\n",
    "            <td>intersection</td>\n",
    "            <td><code>&</code></td>\n",
    "            <td><code dir=\"ltr\">{1, 3, 5} & {1, 2, 3}</code> מחזיר <code dir=\"ltr\">{1, 3}</code></td>\n",
    "        </tr>\n",
    "        <tr>\n",
    "            <td>הפרש</td>\n",
    "            <td>difference</td>\n",
    "            <td><code>-</code></td>\n",
    "            <td>\n",
    "                <code dir=\"ltr\">{1, 3, 5} - {1, 2, 3}</code> מחזיר <code dir=\"ltr\">{5}</code><br>\n",
    "                <code dir=\"ltr\">{1, 2, 3} - {1, 3, 5}</code> מחזיר <code dir=\"ltr\">{2}</code>\n",
    "            </td>\n",
    "        </tr>\n",
    "        <tr>\n",
    "            <td>הפרש סימטרי</td>\n",
    "            <td>symmetric_difference</td>\n",
    "            <td><code>^</code></td>\n",
    "            <td><code dir=\"ltr\">{1, 2, 3} ^ {1, 3, 5}</code> מחזיר <code dir=\"ltr\">{2, 5}</code></td>\n",
    "        </tr>\n",
    "        <tr>\n",
    "            <td>בדיקת שייכות/הכלה</td>\n",
    "            <td>issubset/issuperset</td>\n",
    "            <td><code dir=\"ltr\">&lt;=</code></td>\n",
    "            <td>\n",
    "                <code dir=\"ltr\">{1, 2, 3} &lt;= {1, 3, 5}</code> מחזיר <code>False</code><br>\n",
    "                <code dir=\"ltr\">{1, 2, 3} &lt;= {1, 2, 3, 4, 5}</code> מחזיר <code>True</code>\n",
    "            </td>\n",
    "        </tr>\n",
    "    </tbody>\n",
    "</table>"
   ]
  },
  {
   "cell_type": "markdown",
   "metadata": {},
   "source": [
    "<p style=\"text-align: right; direction: rtl; float: right; clear: both;\">\n",
    "    שימו לב לכך שאופרטורים בין קבוצות לרוב יוצרים קבוצה חדשה.<br>\n",
    "    במקרה שאנחנו יכולים לשנות קבוצה קיימת ולנצל את היותה של קבוצה mutable, נעדיף לבחור בדרך הפעולה הזו כדי לייעל את התוכנית שלנו.<br>\n",
    "</p>"
   ]
  },
  {
   "cell_type": "markdown",
   "metadata": {},
   "source": [
    "<p style=\"text-align: right; direction: rtl; float: right; clear: both;\">\n",
    "    כך, לדוגמה, הוספת איברים לקבוצה בצורה הזו:\n",
    "</p>"
   ]
  },
  {
   "cell_type": "code",
   "execution_count": 44,
   "metadata": {},
   "outputs": [
    {
     "name": "stdout",
     "output_type": "stream",
     "text": [
      "{2, 3, 5, 7, 11, 13, 17, 19}\n"
     ]
    }
   ],
   "source": [
    "primes = {2, 3, 5, 7}\n",
    "primes_to_add = {11, 13, 17, 19}\n",
    "primes.update(primes_to_add)\n",
    "print(primes)"
   ]
  },
  {
   "cell_type": "markdown",
   "metadata": {},
   "source": [
    "<p style=\"text-align: right; direction: rtl; float: right; clear: both;\">\n",
    "    עדיפה על הצורה הזו:\n",
    "</p>"
   ]
  },
  {
   "cell_type": "code",
   "execution_count": 45,
   "metadata": {},
   "outputs": [
    {
     "name": "stdout",
     "output_type": "stream",
     "text": [
      "{2, 3, 5, 7, 11, 13, 17, 19}\n"
     ]
    }
   ],
   "source": [
    "primes = {2, 3, 5, 7}\n",
    "primes_to_add = {11, 13, 17, 19}\n",
    "primes = primes | primes_to_add\n",
    "print(primes)"
   ]
  },
  {
   "cell_type": "markdown",
   "metadata": {},
   "source": [
    "## <span style=\"text-align: right; direction: rtl; float: right; clear: both;\">תרגיל לדוגמה</span>"
   ]
  },
  {
   "cell_type": "markdown",
   "metadata": {},
   "source": [
    "<p style=\"text-align: right; direction: rtl; float: right; clear: both;\">\n",
    "    כתבו פונקציה שמקבלת נתיב ל־2 תיקיות, ומחזירה שמות של קבצים שמופיעים בשתי התיקיות.\n",
    "</p>"
   ]
  },
  {
   "cell_type": "code",
   "execution_count": 54,
   "metadata": {},
   "outputs": [
    {
     "data": {
      "text/plain": [
       "{'deeper.svg',\n",
       " 'deeper2.svg',\n",
       " 'exercise.svg',\n",
       " 'logo.jpg',\n",
       " 'recall.svg',\n",
       " 'tip.png',\n",
       " 'warning.png'}"
      ]
     },
     "execution_count": 54,
     "metadata": {},
     "output_type": "execute_result"
    }
   ],
   "source": [
    "import os\n",
    "\n",
    "\n",
    "def get_filenames(path):\n",
    "    for file in os.scandir(path):\n",
    "        yield file.name\n",
    "\n",
    "\n",
    "def common_filenames(path1, path2):\n",
    "    path1_files = set(get_filenames(path1))\n",
    "    path2_files = set(get_filenames(path2))\n",
    "    return path1_files & path2_files\n",
    "\n",
    "\n",
    "common_filenames('images', 'resources/week5_images')\n",
    "common_filenames('images', 'resources/week5_images')"
   ]
  },
  {
   "cell_type": "markdown",
   "metadata": {},
   "source": [
    "## <span style=\"text-align: right; direction: rtl; float: right; clear: both;\">תרגילים</span>"
   ]
  },
  {
   "cell_type": "markdown",
   "metadata": {},
   "source": [
    "### <span style=\"text-align: right; direction: rtl; float: right; clear: both;\">חזרת</span>"
   ]
  },
  {
   "cell_type": "markdown",
   "metadata": {},
   "source": [
    "<p style=\"text-align: right; direction: rtl; float: right; clear: both;\">\n",
    "    כתבו פונקציה בשם <var>uniquify</var> שמקבלת רשימה של איברים, ומחזירה רשימה של אותם איברים וללא כפילויות.<br>\n",
    "    הניחו שאיברי כל הרשימה הם immutable.\n",
    "</p>"
   ]
  },
  {
   "cell_type": "code",
   "execution_count": 8,
   "metadata": {},
   "outputs": [
    {
     "name": "stdout",
     "output_type": "stream",
     "text": [
      "[1, 3, 4, 1989, 25, 90]\n"
     ]
    }
   ],
   "source": [
    "#upload 95\n",
    "def uniquify(num_list):\n",
    "    return list(set(num_list))\n",
    "\n",
    "\n",
    "print(uniquify([1, 1, 4, 4, 25, 1, 1989, 3, 90]))"
   ]
  },
  {
   "cell_type": "code",
   "execution_count": null,
   "metadata": {},
   "outputs": [],
   "source": []
  },
  {
   "cell_type": "markdown",
   "metadata": {},
   "source": [
    "### <span style=\"text-align: right; direction: rtl; float: right; clear: both;\">ספירת מלאי</span>"
   ]
  },
  {
   "cell_type": "markdown",
   "metadata": {},
   "source": [
    "<p style=\"text-align: right; direction: rtl; float: right; clear: both;\">\n",
    "    כתבו פונקציה בשם <var>count_specials</var> שמקבלת מספר שלם חיובי $n$.<br>\n",
    "    הפונקציה תחזיר את מספר המספרים החיוביים הנמוכים מ־$n$, שמתחלקים ב־3 או ב־7 ללא שארית.<br>\n",
    "    לדוגמה, עבור $n=22$, המספרים הם: 3, 6, 7, 9, 12, 14, 15, 18 ו־21. במקרה כזה הפונקציה תחזיר 9.\n",
    "</p>\n",
    "<p style=\"text-align: right; direction: rtl; float: right; clear: both;\">\n",
    "    ודאו שאתם משתמשים ב־set בפתרון התרגיל.\n",
    "</p>"
   ]
  },
  {
   "cell_type": "code",
   "execution_count": 4,
   "metadata": {},
   "outputs": [
    {
     "name": "stdout",
     "output_type": "stream",
     "text": [
      "9\n"
     ]
    }
   ],
   "source": [
    "#upload 96\n",
    "def count_specials(num):\n",
    "\n",
    "    divided_by_3_or_7 = set()\n",
    "    for i in range(1, num):\n",
    "\n",
    "        if i % 3 == 0 or i % 7 == 0:\n",
    "            divided_by_3_or_7.add(i)\n",
    "\n",
    "    return len(divided_by_3_or_7)\n",
    "\n",
    "\n",
    "print(count_specials(22))"
   ]
  },
  {
   "cell_type": "markdown",
   "metadata": {},
   "source": [
    "### <span style=\"text-align: right; direction: rtl; float: right; clear: both;\">שטוחלנדיה</span>"
   ]
  },
  {
   "cell_type": "markdown",
   "metadata": {},
   "source": [
    "<p style=\"text-align: right; direction: rtl; float: right; clear: both;\">\n",
    "    בפריסת מקלדת סטנדרטית ישנן 3 שורות של מקשי אותיות.<br>\n",
    "    האותיות שנמצאות בפינת המקלדת השמאלית־עליונה מרכיבות את הצירוף qwerty.<br>\n",
    "    מבין שמות כל המדינות בארצות הברית, ישנו רק שם מדינה אחד שאפשר לכתוב בעזרת שורה אחת בלבד במקלדת.<br>\n",
    "</p>"
   ]
  },
  {
   "cell_type": "markdown",
   "metadata": {},
   "source": [
    "<p style=\"text-align: right; direction: rtl; float: right; clear: both;\">\n",
    "    קראו את שמות כל המדינות בארצות־הברית מהקובץ resources/states.txt.<br>\n",
    "    כתבו פונקציה בשם <var>find_special_state</var>.<br>\n",
    "    הפונקציה תחזיר את שם המדינה שאפשר להרכיב בעזרת האותיות המופיעות באותה השורה במקלדת.\n",
    "</p>"
   ]
  },
  {
   "cell_type": "markdown",
   "metadata": {},
   "source": [
    "<p style=\"text-align: right; direction: rtl; float: right; clear: both;\">\n",
    "    לדוגמה, potter או hash הן מילים שנכתבו בעזרת שורה אחת במקלדת.<br>\n",
    "    turtle נכתבה בעזרת 2 שורות, ו־ninja נכתבה בעזרת 3 שורות.\n",
    "</p>"
   ]
  },
  {
   "cell_type": "code",
   "execution_count": 3,
   "metadata": {},
   "outputs": [
    {
     "name": "stdout",
     "output_type": "stream",
     "text": [
      "alaska\n"
     ]
    }
   ],
   "source": [
    "#upload 97\n",
    "def find_special_state():\n",
    "\n",
    "    with open(r'C:\\Users\\Hagai\\Desktop\\חגי\\תכנות\\python\\מחברות\\week6\\resources\\states.txt') as states_file:\n",
    "\n",
    "        states = states_file.read()\n",
    "        states_list = states.split('\\n')\n",
    "\n",
    "        set_of_letters_first_row = {'q', 'w', 'e', 'r', 't', 'y', 'u', 'i', 'o', 'p'}\n",
    "        set_of_letters_second_row = {'a', 's', 'd', 'f', 'g', 'h', 'j', 'k', 'l'}\n",
    "        set_of_letters_third_row = {'z', 'x', 'c', 'v', 'b', 'n', 'm'}\n",
    "\n",
    "        for state in states_list:\n",
    "\n",
    "            if ' ' in state:\n",
    "                state = state.replace(' ', '')\n",
    "            state_set = set(state)\n",
    "\n",
    "            if state_set.issubset(set_of_letters_first_row):\n",
    "                return state\n",
    "            elif state_set.issubset(set_of_letters_second_row):\n",
    "                return state\n",
    "            elif state_set.issubset(set_of_letters_third_row):\n",
    "                return state\n",
    "\n",
    "        return None\n",
    "\n",
    "\n",
    "print(find_special_state())"
   ]
  }
 ],
 "metadata": {
  "kernelspec": {
   "display_name": "Python 3",
   "language": "python",
   "name": "python3"
  },
  "language_info": {
   "codemirror_mode": {
    "name": "ipython",
    "version": 3
   },
   "file_extension": ".py",
   "mimetype": "text/x-python",
   "name": "python",
   "nbconvert_exporter": "python",
   "pygments_lexer": "ipython3",
   "version": "3.7.7"
  }
 },
 "nbformat": 4,
 "nbformat_minor": 2
}
