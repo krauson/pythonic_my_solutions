{
 "cells": [
  {
   "cell_type": "markdown",
   "metadata": {},
   "source": [
    "<img src=\"images/logo.jpg\" style=\"display: block; margin-left: auto; margin-right: auto;\" alt=\"לוגו של מיזם לימוד הפייתון. נחש מצויר בצבעי צהוב וכחול, הנע בין האותיות של שם הקורס: לומדים פייתון. הסלוגן המופיע מעל לשם הקורס הוא מיזם חינמי ללימוד תכנות בעברית.\">"
   ]
  },
  {
   "cell_type": "markdown",
   "metadata": {},
   "source": [
    "# <span style=\"text-align: right; direction: rtl; float: right;\">ירושה – חלק 2</span>"
   ]
  },
  {
   "cell_type": "markdown",
   "metadata": {},
   "source": [
    "## <span style=\"text-align: right; direction: rtl; float: right; clear: both;\">הקדמה</span>"
   ]
  },
  {
   "cell_type": "markdown",
   "metadata": {},
   "source": [
    "<p style=\"text-align: right; direction: rtl; float: right; clear: both;\">\n",
    "    בשיעור הקודם בנושא מחלקות למדנו ש<dfn>מחלקה</dfn> היא תבנית (\"שבלונה\") המאגדת תכונות ופעולות של ישות כלשהי.<br>\n",
    "    למדנו גם מה הוא מופע – התוצר של השימוש באותה שבלונה, באותה מחלקה, כדי ליצור פריט לפי השבלונה הזו.\n",
    "</p>"
   ]
  },
  {
   "cell_type": "markdown",
   "metadata": {},
   "source": [
    "<p style=\"text-align: right; direction: rtl; float: right; clear: both;\">\n",
    "    לדוגמה, מחלקת \"קבוצת ווטסאפ\" יכולה להיות מוגדרת כך:\n",
    "</p>\n",
    "\n",
    "<ul style=\"text-align: right; direction: rtl; float: right; clear: both;\">\n",
    "    <li><em>תכונות</em>: כותרת, משתמשים ורשימת הודעות.</li>\n",
    "    <li><em>פעולות</em>: שליחת הודעה, הצטרפות לקבוצה או יציאה מהקבוצה.</li>\n",
    "</ul>"
   ]
  },
  {
   "cell_type": "markdown",
   "metadata": {},
   "source": [
    "<p style=\"text-align: right; direction: rtl; float: right; clear: both;\">\n",
    "    קריאה למחלקת \"קבוצת ווטסאפ\" תיצור מופע חדש של קבוצת ווטסאפ, שבו יש את התכונות והפעולות שהוגדרו במחלקה.<br>\n",
    "    קריאה למחלקה 5 פעמים תיצור 5 קבוצות ווטסאפ שונות, שלכל אחת מהן התכונות והפעולות שהוגדרו במחלקה.\n",
    "</p>"
   ]
  },
  {
   "cell_type": "markdown",
   "metadata": {},
   "source": [
    "## <span style=\"text-align: right; direction: rtl; float: right; clear: both;\">שימושים נפוצים לירושה</span>"
   ]
  },
  {
   "cell_type": "markdown",
   "metadata": {},
   "source": [
    "<p style=\"text-align: right; direction: rtl; float: right; clear: both;\">\n",
    "    הרעיון של ירושה הוא כר פורה לשיח בין תיאורטיקנים של מדעי המחשב.<br>\n",
    "    נכתבו עליו מילים רבות, והוא מהווה נושא דיון מרכזי בדיונים על ארכיטקטורת תוכנה.<br>\n",
    "    נסקור בקצרה כמה מהטכניקות, הבסיסיות והפחות בסיסיות, שנולדו בזכות הרעיון.\n",
    "</p>"
   ]
  },
  {
   "cell_type": "markdown",
   "metadata": {},
   "source": [
    "### <span style=\"text-align: right; direction: rtl; float: right; clear: both;\">רמות ירושה מרובות</span>"
   ]
  },
  {
   "cell_type": "markdown",
   "metadata": {},
   "source": [
    "<p style=\"text-align: right; direction: rtl; float: right; clear: both;\">\n",
    "    הרעיון הבסיסי ביותר בירושה הוא העובדה שיכולה להיות יותר מרמה אחת של ירושה.<br>\n",
    "    קרי: אם מחלקה ב ירשה ממחלקה א, מחלקה ג יכולה לרשת ממחלקה ב.\n",
    "</p>"
   ]
  },
  {
   "cell_type": "markdown",
   "metadata": {},
   "source": [
    "<p style=\"text-align: right; direction: rtl; float: right; clear: both;\">\n",
    "    בקטע הקוד הבא, לדוגמה, המחלקה יונק (<var>Mammal</var>) יורשת מהמחלקה \"חיה\" (<var>Animal</var>).<br>\n",
    "    המחלקות עטלף (<var>Bat</var>) וארנב (<var>Rabbit</var>) יורשות מהמחלקה \"יונק\".\n",
    "</p>"
   ]
  },
  {
   "cell_type": "code",
   "execution_count": 149,
   "metadata": {},
   "outputs": [],
   "source": [
    "class Animal:\n",
    "    pass\n",
    "\n",
    "\n",
    "class Mammal(Animal):\n",
    "    pass\n",
    "\n",
    "\n",
    "class Bat(Mammal):\n",
    "    pass\n",
    "\n",
    "\n",
    "class Rabbit(Mammal):\n",
    "    pass"
   ]
  },
  {
   "cell_type": "markdown",
   "metadata": {},
   "source": [
    "<p style=\"text-align: right; direction: rtl; float: right; clear: both;\">\n",
    "    במקרה כזה, המחלקות <var>Bat</var> ו־<var>Rabbit</var> ירשו הן את התכונות והפעולות של המחלקה <var>Mammal</var>, והן את אלו של <var>Animal</var>.\n",
    "</p>"
   ]
  },
  {
   "cell_type": "markdown",
   "metadata": {},
   "source": [
    "<figure>\n",
    "    <img src=\"images/multilevel_inheritance.svg\" style=\"max-width: 400px; margin-right: auto; margin-left: auto; text-align: center;\" alt=\"בתמונה יש שתי תיבות. השמאלית עם הכותרת Song, ובה התכונות והפעולות השייכות למחלקה. אליה יוצא חץ מהתיבה הימנית, עם הכותרת Acrostic, ובה מופיעות אותן תכונות ופעולות בצבע אפור (כדי להמחיש שהן נלקחות מתוך המחלקה Song).\"/>\n",
    "    <figcaption style=\"margin-top: 2rem; text-align: center; direction: rtl;\">דוגמה לרמות ירושה מרובות: המחלקות <var>Rabbit</var> ו־<var>Bat</var> יורשות ממחלקה שיורשת ממחלקה נוספת.\n",
    "    </figcaption>\n",
    "</figure>"
   ]
  },
  {
   "cell_type": "markdown",
   "metadata": {},
   "source": [
    "<p style=\"text-align: right; direction: rtl; float: right; clear: both;\">\n",
    "    אפשר לקבל את שרשרת מחלקות־העל של מחלקה מסוימת לפי סדרן בעזרת <code dir=\"ltr\">class_name.mro()</code>:\n",
    "</p>"
   ]
  },
  {
   "cell_type": "code",
   "execution_count": null,
   "metadata": {},
   "outputs": [],
   "source": [
    "Bat.mro()"
   ]
  },
  {
   "cell_type": "markdown",
   "metadata": {},
   "source": [
    "<p style=\"text-align: right; direction: rtl; float: right; clear: both;\">\n",
    "    מבחינה ארכיטקטורית, מומלץ להמנע כמה שאפשר מירושה מרובת רמות כשאין בה צורך ממשי.<br>\n",
    "    ירושה מרובה תקשה מאוד על עריכת מחלקת־העל מבלי לפגוע במחלקות היורשות, תקשה על בדיקת התוכנית ותיצור בעיות תחזוקה בהמשך.\n",
    "</p>"
   ]
  },
  {
   "cell_type": "markdown",
   "metadata": {},
   "source": [
    "### <span style=\"text-align: right; direction: rtl; float: right; clear: both;\">מחלקה מופשטת</span>"
   ]
  },
  {
   "cell_type": "markdown",
   "metadata": {},
   "source": [
    "<p style=\"text-align: right; direction: rtl; float: right; clear: both;\">\n",
    "    לכל חיה יש צליל שהיא משמיעה: כלב נובח, פרה גועה ויונה הומה.<br>\n",
    "    נממש מחלקה עבור כל חיה:\n",
    "</p>"
   ]
  },
  {
   "cell_type": "code",
   "execution_count": null,
   "metadata": {},
   "outputs": [],
   "source": [
    "class Dog:\n",
    "    def __init__(self, name, gender):\n",
    "        self.name = name\n",
    "        self.gender = gender\n",
    "\n",
    "    def make_sound(self):\n",
    "        print(\"Woof\")\n",
    "    \n",
    "    def __str__(self):\n",
    "        return f\"I'm {self.name} the dog!\"\n",
    "\n",
    "\n",
    "class Cow:\n",
    "    def __init__(self, name, gender):\n",
    "        self.name = name\n",
    "        self.gender = gender\n",
    "\n",
    "    def make_sound(self):\n",
    "        print(\"Muuuuuuuuuu\")\n",
    "\n",
    "    def __str__(self):\n",
    "        return f\"I'm {self.name} the cow!\"\n",
    "\n",
    "\n",
    "class Dove:\n",
    "    def __init__(self, name, gender):\n",
    "        self.name = name\n",
    "        self.gender = gender\n",
    "\n",
    "    def make_sound(self):\n",
    "        print(\"Kukukuku!\")\n",
    "\n",
    "    def __str__(self):\n",
    "        return f\"I'm {self.name} the dove!\"\n",
    "\n",
    "\n",
    "print(Dove(\"Rexi\", \"Female\"))"
   ]
  },
  {
   "cell_type": "markdown",
   "metadata": {},
   "source": [
    "<p style=\"text-align: right; direction: rtl; float: right; clear: both;\">\n",
    "    נשים לב שצורת כל המחלקות דומה – מקרה קלאסי לירושה:\n",
    "</p>"
   ]
  },
  {
   "cell_type": "code",
   "execution_count": null,
   "metadata": {},
   "outputs": [],
   "source": [
    "class Animal:\n",
    "    def __init__(self, name, gender):\n",
    "        self.name = name\n",
    "        self.gender = gender\n",
    "\n",
    "\n",
    "class Dog(Animal):\n",
    "    def make_sound(self):\n",
    "        print(\"Woof\")\n",
    "\n",
    "    def __str__(self):\n",
    "        return f\"I'm {self.name} the dog!\"\n",
    "\n",
    "\n",
    "class Cow(Animal):\n",
    "    def make_sound(self):\n",
    "        print(\"Muuuuuuuuuu\")\n",
    "\n",
    "    def __str__(self):\n",
    "        return f\"I'm {self.name} the cow!\"\n",
    "\n",
    "\n",
    "class Dove(Animal):\n",
    "    def make_sound(self):\n",
    "        print(\"Kukukuku!\")\n",
    "\n",
    "    def __str__(self):\n",
    "        return f\"I'm {self.name} the dove!\"\n",
    "\n",
    "\n",
    "print(Dove(\"Rexi\", \"Female\"))"
   ]
  },
  {
   "cell_type": "markdown",
   "metadata": {},
   "source": [
    "<p style=\"text-align: right; direction: rtl; float: right; clear: both;\">\n",
    "    לעיתים קרובות אנחנו רוצים לממש קבוצת מחלקות שיש להן את אותן תכונות ופעולות – בדיוק כמו במקרה של <var>Dog</var>, <var>Cow</var> ו־<var>Dove</var>.<br>\n",
    "    מקרה כזה גורם לנו לפנות באופן טבעי לירושה, ולתת למחלקת־על להכיל את התכונות והפעולות המשותפות לכל המחלקות.\n",
    "</p>"
   ]
  },
  {
   "cell_type": "markdown",
   "metadata": {},
   "source": [
    "<p style=\"text-align: right; direction: rtl; float: right; clear: both;\">\n",
    "    החסרון במחלקת <var>Animal</var> הוא שכעת אפשר ליצור ישירות ממנה מופעים.<br>\n",
    "    זה לא מה שהתכוונו שיקרה – שהרי המחלקה הזו שם רק כדי לייצג רעיון מופשט של חיה, ולאפשר ירושת תכונות ופעולות ממקור אחוד.<br>\n",
    "    מטרת התוכנית שכתבנו היא לאפשר לבעלי־חיים להשמיע את קולם, ולכן אין משמעות ביצירת מופע מהמחלקה <var>Animal</var> – שהרי ל\"חיה\" כרעיון מופשט אין קול.<br>\n",
    "</p>"
   ]
  },
  {
   "cell_type": "markdown",
   "metadata": {},
   "source": [
    "<p style=\"text-align: right; direction: rtl; float: right; clear: both;\">\n",
    "    המצב שבו אנחנו משתמשים במחלקת־על רק למטרת איגוד מחלקות אחרות, נקרא \"<dfn>מחלקה מופשטת</dfn>\" (<dfn>Abstract Class</dfn>).<br>\n",
    "    במקרה כזה, אנחנו לא מעוניינים ליצור מחלקת־על שאי אפשר ליצור ממנה מופעים, ותתי־מחלקות שמממשות את התבנית שהוכתבה במחלקת־העל.<br>\n",
    "</p>"
   ]
  },
  {
   "cell_type": "markdown",
   "metadata": {},
   "source": [
    "<p style=\"text-align: right; direction: rtl; float: right; clear: both;\">\n",
    "    מתכנתים נוהגים להשאיר במחלקת־העל המופשטת את כותרות הפעולות שעל תת־המחלקות שיורשות ממנה לממש:\n",
    "</p>"
   ]
  },
  {
   "cell_type": "code",
   "execution_count": null,
   "metadata": {},
   "outputs": [],
   "source": [
    "class Animal:\n",
    "    def __init__(self, name, gender):\n",
    "        self.name = name\n",
    "        self.gender = gender\n",
    "    \n",
    "    def make_sound(self):\n",
    "        pass\n",
    "\n",
    "    def __str__(self):\n",
    "        pass\n",
    "\n",
    "\n",
    "class Dog(Animal):\n",
    "    def make_sound(self):\n",
    "        print(\"Woof\")\n",
    "\n",
    "    def __str__(self):\n",
    "        return f\"I'm {self.name} the dog!\"\n",
    "\n",
    "\n",
    "class Cow(Animal):\n",
    "    def make_sound(self):\n",
    "        print(\"Muuuuuuuuuu\")\n",
    "\n",
    "    def __str__(self):\n",
    "        return f\"I'm {self.name} the cow!\"\n",
    "\n",
    "\n",
    "class Dove(Animal):\n",
    "    def make_sound(self):\n",
    "        print(\"Kukukuku!\")\n",
    "\n",
    "    def __str__(self):\n",
    "        return f\"I'm {self.name} the dove!\"\n",
    "\n",
    "\n",
    "print(Dove(\"Rexi\", \"Female\"))"
   ]
  },
  {
   "cell_type": "markdown",
   "metadata": {},
   "source": [
    "<p style=\"text-align: right; direction: rtl; float: right; clear: both;\">\n",
    "    הרעיון של מחלקה מופשטת כה נפוץ, שהמודול הפייתוני <var>abc</var> (קיצור של ABstract Class) מאפשר לנו להגדיר מחלקה כמופשטת.<br>\n",
    "    נציץ ב<a href=\"https://docs.python.org/3/library/abc.html\">תיעוד</a> של המודול וננסה לעקוב אחריו, למרות כל השטרודלים המוזרים שיש שם:\n",
    "</p>"
   ]
  },
  {
   "cell_type": "markdown",
   "metadata": {},
   "source": [
    "<ul style=\"text-align: right; direction: rtl; float: right; clear: both;\">\n",
    "    <li>המחלקה המופשטת שלנו תירש מהמחלקה <var>ABC</var> שבמודול <var>abc</var>.</li>\n",
    "    <li>מעל כל פעולה מופשטת (כזו שמשמשת רק לירושה ולא עומדת בפני עצמה) נוסיף <code dir=\"ltr\">@abstractmethod</code>.</li>\n",
    "</ul>"
   ]
  },
  {
   "cell_type": "code",
   "execution_count": 171,
   "metadata": {},
   "outputs": [
    {
     "name": "stdout",
     "output_type": "stream",
     "text": [
      "I'm Rexi the dove!\n"
     ]
    }
   ],
   "source": [
    "from abc import ABC, abstractmethod\n",
    "\n",
    "\n",
    "class Animal(ABC):\n",
    "    @abstractmethod\n",
    "    def __init__(self, name, gender):\n",
    "        self.name = name\n",
    "        self.gender = gender\n",
    "\n",
    "    @abstractmethod\n",
    "    def make_sound(self):\n",
    "        pass\n",
    "\n",
    "    @abstractmethod\n",
    "    def __str__(self):\n",
    "        pass\n",
    "\n",
    "\n",
    "class Dog(Animal):\n",
    "    def __init__(self, **kwargs):\n",
    "        super().__init__(**kwargs)\n",
    "\n",
    "    def make_sound(self):\n",
    "        print(\"Woof\")\n",
    "\n",
    "    def __str__(self):\n",
    "        return f\"I'm {self.name} the dog!\"\n",
    "\n",
    "\n",
    "class Cow(Animal):\n",
    "    def __init__(self, **kwargs):\n",
    "        super().__init__(**kwargs)\n",
    "\n",
    "    def make_sound(self):\n",
    "        print(\"Muuuuuuuuuu\")\n",
    "\n",
    "    def __str__(self):\n",
    "        return f\"I'm {self.name} the cow!\"\n",
    "\n",
    "\n",
    "class Dove(Animal):\n",
    "    def __init__(self, **kwargs):\n",
    "        super().__init__(**kwargs)\n",
    "\n",
    "    def make_sound(self):\n",
    "        print(\"Kukukuku!\")\n",
    "\n",
    "    def __str__(self):\n",
    "        return f\"I'm {self.name} the dove!\"\n",
    "\n",
    "\n",
    "print(Dove(name=\"Rexi\", gender=\"Female\"))"
   ]
  },
  {
   "cell_type": "markdown",
   "metadata": {},
   "source": [
    "<p style=\"text-align: right; direction: rtl; float: right; clear: both;\">\n",
    "    חדי העין ישימו לב שהחזרנו את פעולת האתחול <code dir=\"ltr\">__init__</code> לכל תתי המחלקות.<br>\n",
    "    זה קרה כיוון שהגדרנו את <code dir=\"ltr\">__init__</code> כפעולה מופשטת במחלקת <var>Animal</var>.<br>\n",
    "    הגדרה של פעולה כמופשטת גוררת שתי השלכות מיידיות:\n",
    "</p>"
   ]
  },
  {
   "cell_type": "markdown",
   "metadata": {},
   "source": [
    "<ul style=\"text-align: right; direction: rtl; float: right; clear: both;\">\n",
    "    <li>תתי־המחלקות שיורשות מהמחלקה המופשטת, חייבות לממש את כל הפעולות שמוגדרות במחלקת־העל כמופשטות.</li>\n",
    "    <li>אם מישהו מנסה לגשת ישירות לפעולה המופשטת במחלקה בה היא הוגדרה במקור כמופשטת, תיזרק שגיאה.</li>\n",
    "</ul>"
   ]
  },
  {
   "cell_type": "markdown",
   "metadata": {},
   "source": [
    "<p style=\"text-align: right; direction: rtl; float: right; clear: both;\">\n",
    "    עכשיו כשנרצה ליצור מופע מ־<var>Animal</var>, נגלה שזה בלתי אפשרי, כיוון שפעולת האתחול מוגדרת כמופשטת:\n",
    "</p>"
   ]
  },
  {
   "cell_type": "code",
   "execution_count": 82,
   "metadata": {},
   "outputs": [
    {
     "ename": "TypeError",
     "evalue": "Can't instantiate abstract class Animal with abstract methods __init__, __str__, make_sound",
     "output_type": "error",
     "traceback": [
      "\u001b[1;31m---------------------------------------------------------------------------\u001b[0m",
      "\u001b[1;31mTypeError\u001b[0m                                 Traceback (most recent call last)",
      "\u001b[1;32m<ipython-input-82-4a27910ace5a>\u001b[0m in \u001b[0;36m<module>\u001b[1;34m\u001b[0m\n\u001b[1;32m----> 1\u001b[1;33m \u001b[0mAnimal\u001b[0m\u001b[1;33m(\u001b[0m\u001b[1;34m\"Rexi\"\u001b[0m\u001b[1;33m,\u001b[0m \u001b[1;34m\"Female\"\u001b[0m\u001b[1;33m)\u001b[0m\u001b[1;33m\u001b[0m\u001b[1;33m\u001b[0m\u001b[0m\n\u001b[0m",
      "\u001b[1;31mTypeError\u001b[0m: Can't instantiate abstract class Animal with abstract methods __init__, __str__, make_sound"
     ]
    }
   ],
   "source": [
    "Animal(\"Rexi\", \"Female\")"
   ]
  },
  {
   "cell_type": "markdown",
   "metadata": {},
   "source": [
    "<p style=\"text-align: right; direction: rtl; float: right; clear: both;\">\n",
    "    עוד משהו מעניין לשים לב אליו הוא השימוש הכבד ב־<code dir=\"ltr\">**kwargs</code>.<br>\n",
    "    כיוון שהפכנו את <code dir=\"ltr\">__init__</code> למופשטת, אנחנו חייבים לממש אותה בכל תתי־המחלקות שיורשות מ־<var>Animal</var>.<br>\n",
    "    למרות זאת, ה־<code dir=\"ltr\">__init__</code> הרלוונטית היחידה היא זו של מחלקת־העל <var>Animal</var>, שמקבלת את הפרמטרים <var>name</var> ו־<var>gender</var> ומשנה לפיהם את מצב המופע. \n",
    "</p>"
   ]
  },
  {
   "cell_type": "markdown",
   "metadata": {},
   "source": [
    "<p style=\"text-align: right; direction: rtl; float: right; clear: both;\">\n",
    "    אם מישהו ינסה לייצר מופע של אחת מהחיות, הוא ירצה להעביר את הפרמטרים <var>name</var> ו־<var>gender</var> שמיועדים ל־<code dir=\"ltr\">Animal.__init__</code>.<br>\n",
    "    אבל ביצירת מופע של יונה, של פרה או של כלב הוא יקרא ל־<code dir=\"ltr\">__init__</code> שמימשו תתי־המחלקות.<br>\n",
    "    בשלב הזה, תתי־המחלקות צריכות למצוא דרך לקבל את הפרמטרים הרלוונטיים מהמשתמש ולהעביר אותן למחלקת־העל.<br>\n",
    "    כדי להעביר את כל הפרמטרים שמחלקת־העל צריכה גם אם חתימת הפעולה <code dir=\"ltr\">Animal.__init__</code> תשתנה בעתיד, אנחנו משתמשים ב־<code dir=\"ltr\">**kwargs</code>.\n",
    "</p>"
   ]
  },
  {
   "cell_type": "markdown",
   "metadata": {},
   "source": [
    "### <span style=\"text-align: right; direction: rtl; float: right; clear: both;\">ירושה מרובה</span>"
   ]
  },
  {
   "cell_type": "markdown",
   "metadata": {},
   "source": [
    "<p style=\"text-align: right; direction: rtl; float: right; clear: both;\">\n",
    "    כל מחלקה יכולה לרשת מיותר ממחלקה אחת.\n",
    "</p>"
   ]
  },
  {
   "cell_type": "markdown",
   "metadata": {},
   "source": [
    "<p style=\"text-align: right; direction: rtl; float: right; clear: both;\">\n",
    "    נדמיין שיש לנו מחלקה המייצגת כלי נשק, ומחלקה אחרת המייצגת כלי רכב.<br>\n",
    "    מחלקת כלי הנשק כוללת את כוח כלי הנשק (<var>strength</var>) ואת הפעולה <var>attack</var>.<br>\n",
    "    מחלקת כלי הרכב כוללת את מהירות כלי הרכב (<var>max_speed</var>) ופעולה של הערכת זמן הגעה משוער (<var>estimate_arrival_time</var>).\n",
    "</p>"
   ]
  },
  {
   "cell_type": "markdown",
   "metadata": {},
   "source": [
    "<p style=\"text-align: right; direction: rtl; float: right; clear: both;\">\n",
    "    אם נרצה ליצור מחלקת טנק, לדוגמה, יתכן שנרצה לרשת גם ממחלקת כלי הנשק וגם ממחלקת כלי הרכב.<br>\n",
    "    פייתון מאפשרת לנו לעשות זאת בקלות יחסית:\n",
    "</p>"
   ]
  },
  {
   "cell_type": "code",
   "execution_count": 172,
   "metadata": {},
   "outputs": [],
   "source": [
    "class Weapon:\n",
    "    def __init__(self, strength, **kwargs):\n",
    "        super().__init__(**kwargs)\n",
    "        self.strength = strength\n",
    "\n",
    "    def attack(self, enemy):\n",
    "        enemy.decrease_health_points(self.strength)\n",
    "\n",
    "\n",
    "class Vehicle:\n",
    "    def __init__(self, max_speed, **kwargs):\n",
    "        super().__init__(**kwargs)\n",
    "        self.max_speed = max_speed\n",
    "\n",
    "    def estimate_arrival_time(self, distance):\n",
    "        return distance / (self.max_speed * 80 / 100)\n",
    "\n",
    "\n",
    "class Tank(Weapon, Vehicle):\n",
    "    def __init__(self, name, **kwargs):\n",
    "        super().__init__(**kwargs)\n",
    "        self.name = name"
   ]
  },
  {
   "cell_type": "markdown",
   "metadata": {},
   "source": [
    "<p style=\"text-align: right; direction: rtl; float: right; clear: both;\">\n",
    "    בדוגמה שלמעלה מחלקת <var>Tank</var> יורשת את התכונות והפעולות הן של מחלקת <var>Vehicle</var> והן של מחלקת <var>Weapon</var>.<br>\n",
    "    ניצור טנק לדוגמה:\n",
    "</p>"
   ]
  },
  {
   "cell_type": "code",
   "execution_count": 158,
   "metadata": {},
   "outputs": [
    {
     "name": "stdout",
     "output_type": "stream",
     "text": [
      "Tank name: Merkava Mk 4M Windbreaker\n",
      "Hours from here to Eilat: 1.97265625\n",
      "Weapon strength: 17.7\n"
     ]
    }
   ],
   "source": [
    "tank = Tank(name=\"Merkava Mk 4M Windbreaker\", max_speed=64, strength=17.7)\n",
    "distance = 101  # km to Eilat\n",
    "\n",
    "# נשים לב שלטנק יש תכונות של טנק, של כלי נשק ושל כלי רכב\n",
    "print(f\"Tank name: {tank.name}\")\n",
    "print(f\"Hours from here to Eilat: {tank.estimate_arrival_time(distance)}\")\n",
    "print(f\"Weapon strength: {tank.strength}\")"
   ]
  },
  {
   "cell_type": "markdown",
   "metadata": {},
   "source": [
    "<p style=\"text-align: right; direction: rtl; float: right; clear: both;\">\n",
    "    ירושה מרובה היא נושא שיחה נפיץ.<br>\n",
    "    בגלל הסיבוכיות והשכבות הנוספות שהיא מוסיפה לכל מופע, תמצאו מתכנתים רבים <a href=\"https://softwareengineering.stackexchange.com/q/218458/224112\">שמתנגדים אליו באדיקות</a>.<br>\n",
    "</p>"
   ]
  },
  {
   "cell_type": "markdown",
   "metadata": {},
   "source": [
    "<p style=\"text-align: right; direction: rtl; float: right; clear: both;\">\n",
    "    כסקירה זריזה, נציג את אחת הבעיות הקלאסיות שנובעות מירושה מרובה – <a href=\"https://en.wikipedia.org/wiki/Multiple_inheritance#The_diamond_problem\">בעיית היהלום</a>.<br>\n",
    "    בבעיה זו מוצגת תת־מחלקה שיורשת מ־2 מחלקות־על, שהן עצמן תת־מחלקות של מחלקה נוספת.<br>\n",
    "    לדוגמה: מחלקת \"כפתור\" יורשת ממחלקת \"לחיץ\" וממחלקת \"מלבן\", שיורשות ממחלקת \"אובייקט\".<br>\n",
    "    אם גם \"לחיץ\" וגם \"מלבן\" מימשו את פעולת <code>__str__</code> אבל מחלקת \"כפתור\" לא, באיזו גרסה של <code>__str__</code> מחלקת \"כפתור\" צריכה להשתמש?<br>\n",
    "    ומה בנוגע למצב שבו גם \"לחיץ\" וגם \"אובייקט\" מימשו את הפעולה?<br> \n",
    "</p>"
   ]
  },
  {
   "cell_type": "markdown",
   "metadata": {},
   "source": [
    "<figure>\n",
    "    <img src=\"images/diamond_problem.svg?v=0\" style=\"max-width: 450px; margin-right: auto; margin-left: auto; text-align: center;\" alt=\"עץ ירושה בצורת מעוין. בחלק העליון מוצגת המחלקה 'אובייקט', מתוכה יוצאים שני חצים למחלקות 'לחיץ' ו'מלבן' שנמצאות תחתיה. משתיהן יוצאים חצים לתת־המחלקה 'כפתור' שיורשת מהן וממוקמת הכי נמוך בתמונה.\"/>\n",
    "    <figcaption style=\"margin-top: 2rem; text-align: center; direction: rtl;\">\n",
    "        עץ ירושה בצורת יהלום המדגים את הבעיה המתוארת.\n",
    "    </figcaption>\n",
    "</figure>"
   ]
  },
  {
   "cell_type": "markdown",
   "metadata": {},
   "source": [
    "<p style=\"text-align: right; direction: rtl; float: right; clear: both;\">\n",
    "    כפי שוודאי הצלחתם להבין, ירושה מרובה יכולה להכניס אותנו להרבה \"פינות\" שלא מוגדרות היטב.<br>\n",
    "    מהסיבה הזו פייתון החליטה לעשות מעשה, וליישר בכוח את העץ.<br>\n",
    "    נביט בשרשרת הירושה של מחלקת <var>Tank</var>:\n",
    "</p>"
   ]
  },
  {
   "cell_type": "code",
   "execution_count": 147,
   "metadata": {},
   "outputs": [
    {
     "data": {
      "text/plain": [
       "[__main__.Tank, __main__.Weapon, __main__.Vehicle, object]"
      ]
     },
     "execution_count": 147,
     "metadata": {},
     "output_type": "execute_result"
    }
   ],
   "source": [
    "Tank.mro()"
   ]
  },
  {
   "cell_type": "markdown",
   "metadata": {},
   "source": [
    "<p style=\"text-align: right; direction: rtl; float: right; clear: both;\">\n",
    "    למרות שטכנית היינו מצפים לראות עץ שבו <var>Weapon</var> ו־<var>Vehicle</var> נמצאות באותה רמה ומצביעות על <var>Tank</var>,<br>\n",
    "    בפועל פייתון \"משטחת\" את עץ הירושה כך ש־<var>Tank</var> יורש מ־<var>Weapon</var> שיורש מ־<var>Vehicle</var>.<br>\n",
    "    הסדר של המחלקות לאחר השיטוח נקבע לפי אלגוריתם שנקרא <a href=\"https://en.wikipedia.org/wiki/C3_linearization\">C3 Linearization</a>, אבל זה לא משהו שבאמת חשוב לדעת בשלב הזה.\n",
    "</p>"
   ]
  },
  {
   "cell_type": "markdown",
   "metadata": {},
   "source": [
    "<figure>\n",
    "    <img src=\"images/multiple_inheritance.svg?v=4\" style=\"max-width: 900px; margin-right: auto; margin-left: auto; text-align: center;\" alt=\"בתמונה יש שני צדדים המופרדים בקו מקווקו. כותרת הצד הימני היא 'ירושה מרובה לפי הספר', ובה רואים את מחלקות Weapon ו־Vehicle באותו גובה, כששתיהן מצביעות ישירות למחלקת Tank. כותרת הצד השמאלי של התמונה היא 'ירושה בפייתון', ובה רואים את מחלקת Tank יורשת ממחלקת Vehicle שיורשת ממחלקת Weapon.\"/>\n",
    "    <figcaption style=\"margin-top: 2rem; text-align: center; direction: rtl;\">דוגמה להשטחה שפייתון עושה לירושה מרובה.\n",
    "    </figcaption>\n",
    "</figure>"
   ]
  },
  {
   "cell_type": "markdown",
   "metadata": {},
   "source": [
    "### <span style=\"text-align: right; direction: rtl; float: right; clear: both;\">Mixin</span>"
   ]
  },
  {
   "cell_type": "markdown",
   "metadata": {},
   "source": [
    "<p style=\"text-align: right; direction: rtl; float: right; clear: both;\">\n",
    "    אחד השימושים הנפוצים לירושה מרובה הוא רעיון שנקרא Mixins.<br>\n",
    "    ב<dfn>Mixin</dfn> אנחנו נשתמש ב־2 מחלקות שלרוב אין להן מטרה כמחלקות בפני עצמן כדי להרכיב מחלקות מורכבות יותר.<br>\n",
    "    לדוגמה: ניצור מחלקת \"כפתור\" (<var>Button</var>) שיורשת ממחלקת \"מלבן\" (<var>Rectangle</var>) וממחלקת \"לחיץ\" (<var>Clickable</var>).\n",
    "</p>"
   ]
  },
  {
   "cell_type": "code",
   "execution_count": 178,
   "metadata": {},
   "outputs": [],
   "source": [
    "class Clickable:\n",
    "    def __init__(self, **kwargs):\n",
    "        super().__init__(**kwargs)\n",
    "        self.clicks = 0\n",
    "\n",
    "    def click(self):\n",
    "        self.clicks = self.clicks + 1\n",
    "\n",
    "\n",
    "class Rectangle:\n",
    "    def __init__(self, x_start, y_start, x_end, y_end, **kwargs):\n",
    "        super().__init__(**kwargs)\n",
    "        self.upper_right = (x_start, y_start)\n",
    "        self.lower_down = (x_end, y_end)\n",
    "    \n",
    "    def size(self):\n",
    "        width = abs(self.upper_right[0] - self.lower_down[0])\n",
    "        height = abs(self.upper_right[1] - self.lower_down[1])\n",
    "        return width * height\n",
    "\n",
    "\n",
    "class Button(Clickable, Rectangle):\n",
    "    pass"
   ]
  },
  {
   "cell_type": "markdown",
   "metadata": {},
   "source": [
    "<p style=\"text-align: right; direction: rtl; float: right; clear: both;\">\n",
    "    ניצור כפתור ונראה שהוא אכן קיבל את התכונות והפעולות משתי המחלקות:\n",
    "</p>"
   ]
  },
  {
   "cell_type": "code",
   "execution_count": 183,
   "metadata": {},
   "outputs": [
    {
     "name": "stdout",
     "output_type": "stream",
     "text": [
      "Button size (from Rectangle class): 100\n",
      "Button clicks (from Clickable class): 1\n"
     ]
    }
   ],
   "source": [
    "buy_now = Button(x_start=0, y_start=0, x_end=10, y_end=10)\n",
    "buy_now.click()\n",
    "print(f\"Button size (from Rectangle class): {buy_now.size()}\")\n",
    "print(f\"Button clicks (from Clickable class): {buy_now.clicks}\")"
   ]
  },
  {
   "cell_type": "markdown",
   "metadata": {},
   "source": [
    "<p style=\"text-align: right; direction: rtl; float: right; clear: both;\">\n",
    "    ההבדל בין Mixins לבין ירושה מרובה מטושטש מעט.<br>\n",
    "    הדגש ב־Mixins הוא שימוש במחלקות־העל כיכולות שאפשר לרשת מהן, ולא כמשהו שממנו נייצר מופעים חדשים.\n",
    "</p>"
   ]
  },
  {
   "cell_type": "markdown",
   "metadata": {},
   "source": [
    "<p style=\"text-align: right; direction: rtl; float: right; clear: both;\">\n",
    "    נדמיין שאנחנו בית דפוס, ואנחנו רוצים ליצור מחלקה של ספר.<br>\n",
    "    בבית הדפוס אנחנו מחזיקים מחלקה של טקסט (<var>Text</var>) שבה יש את הפעולה <var>count_words</var>.<br>\n",
    "    בבית הדפוס שלנו אנחנו מייצרים ספרי טקסט וספרי תמונות. \n",
    "</p>"
   ]
  },
  {
   "cell_type": "code",
   "execution_count": 108,
   "metadata": {},
   "outputs": [],
   "source": [
    "class Book:\n",
    "    WORDS_IN_SAMPLE = 100\n",
    "\n",
    "    def __init__(self, title, authors, release_year, content, *args, **kwargs):\n",
    "        super().__init__(*args, **kwargs)\n",
    "        self.title = title\n",
    "        self.authors = authors\n",
    "        self.release = release_year\n",
    "\n",
    "\n",
    "class Text:\n",
    "    def __init__(self, text, *args, **kwargs):\n",
    "        super().__init__(*args, **kwargs)\n",
    "        self.text = text\n",
    "    \n",
    "    def count_words(text):\n",
    "        return len(text.split())\n",
    "\n",
    "    def get_sample(self):\n",
    "        words = self.content.split(maxsplit=self.WORDS_IN_SAMPLE)\n",
    "        return words[:self.WORDS_IN_SAMPLE]\n",
    "\n",
    "    def __len__(self):\n",
    "        return len(text)\n",
    "\n",
    "\n",
    "class Textbook(Book, Text):\n",
    "    def __init__(self, *args, **kwargs):\n",
    "        super().__init__(*args, **kwargs)"
   ]
  },
  {
   "cell_type": "markdown",
   "metadata": {},
   "source": [
    "<p style=\"text-align: right; direction: rtl; float: right; clear: both;\">\n",
    "    \n",
    "</p>"
   ]
  },
  {
   "cell_type": "code",
   "execution_count": 110,
   "metadata": {},
   "outputs": [],
   "source": [
    "n = Textbook(text=\"Hello\", content=\"Hello\", title=\"A\", authors=[], release_year='2016')"
   ]
  },
  {
   "cell_type": "markdown",
   "metadata": {},
   "source": [
    "## <span style=\"text-align: right; direction: rtl; float: right; clear: both;\">מונחים</span>"
   ]
  },
  {
   "cell_type": "markdown",
   "metadata": {},
   "source": [
    "<dl style=\"text-align: right; direction: rtl; float: right; clear: both;\">\n",
    "    <dt>משתני מחלקה (Class Variables)</dt>\n",
    "    <dd>\n",
    "        משתנים המוגדרים ברמת המחלקה ונגישים עבור כל המופעים שנוצרו ממנה.<br>\n",
    "        בדרך כלל אלו משתנים קבועים שהמופעים משתמשים בהם לצורכי קריאה בלבד.<br>\n",
    "        לדוגמה: משתנה בראש מחלקת \"תיבת דואר\" שמגדיר את נפח האחסון המירבי ל־5 ג'יגה בייט.\n",
    "    </dd>\n",
    "    <dt>הכלה (Containment)</dt>\n",
    "    <dd>\n",
    "        מצב שבו נעשה שימוש במופע שנוצר במחלקה A בתוך מופע של מחלקה B.<br>\n",
    "        לדוגמה: בתוך מופע של מחלקת \"הודעת דואר\", תכונת הנמען והמוען יהיו מופעים של מחלקת \"משתמש\". \n",
    "    </dd>\n",
    "    <dt>כימוס (Encapsulation)</dt>\n",
    "    <dd>\n",
    "        איגוד תכונות ופעולות תחת מחלקה, וצמצום הגישה של המשתמש במחלקה למצב הפנימי של המופעים שנוצרו ממנה.<br>\n",
    "        בפועל, ימומש על ידי הגבלה לגישה ולעריכה של תכונות ופעולות מסוימות, כך שיתאפשרו רק מקוד שנכתב בתוך המחלקה.<br>\n",
    "        עם זאת, החלטה על הסתרת תכונות רבות מדי עלולה ליצור קוד ארוך ומסורבל, ובפייתון נהוג להשתמש ברעיון בצמצום.<br>\n",
    "    </dd>\n",
    "    <dt>תכונה/פעולה מוגנת (Protected Attribute) או תכונה/פעולה פרטית (Private Attribute)</dt>\n",
    "    <dd>\n",
    "        תכונה שהגישה אליה יכולה להתבצע רק מתוך המחלקה.<br>\n",
    "        טכנית, פייתון תמיד מאפשרת למתכנת לשנות ערכים – אפילו אם הם מוגדרים כמוגנים או כפרטיים.<br>\n",
    "        מעשית, עליכם להימנע בכל דרך אפשרית משינוי של משתנה שמוגדר כמוגן או פרטי, כל עוד אתם יכולים.\n",
    "    </dd>\n",
    "    <dt>פעולת גישה ושינוי (Accessor/Mutator Method)</dt>\n",
    "    <dd>\n",
    "        פעולה שמטרתה לגשת (Accessor) או לשנות (Mutator) ערך של תכונה מסוימת, בעיקר בהקשרי תכונות מוגנות או פרטיות.<br>\n",
    "        מטרת ה־Accessor היא לאחזר את ערך התכונה המבוקשת בצורה מתאימה, לעיתים אחרי עיבוד מסוים.<br>\n",
    "        מטרת ה־Mutator היא לוודא ששינוי הערך תקין ולא מזיק למופע או משנה אותו למצב לא תקין.<br>\n",
    "        פעולות אלו נקראות גם <dfn>getters</dfn> ו־<dfn>setters</dfn>.\n",
    "    </dd>\n",
    "</dl>"
   ]
  },
  {
   "cell_type": "markdown",
   "metadata": {},
   "source": [
    "## <span style=\"text-align: right; direction: rtl; float: right; clear: both;\">תרגיל לדוגמה</span>"
   ]
  },
  {
   "cell_type": "markdown",
   "metadata": {},
   "source": [
    "<p style=\"text-align: right; direction: rtl; float: right; clear: both;\">\n",
    "    בהמשך להצלחה המסחררת של אפליקציית צ'יקצ'וק, החלטנו להשיק את יישומון המסרים המיידיים \"מנשמעעעעעעע XPPP\".<br>\n",
    "    תחילה, ניצור מחלקה שתייצג משתמש.\n",
    "</p>"
   ]
  },
  {
   "cell_type": "markdown",
   "metadata": {},
   "source": [
    "<p style=\"text-align: right; direction: rtl; float: right; clear: both;\">\n",
    "    לכל משתמש יש:\n",
    "</p>\n",
    "\n",
    "<ul style=\"text-align: right; direction: rtl; float: right; clear: both;\">\n",
    "    <li><em>תכונות</em>: כינוי (<var>nickname</var>) תאריך אחרון שנצפה (<var>last_seen</var>) ואנשי קשר (<var>contacts</var>).</li>\n",
    "    <li><em>פעולות</em>: התחבר (<var>connect</var>), האם מחובר? (<var>is_online</var>; בודקת אם התחבר בדקה האחרונה).</li>\n",
    "</ul>"
   ]
  },
  {
   "cell_type": "markdown",
   "metadata": {},
   "source": [
    "<p style=\"text-align: right; direction: rtl; float: right; clear: both;\">\n",
    "    לכל הודעה יש:\n",
    "</p>\n",
    "\n",
    "<ul style=\"text-align: right; direction: rtl; float: right; clear: both;\">\n",
    "    <li><em>תכונות</em>: תאריך שליחה (<var>send_date</var>), אם נצפתה (<var>seen</var>), מוען (שולח; <var>sender</var>), נמען (מקבל; <var>recipient</var>) ותוכן (<var>content</var>).</li>\n",
    "    <li><em>פעולות</em>: סימון הודעה כנקראה (<var>mark_as_read</var>).</li>\n",
    "</ul>"
   ]
  },
  {
   "cell_type": "code",
   "execution_count": null,
   "metadata": {},
   "outputs": [],
   "source": [
    "import datetime\n",
    "import time\n",
    "\n",
    "\n",
    "class User:\n",
    "    \"\"\"A user can connect and can contact with other users.\n",
    "\n",
    "    Args:\n",
    "        nickname (str): The username of the user.\n",
    "\n",
    "    Attributes:\n",
    "        nickname (str): The username of the user.\n",
    "        _contacts (list of User): Other users whose added to the\n",
    "                                  user's contacts.\n",
    "        last_seen (float): The last time the user connected in seconds\n",
    "                           since the Epoch.\n",
    "    \"\"\"\n",
    "    SECONDS_UNTIL_DISCONNECTED = 60\n",
    "\n",
    "    def __init__(self, nickname):\n",
    "        self.nickname = nickname\n",
    "        self._contacts = []\n",
    "        self.last_seen = time.time()\n",
    "\n",
    "    def is_online(self):\n",
    "        \"\"\"Determine if the user is currently connected.\n",
    "\n",
    "        \"Connected user\" is a user that logged in at the last X\n",
    "        seconds, where X is a constant defined as a class variable.\n",
    "\n",
    "        Returns:\n",
    "            bool: True if the user currently connected, False otherwise.\n",
    "        \"\"\"\n",
    "        seconds_since_seen = time.time() - self.last_seen\n",
    "        return seconds_since_seen < self.SECONDS_UNTIL_DISCONNECTED\n",
    "\n",
    "    def connect(self):\n",
    "        \"\"\"Makes the user connected.\n",
    "\n",
    "        Returns:\n",
    "            None.\n",
    "        \"\"\"\n",
    "        self.last_seen = time.time()\n",
    "    \n",
    "    def add_contact(self, contact):\n",
    "        \"\"\"Add contact to the user's contacts.\n",
    "\n",
    "        Args:\n",
    "            contact (User): A user to add to the user's contacts.\n",
    "\n",
    "        Returns:\n",
    "            bool: True if the addition was successful, False otherwise.\n",
    "        \"\"\"\n",
    "        if contact in self._contacts:\n",
    "            return False\n",
    "        self._contacts.append(contact)\n",
    "        return True\n",
    "\n",
    "    def remove_contact(self, contact):\n",
    "        \"\"\"Remove a contact from the user's contacts.\n",
    "\n",
    "        Args:\n",
    "            contact (User): A user to remove from the user's contacts.\n",
    "\n",
    "        Returns:\n",
    "            bool: True if the deletion was successful, False otherwise.\n",
    "        \"\"\"\n",
    "        if contact not in self._contacts:\n",
    "            return False\n",
    "        self._contacts.remove(contact)\n",
    "        return True\n",
    "\n",
    "    def get_contacts(self):\n",
    "        \"\"\"Return the user's contacts list.\"\"\"\n",
    "        return self._contacts\n",
    "    \n",
    "    def pretty_last_seen(self, dateformat='%Y-%m-%d %H:%M:%S'):\n",
    "        \"\"\"Show prettified date of when the user last connected.\n",
    "\n",
    "        Args:\n",
    "            dateformat (str): The format in which the time will\n",
    "                              be displayed. \n",
    "\n",
    "        Returns:\n",
    "            str: Last time the user connected.\n",
    "        \"\"\"\n",
    "        localtime = time.localtime(self.last_seen)\n",
    "        return time.strftime(dateformat, localtime)\n",
    "    \n",
    "    def __str__(self):\n",
    "        \"\"\"Show the user's details.\n",
    "\n",
    "        Returns:\n",
    "            str: The user representation currently.\n",
    "        \"\"\"\n",
    "        if self.is_online():\n",
    "            seen_message = 'Online'\n",
    "        else:\n",
    "            seen_message = self.pretty_last_seen()\n",
    "        return f\"{self.nickname} ({seen_message})\"\n",
    "\n",
    "\n",
    "class Message:\n",
    "    \"\"\"A deliverable message with status.\n",
    "    \n",
    "    A message can be sent from one user to another and\n",
    "    can be mark as read by the recipient.\n",
    "    \n",
    "    Args:\n",
    "        sender (User): The message sender's user.\n",
    "        recipient (User): The message recipient's user.\n",
    "        content (str): The body of the message.\n",
    "\n",
    "    Attributes:\n",
    "        send_date (float): The time the message was sent \n",
    "                           in seconds since the Epoch.\n",
    "        seen (bool): True if the recipient saw the message.\n",
    "        sender (User): The message sender's user.\n",
    "        recipient (User): The message recipient's user.\n",
    "        content (str): The body of the message.\n",
    "    \"\"\"\n",
    "\n",
    "    def __init__(self, sender, recipient, content):\n",
    "        self.send_date = time.time()\n",
    "        self.seen = False\n",
    "        self.sender = sender\n",
    "        self.recipient = recipient\n",
    "        self.content = content\n",
    "\n",
    "    def pretty_send_date(self, dateformat='%Y-%m-%d %H:%M:%S'):\n",
    "        \"\"\"Show prettified date of when the message was sent.\n",
    "\n",
    "        Args:\n",
    "            dateformat (str): The format in which the time will be\n",
    "                              displayed. \n",
    "\n",
    "        Returns:\n",
    "            str: The time the message was sent.\n",
    "        \"\"\"\n",
    "        localtime = time.localtime(self.send_date)\n",
    "        return time.strftime(dateformat, localtime)\n",
    "\n",
    "    def mark_as_read(self):\n",
    "        \"\"\"Mark the message as read.\n",
    "\n",
    "        Returns:\n",
    "            None.\n",
    "        \"\"\"\n",
    "        self.seen = True\n",
    "\n",
    "    def __str__(self):\n",
    "        \"\"\"Return the message's details.\n",
    "\n",
    "        Returns:\n",
    "            str: The message representation.\n",
    "        \"\"\"\n",
    "        message = (\n",
    "            f\"From: {self.sender}\\n\"\n",
    "            f\"To: {self.recipient}\\n\"\n",
    "            f\"{self.pretty_send_date()}\\n\"\n",
    "            f\"-------------------\\n\"\n",
    "            f\"Message: {self.content}\\n\"\n",
    "        )\n",
    "        if self.seen:\n",
    "            message = message + f\"(Seen)\"\n",
    "        return message.strip()\n",
    "\n",
    "\n",
    "def link_everyone(users):\n",
    "    for user in users:\n",
    "        for another_user in users:\n",
    "            if user != another_user:\n",
    "                user.add_contact(another_user)\n",
    "\n",
    "\n",
    "print(\"First example:\\n----\")\n",
    "anonymous = User(\"Zarop\")\n",
    "almog = User(\"Almog\")\n",
    "advertisement = \"Click to get your Cookie!\"\n",
    "message = Message(sender=anonymous, recipient=almog, content=advertisement)\n",
    "print(message)\n",
    "\n",
    "print(\"\\n\\nSecond example:\\n----\")\n",
    "users = [User(\"Athos\"), User(\"Porthos\"), User(\"Aramis\"), User(\"D'Artagnan\")]\n",
    "link_everyone(users)\n",
    "print(\"Contacts: \" + str(len(users[0].get_contacts())))\n",
    "message = Message(\n",
    "    sender=users[0],\n",
    "    recipient=users[1],\n",
    "    content=\"Tous pour un, un pour tous, c'est notre devise\"\n",
    ")\n",
    "print(message)\n",
    "message.mark_as_read()\n",
    "print(\"\\nAfter read:\\n\")\n",
    "print(message)"
   ]
  },
  {
   "cell_type": "markdown",
   "metadata": {},
   "source": [
    "<p style=\"text-align: right; direction: rtl; float: right; clear: both;\">\n",
    "    למה כדאי לשים לב בפתרון?\n",
    "</p>\n",
    "\n",
    "<ol style=\"text-align: right; direction: rtl; float: right; clear: both;\">\n",
    "    <li>אנחנו משתמשים בכימוס במשורה – רק כשזה משפר את התנהגות המחלקה.</li>\n",
    "    <li>מחלקת <var>User</var> מוכלת בתוך מחלקת <var>Message</var>.</li>\n",
    "    <li>לא הרשינו למספרים להסתובב בקוד – <var>SECONDS_UNTIL_DISCONNECTED</var> הוא משתנה מחלקה קבוע שערכו 60.</li>\n",
    "</ol>"
   ]
  },
  {
   "cell_type": "markdown",
   "metadata": {},
   "source": [
    "## <span style=\"text-align: right; direction: rtl; float: right; clear: both;\">תרגילים</span>"
   ]
  },
  {
   "cell_type": "markdown",
   "metadata": {},
   "source": [
    "### <span style=\"text-align: right; direction: rtl; float: right; clear: both;\">אורטל קומבט – חלק 2</span>"
   ]
  },
  {
   "cell_type": "markdown",
   "metadata": {},
   "source": [
    "#### <span style=\"text-align: right; direction: rtl; float: right; clear: both;\">Player</span>"
   ]
  },
  {
   "cell_type": "markdown",
   "metadata": {},
   "source": [
    "<p style=\"text-align: right; direction: rtl; float: right; clear: both;\">\n",
    "    במחלקת <var>Player</var> שבניתם, שנו את הפעולה <var>attack</var>.<br>\n",
    "    אם הפעולה לא מקבלת פרמטרים ואין לשחקן אויבים, היא תחזיר <samp>False</samp> במקום לזרוק <var>IndexError</var>.<br>\n",
    "    אם התקיפה הצליחה, הפעולה תחזיר <samp>True</samp>.\n",
    "</p>"
   ]
  },
  {
   "cell_type": "markdown",
   "metadata": {},
   "source": [
    "#### <span style=\"text-align: right; direction: rtl; float: right; clear: both;\">Arena</span>"
   ]
  },
  {
   "cell_type": "markdown",
   "metadata": {},
   "source": [
    "<p style=\"text-align: right; direction: rtl; float: right; clear: both;\">\n",
    "    ממשו מחלקת זירה בשם <var>Arena</var>.<br>\n",
    "    פעולת האתחול של <var>Arena</var> מקבלת את מספר השחקנים המרבי שאפשר להכניס לזירה.\n",
    "</p>"
   ]
  },
  {
   "cell_type": "markdown",
   "metadata": {},
   "source": [
    "<p style=\"text-align: right; direction: rtl; float: right; clear: both;\">\n",
    "    המחלקה תכיל לכל הפחות את התכונות הבאות:\n",
    "</p>"
   ]
  },
  {
   "cell_type": "markdown",
   "metadata": {},
   "source": [
    "<ul style=\"text-align: right; direction: rtl; float: right; clear: both;\">\n",
    "    <li><var>players</var> – מכילה את רשימת השחקנים בזירה.</li>\n",
    "    <li><var>next_player</var> – מכילה את השחקן שתורו לשחק כעת.</li>\n",
    "    <li><var>winner</var> – מכילה את השחקן שניצח, או <code>None</code> אם עדיין אין אחד כזה.</li>\n",
    "</ul>"
   ]
  },
  {
   "cell_type": "markdown",
   "metadata": {},
   "source": [
    "<p style=\"text-align: right; direction: rtl; float: right; clear: both;\">\n",
    "    במחלקה ימומשו גם הפעולות הבאות:\n",
    "</p>"
   ]
  },
  {
   "cell_type": "markdown",
   "metadata": {},
   "source": [
    "<ul style=\"text-align: right; direction: rtl; float: right; clear: both;\">\n",
    "    <li><var>hajime</var> – מתחיל את הקרב. החל משלב זה אי אפשר להוסיף או להסיר שחקנים מהזירה.</li>\n",
    "    <li><var>get_players</var> – מחזירה את רשימת השחקנים בזירה.</li>\n",
    "    <li><var>add_player</var> – הוסף שחקן לזירה. אם הוא כבר בזירה או אם הקרב כבר התחיל, מחזירה False.</li>\n",
    "    <li><var>remove_player</var> – מקבלת שחקן ומסירה אותו מהזירה. אם הוא אינו בזירה או אם הקרב כבר התחיל, מחזירה False.</li>\n",
    "    <li><var>make_move</var> – גורמת לשחקן שתורו כעת להפעיל פעולת <var>attack</var> ללא פרמטרים.<br>\n",
    "        אם הפעולה <var>attack</var> החזירה <samp>False</samp>, השחקן יבחר אויב חי אקראי מהזירה ויתקוף אותו.<br>\n",
    "    בסוף הפעולה, התור מועבר לשחקן הבא.</li>\n",
    "</ul>"
   ]
  },
  {
   "cell_type": "markdown",
   "metadata": {},
   "source": [
    "<p style=\"text-align: right; direction: rtl; float: right; clear: both;\">\n",
    "    ודאו שכל זמן שיש שחקנים בזירה, <var>next_player</var> מצביעה למופע של שחקן.<br>\n",
    "    אם אין שחקנים בזירה, בעת אתחול המחלקה למשל, שנו את ערכה של <var>next_player</var> ל־<code>None</code>.<br>\n",
    "</p>"
   ]
  },
  {
   "cell_type": "markdown",
   "metadata": {},
   "source": [
    "#### <span style=\"text-align: right; direction: rtl; float: right; clear: both;\">רמות ונקודות ניסיון</span>"
   ]
  },
  {
   "cell_type": "markdown",
   "metadata": {},
   "source": [
    "<p style=\"text-align: right; direction: rtl; float: right; clear: both;\">\n",
    "    כאשר שחקן א גורם לשחקן ב להיות מת ברובו, שחקן א יקבל מספר נקודות ניסיון לפי הנוסחה הבאה:\n",
    "</p>"
   ]
  },
  {
   "cell_type": "markdown",
   "metadata": {},
   "source": [
    "$$ EXP_{gain} = \\frac{L_{rival} \\cdot (2 \\cdot L_{rival} + 10)^{2.5}}{5 \\cdot (L_{rival} + L_{player} + 10) ^{2.5}} $$"
   ]
  },
  {
   "cell_type": "markdown",
   "metadata": {},
   "source": [
    "<p style=\"text-align: right; direction: rtl; float: right; clear: both;\">\n",
    "    כאשר $L_{rival}$ היא הרמה של המת ברובו (שחקן ב), ו־$L_{player}$ היא הרמה של המנצח (שחקן א).<br>\n",
    "    אם השחקן מת לחלוטין ולא רק מת ברובו, השחקן שניצח אותו מקבל פי 2 נקודות ניסיון.\n",
    "</p>"
   ]
  },
  {
   "cell_type": "markdown",
   "metadata": {},
   "source": [
    "<p style=\"text-align: right; direction: rtl; float: right; clear: both;\">\n",
    "    מספר נקודות הניסיון שיש להשיג בסך הכול כדי להגיע לרמה $L$ הוא:\n",
    "</p>"
   ]
  },
  {
   "cell_type": "markdown",
   "metadata": {},
   "source": [
    "$$ \\frac{4 \\cdot ({L-1})^{2.5}}{5} $$"
   ]
  },
  {
   "cell_type": "markdown",
   "metadata": {},
   "source": [
    "#### <span style=\"text-align: right; direction: rtl; float: right; clear: both;\">מתחילים לשחק</span>"
   ]
  },
  {
   "cell_type": "markdown",
   "metadata": {},
   "source": [
    "<p style=\"text-align: right; direction: rtl; float: right; clear: both;\">\n",
    "    ממשו סימולציית קרב:\n",
    "</p>"
   ]
  },
  {
   "cell_type": "markdown",
   "metadata": {},
   "source": [
    "<ul style=\"text-align: right; direction: rtl; float: right; clear: both;\">\n",
    "    <li>צרו זירה שיכולה להכיל עד 4 משתתפים, וצרפו אליה מספר כזה של שחקנים. התחילו את הקרב.</li>\n",
    "    <li>התורות במשחק עוברים משחקן אחד לשני, כך שבכל סיבוב כל אחד מהשחקנים החיים משחק פעם אחת.</li>\n",
    "    <li>אם השחקן מת ברובו – הוא יעשה <var>revive</var> כשיגיע תורו, ויתקוף מייד אחר כך. החייאה לא עולה תור.</li>\n",
    "    <li>כל שחקן יכול למות ברובו עד פעמיים – ובפעם השלישית שהוא מת הוא נחשב מת לחלוטין.</li>\n",
    "    <li>אם השחקן מת לחלוטין, פעולת <var>revive</var> על השחקן תחזיר <samp>False</samp>, תורות לא יעברו אליו ושחקנים לא יתקיפו אותו.</li>\n",
    "    <li>כאשר נשאר בזירה רק שחקן חי אחד – הוא מוכתר כמנצח של הזירה.</li>\n",
    "</ul>"
   ]
  },
  {
   "cell_type": "markdown",
   "metadata": {},
   "source": [
    "<p style=\"text-align: right; direction: rtl; float: right; clear: both;\">\n",
    "    הרגישו נוח להוסיף רכיבים לכל אחת מהמחלקות שלכם.<br>\n",
    "    תכנון נכון של המחלקות יאפשר לכם לצלוח את התרגיל בקלות רבה יותר.\n",
    "</p>"
   ]
  }
 ],
 "metadata": {
  "kernelspec": {
   "display_name": "Python 3",
   "language": "python",
   "name": "python3"
  },
  "language_info": {
   "codemirror_mode": {
    "name": "ipython",
    "version": 3
   },
   "file_extension": ".py",
   "mimetype": "text/x-python",
   "name": "python",
   "nbconvert_exporter": "python",
   "pygments_lexer": "ipython3",
   "version": "3.7.6"
  }
 },
 "nbformat": 4,
 "nbformat_minor": 2
}
