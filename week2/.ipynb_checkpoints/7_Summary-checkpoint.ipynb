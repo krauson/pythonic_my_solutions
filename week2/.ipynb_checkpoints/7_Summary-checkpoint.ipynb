{
 "cells": [
  {
   "cell_type": "markdown",
   "metadata": {},
   "source": [
    "<img src=\"images/logo.jpg\" style=\"display: block; margin-left: auto; margin-right: auto;\" alt=\"לוגו של מיזם לימוד הפייתון. נחש מצויר בצבעי צהוב וכחול, הנע בין האותיות של שם הקורס: לומדים פייתון. הסלוגן המופיע מעל לשם הקורס הוא מיזם חינמי ללימוד תכנות בעברית.\">"
   ]
  },
  {
   "cell_type": "markdown",
   "metadata": {},
   "source": [
    "# <p style=\"text-align:right;direction:rtl\">תרגילים</p>"
   ]
  },
  {
   "cell_type": "markdown",
   "metadata": {},
   "source": [
    "## <p style=\"text-align:right;direction:rtl;\">מערכת בנק</p>"
   ]
  },
  {
   "cell_type": "markdown",
   "metadata": {},
   "source": [
    "<p style=\"text-align:right; direction:rtl;\">\n",
    "בתרגיל הזה נכתוב מערכת מעט חכמה יותר לבנק.<br>\n",
    "    נבנה אותה בשלבים באמצעות חלוקה לפונקציות.<br>\n",
    "בשלב הראשון נבנה פונקציה למחולל סיסמאות, שמקבלת שם משתמש ומחזירה סיסמה.<br>\n",
    "הסיסמה תורכב כך עבור שם משתמש נתון:<br>\n",
    "\n",
    "<ul style=\"text-align:right; direction:rtl;\"><li>שם המשתמש באותיות קטנות ומייד אחריו שם המשתמש באותיות גדולות.\n",
    "    </li><li>הוספת האות <em>\"X\"</em> מימין לשם המשתמש, כמספר האותיות בשם המשתמש.</li></ul>\n",
    "</p>\n",
    "<p style=\"text-align:right;direction:rtl;\">שימו לב כי שם המשתמש יכול לכלול ספרות וסימנים, נוסף על אותיות.<br>\n",
    "    כמו כן, לא נאפשר שם משתמש שהוא מחרוזת ריקה. במקרה זה החזירו מחרוזת ריקה.<br>\n",
    "    <br> לדוגמה, עבור שם המשתמש <em>'stam'</em> המחולל יחזיר את הסיסמה: <samp>'stamSTAMXXXX'</samp><br>הריצו את הפונקציה על 4 דוגמאות נוספות לפחות, באורכים שונים, ובדקו שקיבלתם פלט כמצופה.</p>"
   ]
  },
  {
   "cell_type": "code",
   "execution_count": null,
   "metadata": {},
   "outputs": [],
   "source": [
    "def password_generator(param_username):\n",
    "\n",
    "    temp_username = param_username.strip()\n",
    "    password = \"\"\n",
    "    lower_username = temp_username.lower()\n",
    "    upper_username = temp_username.upper()\n",
    "    num_of_letter_in_username = len(temp_username)\n",
    "\n",
    "    password = lower_username + upper_username + 'X' * num_of_letter_in_username\n",
    "\n",
    "    return password"
   ]
  },
  {
   "cell_type": "markdown",
   "metadata": {},
   "source": [
    "<p style=\"text-align:right;direction:rtl;\">הריצו את הפונקציה כך: <code>password_generator('stam')</code>"
   ]
  },
  {
   "cell_type": "markdown",
   "metadata": {},
   "source": [
    "<p style=\"text-align:right;direction:rtl;\">כעת נקבל שם משתמש וסיסמה, ונבדוק אם השילוב הוא נכון. בדקו באמצעות מחולל הסיסמאות מהסעיף הקודם אם הסיסמה של המשתמש תואמת את הסיסמה שיוצר המחולל. הדפיסו \"ברוך הבא\" אם הסיסמה נכונה, אחרת הדפיסו \"סיסמה שגויה\".</p>\n",
    "<code>login('stam', 'stamSTAMXXXX')</code><br><samp>Welcome stam!</samp><br><br><code>login('stam', 'mats')</code><br><samp>Wrong Password!</samp>"
   ]
  },
  {
   "cell_type": "code",
   "execution_count": null,
   "metadata": {},
   "outputs": [],
   "source": [
    "def login(param_username , param_password):  \n",
    "\n",
    "    if password_generator(param_username) == param_password:\n",
    "        print(\"Welcome \" + param_username + \" !\")\n",
    "    else:\n",
    "        print(\"Wrong Password!\")"
   ]
  },
  {
   "cell_type": "markdown",
   "metadata": {},
   "source": [
    "<p style=\"text-align:right;direction:rtl;\">כתבו פונקציה שמחזירה <code>True</code>\n",
    "    אם בוצע חיבור מוצלח, אחרת החזירו <code>False</code>.<br>\n",
    "פונקציה זו דומה מאוד לפונקציה הקודמת שכתבתם, רק שהיא אינה מדפיסה דבר.<br> במקום ההדפסה יוחזר ערך בוליאני מתאים.<br>לדוגמה:<br></p><br><code>login('stam', stamSTAMXXXX')</code><br><samp>True</samp><br><code>login('stam', 'mats')</code><br><samp>False</samp><br>"
   ]
  },
  {
   "cell_type": "code",
   "execution_count": null,
   "metadata": {},
   "outputs": [],
   "source": [
    "def is_login_true(param_username , param_password):\n",
    "\n",
    "    return password_generator(param_username) == param_password"
   ]
  },
  {
   "cell_type": "markdown",
   "metadata": {},
   "source": [
    "<p style=\"text-align:right;direction:rtl;\">\n",
    " כעת ענו על השאלה הקודמת באמצעות הפונקציה שכתבתם בסעיף זה, כלומר כתבו פונקציה שמשתמשת בפונקציה המחזירה ערך בוליאני ומדפיסה בהתאם להוראת מהסעיף הקודם.<br>רמז: <span style=\"direction: rtl; background: #000; text: #000\">השתמשו בערך ההחזרה של הפונקציה מהסעיף הקודם, בתוך if.</span></p>\n"
   ]
  },
  {
   "cell_type": "code",
   "execution_count": null,
   "metadata": {},
   "outputs": [],
   "source": [
    "# כתבו את הפונקציה שלכם כאן"
   ]
  },
  {
   "cell_type": "markdown",
   "metadata": {},
   "source": [
    "<p style=\"text-align:right;direction:rtl;\">כעת נרחיב את מערכת הבנק שלנו.<br>\n",
    "    נניח כי לכל לקוח יש בחשבון הבנק 500 ש\"ח.<br>\n",
    "    באמצעות הפוקנציות הקודמות שכתבנו נממש את התוכנית הבאה:<br>\n",
    "<ul style=\"text-align:right; direction:rtl;\">\n",
    "    <li>נבקש מהמשתמש שם משתמש וסיסמה.</li>\n",
    "    <li>נאמת את שם המשתמש והסיסמה בעזרת מחולל הסיסמאות. אם האימות הצליח נדפיס: \n",
    "        <samp> ?Login succeeded. How much you'd like to withdraw </samp><br>\n",
    "        אחרת נדפיס: <samp>.Login failed</samp></li>\n",
    "    <li>כיון שלמשתמש יש 500 ש\"ח בחשבון, עלינו לוודא שסכום המשיכה אינו גבוה מ־500 ש\"ח. אם הסכום אכן גבוה מ־500 ש\"ח נדפיס: \n",
    "        <samp>.Withdrawal denied</samp></li>\n",
    "    <li>כמו כן, עלינו לוודא כי הסכום אינו שלילי או 0. במקרה זה נדפיס: \n",
    "        <samp>.Invalid amount</samp></li>\n",
    "    <li>אם הסכום חוקי, נדפיס: \n",
    "        <samp>.(Please take your money (amount asked). Your balance is: (amount left in balance</samp></li>\n",
    "</ul>\n",
    "</p>"
   ]
  },
  {
   "cell_type": "markdown",
   "metadata": {},
   "source": [
    "<p style=\"text-align:right;direction:rtl\">ציירו תחילה על דף תרשים זרימה של הקוד – תרשים מעויינים ללא קוד.\n",
    "זה יעזור לכם במימוש.</p"
   ]
  },
  {
   "cell_type": "markdown",
   "metadata": {},
   "source": [
    "### <p style=\"text-align: right; direction: rtl; float: right; clear: both;\">דוגמאות:</p>"
   ]
  },
  {
   "cell_type": "markdown",
   "metadata": {},
   "source": [
    "<p style=\"text-align: left; direction: ltr; float: left; clear: both;\">\n",
    "    Insert username: <samp>stam</samp><br>\n",
    "    Insert password: <samp>stamSTAMXXXX</samp><br>\n",
    "    Login succeeded. How much you'd like to withdraw? <samp>200</samp><br>\n",
    "    Please take your money (200NIS). Your balance is: 300NIS.\n",
    "</p>"
   ]
  },
  {
   "cell_type": "markdown",
   "metadata": {},
   "source": [
    "<p style=\"text-align: right; direction: rtl; float: right; clear: both;\">\n",
    "    דוגמה לסיסמה שגויה:\n",
    "</p>\n",
    "<p style=\"text-align: left; direction: ltr; float: left; clear: both;\">\n",
    "    Insert username: <samp>stam</samp><br>\n",
    "    Insert password: <samp>mats</samp><br>\n",
    "    Login failed.\n",
    "</p>"
   ]
  },
  {
   "cell_type": "markdown",
   "metadata": {},
   "source": [
    "<p style=\"text-align: right; direction: rtl; float: right; clear: both;\">\n",
    "    דוגמה למשיכה לא חוקית:\n",
    "</p>\n",
    "\n",
    "<p style=\"text-align: left; direction: ltr; float: left; clear: both;\">\n",
    "    Insert username: <samp>stam</samp><br>\n",
    "    Insert password: <samp>stamSTAMXXXX</samp><br>\n",
    "    Login succeeded. How much you'd like to withdraw? <samp>600</samp><br>\n",
    "    Withdrawal denied.\n",
    "</p>"
   ]
  },
  {
   "cell_type": "markdown",
   "metadata": {},
   "source": [
    "<p style=\"text-align:right;direction:rtl;\">דוגמה למשיכה של 0 ש\"ח:</p>\n",
    "\n",
    "<p style=\"text-align: left; direction: ltr; float: left; clear: both;\">\n",
    "    Insert username: <samp>stam</samp><br>\n",
    "    Insert password: <samp>stamSTAMXXXX</samp><br>\n",
    "    Login succeeded. How much you'd like to withdraw? <samp>0</samp><br>\n",
    "    Invalid amount.\n",
    "</p>"
   ]
  },
  {
   "cell_type": "code",
   "execution_count": 86,
   "metadata": {},
   "outputs": [
    {
     "name": "stdout",
     "output_type": "stream",
     "text": [
      "Enter your username:a\n",
      "Insert your password:aAX\n",
      "You are not a customer of the bank.\n"
     ]
    }
   ],
   "source": [
    "#upload 32\n",
    "\n",
    "def iscostumer(param_username):\n",
    "    costumers_list = [\"david\" , \"lior\" , \"gad\" , \"hagai\" , \"adi\" , \"yam\"]\n",
    "\n",
    "    return param_username in costumers_list\n",
    "\n",
    "def password_generator(param_username):\n",
    "\n",
    "    temp_username = param_username.strip()\n",
    "    password = \"\"\n",
    "    lower_username = temp_username.lower()\n",
    "    upper_username = temp_username.upper()\n",
    "    num_of_letter_in_username = len(temp_username)\n",
    "\n",
    "    password = lower_username + upper_username + 'X' * num_of_letter_in_username\n",
    "\n",
    "    return password\n",
    "\n",
    "def is_login_valid(param_username , param_password):\n",
    "\n",
    "    return password_generator(param_username) == param_password\n",
    "\n",
    "def login(param_username , param_password):  \n",
    "\n",
    "    if password_generator(param_username) == param_password:\n",
    "        print(\"Welcome \" + param_username + \" !\")\n",
    "    else:\n",
    "        print(\"Wrong Password!\")\n",
    "    \n",
    "def withdraw():\n",
    "\n",
    "    balance = 500\n",
    "\n",
    "    amount = int(input(\"Login succeeded, How much you'd like to withdraw?\"))\n",
    "\n",
    "    if amount > 500:\n",
    "        print(\"Withdrawal denied.\")\n",
    "    elif amount <= 0:\n",
    "        print(\"Invalid amount.\")\n",
    "    else:\n",
    "        balance -= amount\n",
    "        print(\"Please take your money (\" + str(amount) + \" NIS).your balance is \" + str(balance) + \"NIS.\")\n",
    "    \n",
    "def intial():\n",
    "    username = input(\"Enter your username:\")\n",
    "    password = input(\"Insert your password:\")\n",
    "\n",
    "    if is_login_valid(username , password):\n",
    "        if(iscostumer(username)):\n",
    "            withdraw()\n",
    "        else:\n",
    "            print(\"You are not a customer of the bank.\")\n",
    "    else:\n",
    "        print(\"Login failed\")\n",
    "\n",
    "intial()          "
   ]
  },
  {
   "cell_type": "markdown",
   "metadata": {},
   "source": [
    "<p style=\"text-align: right; direction: rtl; float: right; clear: both;\">\n",
    "    לאחרונה עלתה דרישה לשכלל את הבנק שלנו, כך שרק מספר מצומצם של לקוחות יוכלו לגשת לבנק.<br>\n",
    "    הגדירו רשימה של שמות של לקוחות שעבורם יתאפשר החיבור.<br>\n",
    "    עבור לקוחות שאינם ברשימה יכתוב הבנק <samp>You are not a customer of the bank</samp>.\n",
    "</p>"
   ]
  },
  {
   "cell_type": "code",
   "execution_count": null,
   "metadata": {},
   "outputs": [],
   "source": [
    "# כתבו את הפונקציה שלכם כאן"
   ]
  },
  {
   "cell_type": "markdown",
   "metadata": {},
   "source": [
    "## <p style=\"text-align:right;direction:rtl;\">מתודות של מחרוזות</p>"
   ]
  },
  {
   "cell_type": "markdown",
   "metadata": {},
   "source": [
    "<p style=\"text-align:right;direction:rtl;\"> ניזכר בכמה פעולות של מחרוזות:<br>לכל אחד מהתרגילים הבאים הריצו את הדוגמה וכתבו בעצמכם 3 דוגמאות נוספות. הסבירו לעצמכם מה עושה כל מתודה למחרוזת שהיא מקבלת.<br>\n",
    "אם תרצו להיזכר מה עושה מתודה מסוימת תוכלו להריץ אותה כך:<br></p>\n",
    "<code>str.method-name?</code>\n",
    "<p style=\"text-align:right;direction:rtl;\"> לדוגמה:<br></p>\n",
    "<code>str.split?</code><br>\n",
    "<p style=\"text-align:right;direction:rtl;\"> הריצו את התא הבא לקבלת מידע על המתודה <em>split</em>:<br></p>\n"
   ]
  },
  {
   "cell_type": "code",
   "execution_count": 1,
   "metadata": {},
   "outputs": [
    {
     "data": {
      "text/plain": [
       "False"
      ]
     },
     "execution_count": 1,
     "metadata": {},
     "output_type": "execute_result"
    }
   ],
   "source": [
    "#upload 33\n",
    "\"abcdef:ghijk:xyz\".split(\":\")\n",
    "\n",
    "\"ganan#$%gidel#$%dagan#$%bagan\".split(\"#$%\")\n",
    "\n",
    "\"who let the dogs out?\".split()\n",
    "\n",
    "\"Hello, is me your'e looking for?\".split('y')\n",
    "\n",
    "\"543\".zfill(25)\n",
    "\n",
    "\"zerooooo\".zfill(26)\n",
    "\n",
    "\"what else can I do?\".zfill(100)\n",
    "\n",
    "\"now i am a lowercase string, one day i will be upper\".upper()\n",
    "\n",
    "\"this is a very important message\".upper()\n",
    "\n",
    "\"convert to upper\".upper()\n",
    "\n",
    "\"Capital letters\".upper()\n",
    "\n",
    "str.upper?\n",
    "\n",
    "\"I AM AN UPPERCASE STRING. I AM AFRAID TO BE LOWERED!\".lower()\n",
    "\n",
    "\"GET LOW GET LOW GET LOW\".lower()\n",
    "\n",
    "\"not AN IMPOTANT MESSAGE\".lower()\n",
    "\n",
    "\"ANOTHER ONE BITES THE DUST\".lower()\n",
    "\n",
    "\"wow!_I_am_using_underscore_as_space!\".replace(\"_\", \" \")\n",
    "\n",
    "\"kneel before your king !\".replace(\"king\" , \"mother\")\n",
    "\n",
    "\"I LOVE YOU\".replace(\"YOU\" , \"ME:)\")\n",
    "\n",
    "\"I'm blue da bu di da bu dye, da bu di da bu dye \".replace(\"da bu di da bu dye\" , \"if I was green I would dye\")\n",
    "\n",
    "\"                    i need some spaceeeeeeee                            \".strip()\n",
    "\n",
    "\"I want to a bilionare , I want to be the king\".strip(\"k\")\n",
    "\n",
    "\"            do you want to go out of space?       \".strip()\n",
    "\n",
    "\"    another message   \".strip()\n",
    "\n",
    "\"i^wonder&if@all##characters$in%%%this string are alpha-numeric???\".isalnum()\n",
    "\n",
    "\"onlylettersandnumbers2342343\".isalnum()\n",
    "\n",
    "\"thisisalphnumeric1\".isalnum()\n",
    "\n",
    "\"this is not alphnum because of the spaces\".isalnum()\n",
    "\n",
    "\"1a\".isalnum()\n",
    "\n",
    "\"lettersonly\".isalpha()\n",
    "\n",
    "\"not1only1letters\".isalpha()\n",
    "\n",
    "\"121232123 \".isalpha()\n",
    "\n",
    "\"abc\".isalpha()\n",
    "\n",
    "\"4535354353\".isdecimal()\n",
    "\n",
    "\"123\".isdecimal()\n",
    "\n",
    "\"ab123\".isdecimal()\n",
    "\n",
    "\"1283723980-\".isdecimal()"
   ]
  },
  {
   "cell_type": "markdown",
   "metadata": {},
   "source": [
    "<p style=\"text-align:right;direction:rtl;\">בשאלה זו נכתוב גרסה של שעון עולמי התומך ב־4 אזורי זמן:<br>\n",
    "\n",
    "<ul style=\"text-align: right; direction: rtl; float: right; clear: both;\">\n",
    "    <li>תל אביב – TLV</li>\n",
    "    <li>לונדון – LDN</li>\n",
    "    <li>ניו יורק – NYC</li>\n",
    "    <li>טוקיו – TYO</li>\n",
    "</ul>\n",
    "\n",
    "<p style=\"text-align: right; direction: rtl; float: right; clear: both;\">\n",
    "אם נקבל תל אביב, נחזיר את השעה בתוספת 3 שעות.<br>\n",
    "אם נקבל ניו יורק נחזיר את השעה פחות 4.<br>\n",
    "אם נקבל טוקיו נחזיר את השעה ועוד 9.<br>\n",
    "בכל מקרה אחר נחזיר את השעה כמו שקיבלנו אותה.\n",
    "</p>\n"
   ]
  },
  {
   "cell_type": "markdown",
   "metadata": {},
   "source": [
    "<p style=\"text-align:right;direction:rtl;\">השעון שלנו בתרגיל זה הוא שעון 24 שעות בפורמט HH:MM.</p>\n",
    "<p style=\"text-align:right;direction:rtl;\">תחילה, כתבו פונקציה המקבלת את השעה בפורמט HH:MM, ומקבלת את מספר השעות שיש להוסיף או להוריד מהשעה הנתונה, ומחזירה את השעה המעודכנת.</p><br>\n",
    "<code>time_shift(\"08:44\", 1)</code><br>\n",
    "<samp style=\"text-align:left;direction:ltr;\">\"09:44\"</samp><br>\n",
    "<code>time_shift(\"07:31\", -2)</code><br>\n",
    "<samp>\"05:31\"</samp>\n",
    "<p style=\"text-align:right;direction:rtl;\">כמו כן עליכם לוודא שמוכנסת שעה חוקית, ולהדפיס שגיאה אם לא:</p><br>\n",
    "<code>time_shift(\"32:12\", 4)</code><br>\n",
    "<samp>\"Invalid time inserted\"</samp>\n",
    "<p style=\"text-align:right;direction:rtl;\">נוסף לכך, עליכם לתמוך במעברים בין יממות. כלומר עליכם לבצע נכון פעולות מסוג זה:</p><br>\n",
    "<code>time_shift(\"23:30\", 2)</code><br>\n",
    "<samp>\"01:30\"</samp><br>\n",
    "<code>time_shift(\"04:13\", -5)</code><br>\n",
    "<samp>\"23:13\"</samp>"
   ]
  },
  {
   "cell_type": "code",
   "execution_count": 87,
   "metadata": {},
   "outputs": [
    {
     "name": "stdout",
     "output_type": "stream",
     "text": [
      "14:13\n"
     ]
    }
   ],
   "source": [
    "#upload 34\n",
    "def time_shift(param_time , param_shift_in_hours):\n",
    "\n",
    "    hours_and_minutes = param_time.split(\":\")\n",
    "    temp_hours = int(hours_and_minutes[0])\n",
    "    input_minutes = int(hours_and_minutes[1])\n",
    "    updated_hours = 0\n",
    "\n",
    "    if temp_hours >= 24 or input_minutes >= 60 :  \n",
    "        print(\"Invalid time inserted.\")\n",
    "        return\n",
    "    else:\n",
    "        temp_hours = (temp_hours + param_shift_in_hours) % 24\n",
    "\n",
    "        if temp_hours < 0:\n",
    "             temp_hours = temp_hours + 24\n",
    "        \n",
    "        temp_hours = str(temp_hours).zfill(2)\n",
    "      \n",
    "    time = str(temp_hours) + \":\" + str(input_minutes)\n",
    "        \n",
    "    print(time)\n",
    "    \n",
    "time_shift(\"02:13\" , -12) "
   ]
  },
  {
   "cell_type": "markdown",
   "metadata": {},
   "source": [
    "## <p style=\"text-align:right;direction:right;\">רמזים</p>"
   ]
  },
  {
   "cell_type": "markdown",
   "metadata": {},
   "source": [
    "<p style=\"text-align:right;direction:rtl;\">פונקציות שימושיות:\n",
    "    <span style=\"direction: rtl; background: #000; text: #000\"><br><em>split</em> – מתודה של <em>string</em>.<br>\n",
    "        האופרטור % (מודולו) – חשבו עם איזה מספר צריך לעשות מודולו.<br>\n",
    "        <em>zfill</em> – השתמשו בה במקרה שהשעה חד־ספרתית (לדוגמה 1:05 תהפוך ל־01:05) </span>\n",
    "   \n",
    "<p style=\"text-align:right;direction:rtl;\">רמזים נוספים:<br>\n",
    "    <span style=\"direction: rtl; background: #000; text: #000\">מומלץ להמיר את השעה מ־<em>string</em> ל־<em>int</em> ואז לבצע את פעולות החשבון, ולבסוף להמיר חזרה ל־<em>string</em>\n",
    "    </span>\n",
    "</p>"
   ]
  },
  {
   "cell_type": "markdown",
   "metadata": {},
   "source": [
    "<p style=\"text-align:right;direction:rtl;\"> כעת כתבו פונקציה המקבלת שני פרמטרים – שעה ואזור זמן ובאמצעות הפונקציה מהתרגיל הקודם מחזירה את השעה באזור הזמן המבוקש.\n",
    "<br>\n",
    "    לדוגמה:\n",
    "</p>\n",
    "<p style=\"text-align:left;direction:ltr;\">\n",
    "    <code>convert_to_timezone(\"10:34\", \"TLV\")</code>\n",
    "    <br>\n",
    "    <samp>\"13:34\"</samp>\n",
    "</p>"
   ]
  },
  {
   "cell_type": "code",
   "execution_count": null,
   "metadata": {},
   "outputs": [],
   "source": [
    "#upload 34\n",
    "def convert_to_timezone(param_time , param_zone):\n",
    "\n",
    "    if param_zone == \"TLV\":\n",
    "        shift_in_hours = 3\n",
    "\n",
    "    elif param_zone == \"NYC\":\n",
    "        shift_in_hours = -4\n",
    "\n",
    "    elif param_zone == \"TYO\":\n",
    "        shift_in_hours = +9\n",
    "\n",
    "    else:\n",
    "        shift_in_hours = 0\n",
    "\n",
    "    time_shift(param_time , shift_in_hours)"
   ]
  },
  {
   "cell_type": "markdown",
   "metadata": {},
   "source": [
    "## <span style=\"text-align: right; direction:rtl; float: right; clear: both;\">אורכי רשימות</span>"
   ]
  },
  {
   "cell_type": "markdown",
   "metadata": {},
   "source": [
    "<p style=\"text-align: right; direction: rtl; float: right; clear: both;\">\n",
    "    כתבו תוכנית שמקבלת 2 רשימות שונות, ומדפיסה:\n",
    "</p>\n",
    "\n",
    "<ul style=\"text-align: right; direction: rtl; float: right; clear: both;\">\n",
    " <li>\"<samp>Same length</samp>\" אם הן באותו אורך.</li>\n",
    " <li>\"<samp>Not same length</samp>\" אם הן באורך שונה.</li>\n",
    " <li>\"<samp>Got empty list</samp>\" אם רשימה שקיבלנו היא באורך 0.</li>\n",
    "</ul>\n",
    "\n",
    "<p style=\"text-align: right; direction: rtl; float: right; clear: both;\">\n",
    "    לדוגמה – אם קיבלנו 2 רשימות ריקות, נדפיס:<br>\n",
    "    <samp style=\"text-align: left; direction: ltr; float: left; clear: both;\">\n",
    "        \"Got empty list\"\n",
    "        \"Got empty list\"\n",
    "        \"Same length\"\n",
    "    </samp>\n",
    "</p>"
   ]
  },
  {
   "cell_type": "code",
   "execution_count": null,
   "metadata": {},
   "outputs": [],
   "source": [
    "#upload 35\n",
    "def compare_lists(list1 , list2):\n",
    "\n",
    "    if len(list1) == 0:\n",
    "        print(\"Got empty list\")\n",
    "\n",
    "    if len(list2) == 0:\n",
    "        print(\"Got empty list\")\n",
    "\n",
    "    if len(list1) == len(list2):\n",
    "        print(\"Same length\")\n",
    "    else:\n",
    "        print(\"Not same length\")"
   ]
  },
  {
   "cell_type": "markdown",
   "metadata": {},
   "source": [
    "## <span style=\"text-align: right; direction:rtl; float: right; clear: both;\">מיקומים</span>"
   ]
  },
  {
   "cell_type": "markdown",
   "metadata": {},
   "source": [
    "<p style=\"text-align: right; direction: rtl; float: right; clear: both;\">\n",
    "כתבו פונקציה שמקבלת רשימה של רשימות.<br>\n",
    "אם הרשימה החיצונית לא באורך 6, הפונקציה תדפיס <samp>Only lists of length 6 are allowed</samp>.<br>\n",
    "הפונקציה תדפיס \"<samp dir=\"ltr\">Yes!</samp>\" אם אחד מהבאים מתקיים:\n",
    "</p>\n",
    "\n",
    "<ul style=\"text-align: right; direction: rtl; float: right; clear: both;\">\n",
    "    <li>אורך הרשימה במקום ה־0 שווה לאורך הרשימה במקום ה־4</li>\n",
    "    <li>אורך הרשימה במקום ה־3 שווה לאורך הרשימה במקום ה־2 וה־1</li>\n",
    "    <li>אורך הרשימה במקום ה־5 שווה שווה לאורך הרשימה במקום ה־3</li>\n",
    "</ul>\n",
    "   \n",
    "<p style=\"text-align: right; direction: rtl; float: right; clear: both;\">\n",
    "הפונקציה תדפיס \"<samp dir=\"ltr\">Yes!</samp>\" עבור כל תנאי שמתקיים, גם אם קיים יותר מאחד כזה.<br>\n",
    "לדוגמה, עבור:<br>\n",
    "<code dir=\"ltr\" style=\"direction: ltr;\">multi = [[0], [1], [2], [3], [4], [5]]</code><br>\n",
    "כל התנאים מתקיימים, ולכן נדפיס \"<samp dir=\"ltr\">Yes!</samp>\" 3 פעמים.\n",
    "</p>\n",
    "\n",
    "<p style=\"text-align: right; direction: rtl; float: right; clear: both;\">\n",
    "כתבו לפחות 3 דוגמאות שונות שמדגימות:\n",
    "</p>\n",
    "\n",
    "<ul style=\"text-align: right; direction: rtl; float: right; clear: both;\">\n",
    "    <li>אפס הדפסות</li>\n",
    "    <li>הדפסה אחת</li>\n",
    "    <li>שתי הדפסות</li>\n",
    "    <li>שלוש הדפסות</li>\n",
    "</ul>"
   ]
  },
  {
   "cell_type": "code",
   "execution_count": null,
   "metadata": {},
   "outputs": [],
   "source": [
    "#upload 36\n",
    "def list_of_lists(param_list_of_lists):\n",
    "\n",
    "    if len(param_list_of_lists) != 6:\n",
    "        print(\"Only lists of length 6 are allowed.\")\n",
    "        return\n",
    "\n",
    "    if len(param_list_of_lists[0]) == len(param_list_of_lists[4]):\n",
    "        print(\"Yes!\")\n",
    "\n",
    "    if len(param_list_of_lists[3]) == len(param_list_of_lists[2]) == len(param_list_of_lists[1]):\n",
    "        print(\"Yes!\")\n",
    "\n",
    "    if len(param_list_of_lists[5]) == len(param_list_of_lists[3]):\n",
    "        print(\"Yes!\")   \n",
    "\n",
    "    return\n",
    "\n",
    "#3yes\n",
    "list9 = [[0 , 1 , 2], [1 , 1 , 0], [2 , 3 , 1], [3 ,2 , 2], [4 , 2 , 4], [5 ,1 , 2]]\n",
    "\n",
    "list8 = [[0 , 1], [1 , 1], [2 , 3], [3 ,2], [4 , 2], [5 ,1]]\n",
    "\n",
    "list7 = [[0 , 1], [1 , 1], [2 , 3], [3 ,2], [4 , 2], [5 ,1]]\n",
    "\n",
    "multi = [[0], [1], [2], [3], [4], [5]]\n",
    "\n",
    "#2yes\n",
    "\n",
    "list4 = [[0 , 2 , 1] , [1], [2 , 2 ,3] , [3 , 4 ,2 ] , [4 , 3 , 1] , [5 , 3 , 1]]\n",
    "\n",
    "list5 = [[0 , 2 , 1] , [1 ,2], [2 , 2 ,3] , [3 , 4 ,2 ] , [4 , 3 , 1] , [5 , 3 , 1]]\n",
    "\n",
    "list6 = [[0 , 2 , 1] , [1 ,2], [2 , 2 ,3 , 1] , [3 , 4 ,2 ] , [4 , 3 , 1] , [5 , 3 , 1]]\n",
    "\n",
    "\n",
    "#1yes\n",
    "\n",
    "list1 = [[0 , 2], [1], [2], [3], [4], [5 , 3]]\n",
    "\n",
    "list2 = [[0 , 2 , 3], [1], [2], [3], [4], [5 , 3 , 9]]\n",
    "\n",
    "list3 = [[0 , 2 , 1], [1], [2], [3], [4], [5 , 3]]\n",
    "\n",
    "#0yes\n",
    "\n",
    "list10 = [[0], [1 , 1 ], [2 , 3 , 1], [3 ,2 , 2 , 7], [4 , 2 , 4 , 0 , 2], [5 ,1 , 2 ,2 , 3, 1]]\n",
    "\n",
    "list11 = [[0], [1 , 1 ], [2 ,  1], [3 ,2 , 2 , 7], [4 , 2 , 4 , 0 , 2], [5 ,1 , 2 ,2 , 3, 1]]\n",
    "\n",
    "list12 = [[0], [1 , 1 ], [2 ,  1], [3 ,2 , 2 , 7, 8], [4 , 2 , 4 , 0 , 2], [5 ,1 , 2 ,2 , 3, 1]]\n",
    "\n",
    "list_of_lists(list12)"
   ]
  }
 ],
 "metadata": {
  "kernelspec": {
   "display_name": "Python 3",
   "language": "python",
   "name": "python3"
  },
  "language_info": {
   "codemirror_mode": {
    "name": "ipython",
    "version": 3
   },
   "file_extension": ".py",
   "mimetype": "text/x-python",
   "name": "python",
   "nbconvert_exporter": "python",
   "pygments_lexer": "ipython3",
   "version": "3.7.6"
  }
 },
 "nbformat": 4,
 "nbformat_minor": 2
}
